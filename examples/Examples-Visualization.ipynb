{
 "cells": [
  {
   "cell_type": "code",
   "execution_count": 4,
   "id": "eb959427",
   "metadata": {},
   "outputs": [],
   "source": [
    "import urllib.request\n",
    "import json\n",
    "import pandas as pd\n",
    "\n",
    "propertyid = \"Property:P856\"\n",
    "url = (\n",
    "    \"https://www.wikidata.org/w/api.php?action=query&prop=revisions&titles=\"\n",
    "    + propertyid\n",
    "    + \"&rvprop=timestamp|comment|ids&rvlimit=500&format=json\"\n",
    ")\n",
    "response = urllib.request.urlopen(url)\n",
    "responsedata = json.loads(response.read().decode(\"utf-8\"))"
   ]
  },
  {
   "cell_type": "code",
   "execution_count": 5,
   "id": "448ded27",
   "metadata": {},
   "outputs": [
    {
     "name": "stdout",
     "output_type": "stream",
     "text": [
      "dict_keys(['revid', 'parentid', 'timestamp', 'comment'])\n"
     ]
    }
   ],
   "source": [
    "array = []\n",
    "\n",
    "for data in responsedata[\"query\"][\"pages\"]:\n",
    "    for revision in responsedata[\"query\"][\"pages\"][data][\"revisions\"]:\n",
    "        print(revision.keys())\n",
    "        break"
   ]
  },
  {
   "cell_type": "code",
   "execution_count": 6,
   "id": "c3b5ad42-bc2f-488d-9c83-f576a437155b",
   "metadata": {},
   "outputs": [
    {
     "data": {
      "text/plain": [
       "dict_keys(['revid', 'parentid', 'timestamp', 'comment'])"
      ]
     },
     "execution_count": 6,
     "metadata": {},
     "output_type": "execute_result"
    }
   ],
   "source": [
    "result = list(responsedata[\"query\"][\"pages\"].values())[0]\n",
    "revisions = result[\"revisions\"]\n",
    "revision = result[\"revisions\"][0].keys()\n",
    "revision"
   ]
  },
  {
   "cell_type": "code",
   "execution_count": 7,
   "id": "04087b61",
   "metadata": {},
   "outputs": [],
   "source": [
    "array = []\n",
    "\n",
    "for revision in revisions:\n",
    "    array.append([revision[\"timestamp\"], revision[\"comment\"]])"
   ]
  },
  {
   "cell_type": "code",
   "execution_count": 8,
   "id": "d30e6fa3",
   "metadata": {},
   "outputs": [
    {
     "data": {
      "text/plain": [
       "[['2025-02-11T14:11:42Z',\n",
       "  '/* wbsetaliases-remove:1|en-gb */ official homepage']]"
      ]
     },
     "execution_count": 8,
     "metadata": {},
     "output_type": "execute_result"
    }
   ],
   "source": [
    "array[:1]"
   ]
  },
  {
   "cell_type": "code",
   "execution_count": 9,
   "id": "f4aafcfa",
   "metadata": {},
   "outputs": [
    {
     "data": {
      "text/html": [
       "<div>\n",
       "<style scoped>\n",
       "    .dataframe tbody tr th:only-of-type {\n",
       "        vertical-align: middle;\n",
       "    }\n",
       "\n",
       "    .dataframe tbody tr th {\n",
       "        vertical-align: top;\n",
       "    }\n",
       "\n",
       "    .dataframe thead th {\n",
       "        text-align: right;\n",
       "    }\n",
       "</style>\n",
       "<table border=\"1\" class=\"dataframe\">\n",
       "  <thead>\n",
       "    <tr style=\"text-align: right;\">\n",
       "      <th></th>\n",
       "      <th>timestamp</th>\n",
       "      <th>modification</th>\n",
       "    </tr>\n",
       "  </thead>\n",
       "  <tbody>\n",
       "    <tr>\n",
       "      <th>0</th>\n",
       "      <td>2025-02-11</td>\n",
       "      <td>/* wbsetaliases-remove:1|en-gb */ official hom...</td>\n",
       "    </tr>\n",
       "    <tr>\n",
       "      <th>1</th>\n",
       "      <td>2025-02-11</td>\n",
       "      <td>/* wbsetaliases-remove:9|en-ca */ website, hom...</td>\n",
       "    </tr>\n",
       "    <tr>\n",
       "      <th>2</th>\n",
       "      <td>2025-02-11</td>\n",
       "      <td>/* wbsetdescription-remove:1|en-gb */ URL of t...</td>\n",
       "    </tr>\n",
       "    <tr>\n",
       "      <th>3</th>\n",
       "      <td>2025-02-11</td>\n",
       "      <td>/* wbsetdescription-remove:1|en-ca */ URL of t...</td>\n",
       "    </tr>\n",
       "    <tr>\n",
       "      <th>4</th>\n",
       "      <td>2025-02-11</td>\n",
       "      <td>/* wbsetlabel-remove:1|en-ca */ official website</td>\n",
       "    </tr>\n",
       "    <tr>\n",
       "      <th>...</th>\n",
       "      <td>...</td>\n",
       "      <td>...</td>\n",
       "    </tr>\n",
       "    <tr>\n",
       "      <th>495</th>\n",
       "      <td>2020-12-02</td>\n",
       "      <td>/* wbeditentity-update-languages-short:0||fa */</td>\n",
       "    </tr>\n",
       "    <tr>\n",
       "      <th>496</th>\n",
       "      <td>2020-11-24</td>\n",
       "      <td>/* wbsetaliases-update:7|fr */ URL officielle,...</td>\n",
       "    </tr>\n",
       "    <tr>\n",
       "      <th>497</th>\n",
       "      <td>2020-11-22</td>\n",
       "      <td>/* undo:0||1311009051|마인드 */</td>\n",
       "    </tr>\n",
       "    <tr>\n",
       "      <th>498</th>\n",
       "      <td>2020-11-22</td>\n",
       "      <td>/* wbsetclaim-update:2||1|1 */ [[Property:P230...</td>\n",
       "    </tr>\n",
       "    <tr>\n",
       "      <th>499</th>\n",
       "      <td>2020-11-07</td>\n",
       "      <td>/* wbsetqualifier-add:1| */ [[Property:P2306]]...</td>\n",
       "    </tr>\n",
       "  </tbody>\n",
       "</table>\n",
       "<p>500 rows × 2 columns</p>\n",
       "</div>"
      ],
      "text/plain": [
       "     timestamp                                       modification\n",
       "0   2025-02-11  /* wbsetaliases-remove:1|en-gb */ official hom...\n",
       "1   2025-02-11  /* wbsetaliases-remove:9|en-ca */ website, hom...\n",
       "2   2025-02-11  /* wbsetdescription-remove:1|en-gb */ URL of t...\n",
       "3   2025-02-11  /* wbsetdescription-remove:1|en-ca */ URL of t...\n",
       "4   2025-02-11   /* wbsetlabel-remove:1|en-ca */ official website\n",
       "..         ...                                                ...\n",
       "495 2020-12-02    /* wbeditentity-update-languages-short:0||fa */\n",
       "496 2020-11-24  /* wbsetaliases-update:7|fr */ URL officielle,...\n",
       "497 2020-11-22                       /* undo:0||1311009051|마인드 */\n",
       "498 2020-11-22  /* wbsetclaim-update:2||1|1 */ [[Property:P230...\n",
       "499 2020-11-07  /* wbsetqualifier-add:1| */ [[Property:P2306]]...\n",
       "\n",
       "[500 rows x 2 columns]"
      ]
     },
     "execution_count": 9,
     "metadata": {},
     "output_type": "execute_result"
    }
   ],
   "source": [
    "dataframe = pd.DataFrame(array, columns=[\"timestamp\", \"modification\"])\n",
    "dataframe['timestamp'] = pd.to_datetime(dataframe['timestamp'], format='%Y-%m-%dT%H:%M:%SZ')\n",
    "dataframe = dataframe.astype(\n",
    "    dtype={\"modification\": \"<U1000\"}\n",
    ")\n",
    "\n",
    "dataframe[\"timestamp\"] = pd.to_datetime(\n",
    "    dataframe[\"timestamp\"],\n",
    "    format=\"%d/%m/%Y\",\n",
    "    unit=\"D\",\n",
    "    errors=\"raise\",\n",
    ").dt.normalize()\n",
    "dataframe"
   ]
  },
  {
   "cell_type": "code",
   "execution_count": 10,
   "id": "023886eb",
   "metadata": {},
   "outputs": [
    {
     "data": {
      "text/html": [
       "<div>\n",
       "<style scoped>\n",
       "    .dataframe tbody tr th:only-of-type {\n",
       "        vertical-align: middle;\n",
       "    }\n",
       "\n",
       "    .dataframe tbody tr th {\n",
       "        vertical-align: top;\n",
       "    }\n",
       "\n",
       "    .dataframe thead th {\n",
       "        text-align: right;\n",
       "    }\n",
       "</style>\n",
       "<table border=\"1\" class=\"dataframe\">\n",
       "  <thead>\n",
       "    <tr style=\"text-align: right;\">\n",
       "      <th></th>\n",
       "      <th>timestamp</th>\n",
       "      <th>modification</th>\n",
       "    </tr>\n",
       "  </thead>\n",
       "  <tbody>\n",
       "    <tr>\n",
       "      <th>0</th>\n",
       "      <td>2020-11-07</td>\n",
       "      <td>1</td>\n",
       "    </tr>\n",
       "    <tr>\n",
       "      <th>1</th>\n",
       "      <td>2020-11-22</td>\n",
       "      <td>2</td>\n",
       "    </tr>\n",
       "    <tr>\n",
       "      <th>2</th>\n",
       "      <td>2020-11-24</td>\n",
       "      <td>1</td>\n",
       "    </tr>\n",
       "    <tr>\n",
       "      <th>3</th>\n",
       "      <td>2020-12-02</td>\n",
       "      <td>1</td>\n",
       "    </tr>\n",
       "    <tr>\n",
       "      <th>4</th>\n",
       "      <td>2020-12-15</td>\n",
       "      <td>7</td>\n",
       "    </tr>\n",
       "    <tr>\n",
       "      <th>...</th>\n",
       "      <td>...</td>\n",
       "      <td>...</td>\n",
       "    </tr>\n",
       "    <tr>\n",
       "      <th>231</th>\n",
       "      <td>2024-12-24</td>\n",
       "      <td>7</td>\n",
       "    </tr>\n",
       "    <tr>\n",
       "      <th>232</th>\n",
       "      <td>2024-12-30</td>\n",
       "      <td>6</td>\n",
       "    </tr>\n",
       "    <tr>\n",
       "      <th>233</th>\n",
       "      <td>2025-01-02</td>\n",
       "      <td>1</td>\n",
       "    </tr>\n",
       "    <tr>\n",
       "      <th>234</th>\n",
       "      <td>2025-01-31</td>\n",
       "      <td>1</td>\n",
       "    </tr>\n",
       "    <tr>\n",
       "      <th>235</th>\n",
       "      <td>2025-02-11</td>\n",
       "      <td>6</td>\n",
       "    </tr>\n",
       "  </tbody>\n",
       "</table>\n",
       "<p>236 rows × 2 columns</p>\n",
       "</div>"
      ],
      "text/plain": [
       "     timestamp  modification\n",
       "0   2020-11-07             1\n",
       "1   2020-11-22             2\n",
       "2   2020-11-24             1\n",
       "3   2020-12-02             1\n",
       "4   2020-12-15             7\n",
       "..         ...           ...\n",
       "231 2024-12-24             7\n",
       "232 2024-12-30             6\n",
       "233 2025-01-02             1\n",
       "234 2025-01-31             1\n",
       "235 2025-02-11             6\n",
       "\n",
       "[236 rows x 2 columns]"
      ]
     },
     "execution_count": 10,
     "metadata": {},
     "output_type": "execute_result"
    }
   ],
   "source": [
    "group = dataframe.groupby(\"timestamp\").agg(\"count\").reset_index()\n",
    "group"
   ]
  },
  {
   "cell_type": "code",
   "execution_count": 11,
   "id": "bf0219c3",
   "metadata": {},
   "outputs": [
    {
     "data": {
      "text/html": [
       "<div>\n",
       "<style scoped>\n",
       "    .dataframe tbody tr th:only-of-type {\n",
       "        vertical-align: middle;\n",
       "    }\n",
       "\n",
       "    .dataframe tbody tr th {\n",
       "        vertical-align: top;\n",
       "    }\n",
       "\n",
       "    .dataframe thead th {\n",
       "        text-align: right;\n",
       "    }\n",
       "</style>\n",
       "<table border=\"1\" class=\"dataframe\">\n",
       "  <thead>\n",
       "    <tr style=\"text-align: right;\">\n",
       "      <th></th>\n",
       "      <th>timestamp</th>\n",
       "      <th>modification</th>\n",
       "    </tr>\n",
       "  </thead>\n",
       "  <tbody>\n",
       "    <tr>\n",
       "      <th>count</th>\n",
       "      <td>236</td>\n",
       "      <td>236.000000</td>\n",
       "    </tr>\n",
       "    <tr>\n",
       "      <th>mean</th>\n",
       "      <td>2022-12-28 08:38:38.644067840</td>\n",
       "      <td>2.118644</td>\n",
       "    </tr>\n",
       "    <tr>\n",
       "      <th>min</th>\n",
       "      <td>2020-11-07 00:00:00</td>\n",
       "      <td>1.000000</td>\n",
       "    </tr>\n",
       "    <tr>\n",
       "      <th>25%</th>\n",
       "      <td>2021-12-28 12:00:00</td>\n",
       "      <td>1.000000</td>\n",
       "    </tr>\n",
       "    <tr>\n",
       "      <th>50%</th>\n",
       "      <td>2022-11-22 12:00:00</td>\n",
       "      <td>1.000000</td>\n",
       "    </tr>\n",
       "    <tr>\n",
       "      <th>75%</th>\n",
       "      <td>2024-01-20 00:00:00</td>\n",
       "      <td>2.000000</td>\n",
       "    </tr>\n",
       "    <tr>\n",
       "      <th>max</th>\n",
       "      <td>2025-02-11 00:00:00</td>\n",
       "      <td>64.000000</td>\n",
       "    </tr>\n",
       "    <tr>\n",
       "      <th>std</th>\n",
       "      <td>NaN</td>\n",
       "      <td>4.496182</td>\n",
       "    </tr>\n",
       "  </tbody>\n",
       "</table>\n",
       "</div>"
      ],
      "text/plain": [
       "                           timestamp  modification\n",
       "count                            236    236.000000\n",
       "mean   2022-12-28 08:38:38.644067840      2.118644\n",
       "min              2020-11-07 00:00:00      1.000000\n",
       "25%              2021-12-28 12:00:00      1.000000\n",
       "50%              2022-11-22 12:00:00      1.000000\n",
       "75%              2024-01-20 00:00:00      2.000000\n",
       "max              2025-02-11 00:00:00     64.000000\n",
       "std                              NaN      4.496182"
      ]
     },
     "execution_count": 11,
     "metadata": {},
     "output_type": "execute_result"
    }
   ],
   "source": [
    "group.describe()"
   ]
  },
  {
   "cell_type": "code",
   "execution_count": null,
   "id": "2ac71c5d",
   "metadata": {},
   "outputs": [],
   "source": [
    "group.dtypes"
   ]
  },
  {
   "cell_type": "code",
   "execution_count": null,
   "id": "1a3b9b00",
   "metadata": {},
   "outputs": [],
   "source": [
    "group.modification.max()"
   ]
  },
  {
   "cell_type": "code",
   "execution_count": null,
   "id": "c3aa6857",
   "metadata": {},
   "outputs": [],
   "source": [
    "group.modification.min()"
   ]
  },
  {
   "cell_type": "code",
   "execution_count": 12,
   "id": "54ea33ad-ec86-4509-a055-832d184e0aed",
   "metadata": {},
   "outputs": [
    {
     "name": "stderr",
     "output_type": "stream",
     "text": [
      "findfont: Font family 'Helvetica' not found.\n",
      "findfont: Font family 'Helvetica' not found.\n",
      "findfont: Font family 'Helvetica' not found.\n",
      "findfont: Font family 'Helvetica' not found.\n",
      "findfont: Font family 'Helvetica' not found.\n",
      "findfont: Font family 'Helvetica' not found.\n",
      "findfont: Font family 'Helvetica' not found.\n"
     ]
    },
    {
     "data": {
      "text/plain": [
       "(<Figure size 1250x1020 with 7 Axes>,\n",
       " array([<Axes: ylabel='2020'>, <Axes: ylabel='2021'>,\n",
       "        <Axes: ylabel='2022'>, <Axes: ylabel='2023'>,\n",
       "        <Axes: ylabel='2024'>, <Axes: ylabel='2025'>], dtype=object))"
      ]
     },
     "execution_count": 12,
     "metadata": {},
     "output_type": "execute_result"
    },
    {
     "name": "stderr",
     "output_type": "stream",
     "text": [
      "findfont: Font family 'Helvetica' not found.\n",
      "findfont: Font family 'Helvetica' not found.\n",
      "findfont: Font family 'Helvetica' not found.\n",
      "findfont: Font family 'Helvetica' not found.\n",
      "findfont: Font family 'Helvetica' not found.\n",
      "findfont: Font family 'Helvetica' not found.\n",
      "findfont: Font family 'Helvetica' not found.\n",
      "findfont: Font family 'Helvetica' not found.\n",
      "findfont: Font family 'Helvetica' not found.\n",
      "findfont: Font family 'Helvetica' not found.\n",
      "findfont: Font family 'Helvetica' not found.\n",
      "findfont: Font family 'Helvetica' not found.\n",
      "findfont: Font family 'Helvetica' not found.\n",
      "findfont: Font family 'Helvetica' not found.\n",
      "findfont: Font family 'Helvetica' not found.\n",
      "findfont: Font family 'Helvetica' not found.\n",
      "findfont: Font family 'Helvetica' not found.\n",
      "findfont: Font family 'Helvetica' not found.\n",
      "findfont: Font family 'Helvetica' not found.\n"
     ]
    },
    {
     "data": {
      "image/png": "[encoded data removed]",
      "text/plain": [
       "<Figure size 1250x1020 with 7 Axes>"
      ]
     },
     "metadata": {},
     "output_type": "display_data"
    }
   ],
   "source": [
    "import calplot\n",
    "\n",
    "days = group[\"timestamp\"]\n",
    "\n",
    "events = pd.Series(list(group[\"modification\"]), index=days)\n",
    "calplot.calplot(\n",
    "    events,\n",
    "    cmap=\"YlGn\",\n",
    "    yearlabel_kws={\"color\": \"black\"},\n",
    "    linewidth=0,\n",
    "    suptitle=\"Number of modifications per day (last 500)\",\n",
    ")"
   ]
  },
  {
   "cell_type": "code",
   "execution_count": 14,
   "id": "3dd673a8",
   "metadata": {},
   "outputs": [
    {
     "data": {
      "application/vnd.plotly.v1+json": {
       "config": {
        "plotlyServerURL": "https://plot.ly"
       },
       "data": [
        {
         "bingroup": "x",
         "histfunc": "sum",
         "hovertemplate": "timestamp=%{x}<br>sum of modification=%{y}<extra></extra>",
         "legendgroup": "",
         "marker": {
          "color": "#636efa",
          "pattern": {
           "shape": ""
          }
         },
         "name": "",
         "nbinsx": 20,
         "orientation": "v",
         "showlegend": false,
         "type": "histogram",
         "x": [
          "2020-11-07T00:00:00.000000000",
          "2020-11-22T00:00:00.000000000",
          "2020-11-24T00:00:00.000000000",
          "2020-12-02T00:00:00.000000000",
          "2020-12-15T00:00:00.000000000",
          "2020-12-21T00:00:00.000000000",
          "2020-12-22T00:00:00.000000000",
          "2020-12-26T00:00:00.000000000",
          "2020-12-28T00:00:00.000000000",
          "2021-01-11T00:00:00.000000000",
          "2021-01-15T00:00:00.000000000",
          "2021-01-25T00:00:00.000000000",
          "2021-02-01T00:00:00.000000000",
          "2021-02-13T00:00:00.000000000",
          "2021-02-15T00:00:00.000000000",
          "2021-02-17T00:00:00.000000000",
          "2021-02-19T00:00:00.000000000",
          "2021-02-21T00:00:00.000000000",
          "2021-02-23T00:00:00.000000000",
          "2021-03-10T00:00:00.000000000",
          "2021-03-26T00:00:00.000000000",
          "2021-03-30T00:00:00.000000000",
          "2021-04-03T00:00:00.000000000",
          "2021-04-08T00:00:00.000000000",
          "2021-04-09T00:00:00.000000000",
          "2021-04-13T00:00:00.000000000",
          "2021-04-27T00:00:00.000000000",
          "2021-05-01T00:00:00.000000000",
          "2021-05-10T00:00:00.000000000",
          "2021-05-14T00:00:00.000000000",
          "2021-05-16T00:00:00.000000000",
          "2021-05-23T00:00:00.000000000",
          "2021-05-24T00:00:00.000000000",
          "2021-06-22T00:00:00.000000000",
          "2021-07-08T00:00:00.000000000",
          "2021-07-10T00:00:00.000000000",
          "2021-07-16T00:00:00.000000000",
          "2021-07-20T00:00:00.000000000",
          "2021-07-29T00:00:00.000000000",
          "2021-07-31T00:00:00.000000000",
          "2021-08-09T00:00:00.000000000",
          "2021-08-11T00:00:00.000000000",
          "2021-08-16T00:00:00.000000000",
          "2021-08-18T00:00:00.000000000",
          "2021-08-22T00:00:00.000000000",
          "2021-08-28T00:00:00.000000000",
          "2021-09-27T00:00:00.000000000",
          "2021-10-11T00:00:00.000000000",
          "2021-10-12T00:00:00.000000000",
          "2021-10-28T00:00:00.000000000",
          "2021-10-31T00:00:00.000000000",
          "2021-11-10T00:00:00.000000000",
          "2021-11-16T00:00:00.000000000",
          "2021-11-19T00:00:00.000000000",
          "2021-11-25T00:00:00.000000000",
          "2021-12-15T00:00:00.000000000",
          "2021-12-16T00:00:00.000000000",
          "2021-12-22T00:00:00.000000000",
          "2021-12-24T00:00:00.000000000",
          "2021-12-30T00:00:00.000000000",
          "2022-01-01T00:00:00.000000000",
          "2022-01-10T00:00:00.000000000",
          "2022-01-24T00:00:00.000000000",
          "2022-01-31T00:00:00.000000000",
          "2022-02-01T00:00:00.000000000",
          "2022-02-08T00:00:00.000000000",
          "2022-02-10T00:00:00.000000000",
          "2022-02-16T00:00:00.000000000",
          "2022-02-27T00:00:00.000000000",
          "2022-03-14T00:00:00.000000000",
          "2022-04-04T00:00:00.000000000",
          "2022-05-02T00:00:00.000000000",
          "2022-05-11T00:00:00.000000000",
          "2022-05-26T00:00:00.000000000",
          "2022-05-27T00:00:00.000000000",
          "2022-06-01T00:00:00.000000000",
          "2022-06-03T00:00:00.000000000",
          "2022-06-09T00:00:00.000000000",
          "2022-06-20T00:00:00.000000000",
          "2022-06-21T00:00:00.000000000",
          "2022-06-23T00:00:00.000000000",
          "2022-07-03T00:00:00.000000000",
          "2022-07-04T00:00:00.000000000",
          "2022-07-06T00:00:00.000000000",
          "2022-07-07T00:00:00.000000000",
          "2022-07-08T00:00:00.000000000",
          "2022-07-12T00:00:00.000000000",
          "2022-07-16T00:00:00.000000000",
          "2022-07-18T00:00:00.000000000",
          "2022-07-19T00:00:00.000000000",
          "2022-07-24T00:00:00.000000000",
          "2022-07-27T00:00:00.000000000",
          "2022-08-02T00:00:00.000000000",
          "2022-08-03T00:00:00.000000000",
          "2022-08-04T00:00:00.000000000",
          "2022-08-14T00:00:00.000000000",
          "2022-08-19T00:00:00.000000000",
          "2022-08-27T00:00:00.000000000",
          "2022-08-28T00:00:00.000000000",
          "2022-09-03T00:00:00.000000000",
          "2022-09-10T00:00:00.000000000",
          "2022-09-11T00:00:00.000000000",
          "2022-09-12T00:00:00.000000000",
          "2022-09-14T00:00:00.000000000",
          "2022-09-16T00:00:00.000000000",
          "2022-09-29T00:00:00.000000000",
          "2022-10-01T00:00:00.000000000",
          "2022-10-05T00:00:00.000000000",
          "2022-10-13T00:00:00.000000000",
          "2022-10-18T00:00:00.000000000",
          "2022-10-19T00:00:00.000000000",
          "2022-10-25T00:00:00.000000000",
          "2022-10-28T00:00:00.000000000",
          "2022-10-29T00:00:00.000000000",
          "2022-11-06T00:00:00.000000000",
          "2022-11-14T00:00:00.000000000",
          "2022-11-17T00:00:00.000000000",
          "2022-11-22T00:00:00.000000000",
          "2022-11-23T00:00:00.000000000",
          "2022-11-26T00:00:00.000000000",
          "2022-11-27T00:00:00.000000000",
          "2022-12-05T00:00:00.000000000",
          "2022-12-10T00:00:00.000000000",
          "2022-12-13T00:00:00.000000000",
          "2022-12-21T00:00:00.000000000",
          "2023-01-13T00:00:00.000000000",
          "2023-01-27T00:00:00.000000000",
          "2023-01-29T00:00:00.000000000",
          "2023-02-14T00:00:00.000000000",
          "2023-02-18T00:00:00.000000000",
          "2023-02-20T00:00:00.000000000",
          "2023-02-23T00:00:00.000000000",
          "2023-02-24T00:00:00.000000000",
          "2023-03-01T00:00:00.000000000",
          "2023-03-04T00:00:00.000000000",
          "2023-03-16T00:00:00.000000000",
          "2023-03-19T00:00:00.000000000",
          "2023-03-22T00:00:00.000000000",
          "2023-03-24T00:00:00.000000000",
          "2023-04-14T00:00:00.000000000",
          "2023-04-26T00:00:00.000000000",
          "2023-05-10T00:00:00.000000000",
          "2023-05-13T00:00:00.000000000",
          "2023-05-26T00:00:00.000000000",
          "2023-05-29T00:00:00.000000000",
          "2023-06-20T00:00:00.000000000",
          "2023-06-28T00:00:00.000000000",
          "2023-06-30T00:00:00.000000000",
          "2023-07-02T00:00:00.000000000",
          "2023-07-18T00:00:00.000000000",
          "2023-07-22T00:00:00.000000000",
          "2023-07-23T00:00:00.000000000",
          "2023-07-25T00:00:00.000000000",
          "2023-08-06T00:00:00.000000000",
          "2023-08-25T00:00:00.000000000",
          "2023-08-26T00:00:00.000000000",
          "2023-09-01T00:00:00.000000000",
          "2023-09-12T00:00:00.000000000",
          "2023-09-19T00:00:00.000000000",
          "2023-09-20T00:00:00.000000000",
          "2023-10-20T00:00:00.000000000",
          "2023-10-29T00:00:00.000000000",
          "2023-11-05T00:00:00.000000000",
          "2023-11-17T00:00:00.000000000",
          "2023-11-25T00:00:00.000000000",
          "2023-12-02T00:00:00.000000000",
          "2023-12-04T00:00:00.000000000",
          "2023-12-06T00:00:00.000000000",
          "2023-12-09T00:00:00.000000000",
          "2023-12-12T00:00:00.000000000",
          "2023-12-17T00:00:00.000000000",
          "2023-12-19T00:00:00.000000000",
          "2023-12-30T00:00:00.000000000",
          "2023-12-31T00:00:00.000000000",
          "2024-01-03T00:00:00.000000000",
          "2024-01-13T00:00:00.000000000",
          "2024-01-19T00:00:00.000000000",
          "2024-01-23T00:00:00.000000000",
          "2024-01-24T00:00:00.000000000",
          "2024-01-27T00:00:00.000000000",
          "2024-01-28T00:00:00.000000000",
          "2024-01-31T00:00:00.000000000",
          "2024-02-08T00:00:00.000000000",
          "2024-02-12T00:00:00.000000000",
          "2024-02-24T00:00:00.000000000",
          "2024-02-26T00:00:00.000000000",
          "2024-03-01T00:00:00.000000000",
          "2024-03-02T00:00:00.000000000",
          "2024-03-07T00:00:00.000000000",
          "2024-03-08T00:00:00.000000000",
          "2024-03-16T00:00:00.000000000",
          "2024-03-17T00:00:00.000000000",
          "2024-03-25T00:00:00.000000000",
          "2024-04-19T00:00:00.000000000",
          "2024-05-02T00:00:00.000000000",
          "2024-05-09T00:00:00.000000000",
          "2024-05-21T00:00:00.000000000",
          "2024-05-27T00:00:00.000000000",
          "2024-05-28T00:00:00.000000000",
          "2024-06-04T00:00:00.000000000",
          "2024-06-19T00:00:00.000000000",
          "2024-07-03T00:00:00.000000000",
          "2024-07-11T00:00:00.000000000",
          "2024-07-18T00:00:00.000000000",
          "2024-07-19T00:00:00.000000000",
          "2024-07-28T00:00:00.000000000",
          "2024-07-29T00:00:00.000000000",
          "2024-08-12T00:00:00.000000000",
          "2024-08-20T00:00:00.000000000",
          "2024-08-24T00:00:00.000000000",
          "2024-08-27T00:00:00.000000000",
          "2024-08-28T00:00:00.000000000",
          "2024-09-11T00:00:00.000000000",
          "2024-10-06T00:00:00.000000000",
          "2024-10-16T00:00:00.000000000",
          "2024-10-18T00:00:00.000000000",
          "2024-10-25T00:00:00.000000000",
          "2024-10-29T00:00:00.000000000",
          "2024-10-31T00:00:00.000000000",
          "2024-11-09T00:00:00.000000000",
          "2024-11-18T00:00:00.000000000",
          "2024-11-22T00:00:00.000000000",
          "2024-11-25T00:00:00.000000000",
          "2024-12-03T00:00:00.000000000",
          "2024-12-04T00:00:00.000000000",
          "2024-12-07T00:00:00.000000000",
          "2024-12-08T00:00:00.000000000",
          "2024-12-13T00:00:00.000000000",
          "2024-12-15T00:00:00.000000000",
          "2024-12-16T00:00:00.000000000",
          "2024-12-21T00:00:00.000000000",
          "2024-12-24T00:00:00.000000000",
          "2024-12-30T00:00:00.000000000",
          "2025-01-02T00:00:00.000000000",
          "2025-01-31T00:00:00.000000000",
          "2025-02-11T00:00:00.000000000"
         ],
         "xaxis": "x",
         "y": {
          "bdata": "AQIBAQcCAQECAwECAgEBAQEBAQIDAQIBAgEBAQEBAwIBAQMDBAgBAQIEFgEBAQEBAQIBAQEBAQ0CAwECAQICAQIBAQEBAQIBAgEDAQEBAgEBAgEBAQECAQECAgEBAQICAQECAQEBAQEFBQEBAQEBAwEBAQEDAQIBAgEBAQEBAgIDQAEDAQEDBAMBAQIBAQEBAgEBAQIBAQEBAQECAQEBAgIDAwEBAQQBAQUBAQICAQMCAQEBAQEBBgEDAQQBAQIBAQMDAQMDAQICAgEBAQEBAQIBAggDAQIBAwEEAQEBAQIBAgIBAQEDBwYBAQY=",
          "dtype": "i1"
         },
         "yaxis": "y"
        }
       ],
       "layout": {
        "bargap": 0.2,
        "barmode": "relative",
        "legend": {
         "tracegroupgap": 0
        },
        "margin": {
         "t": 60
        },
        "template": {
         "data": {
          "bar": [
           {
            "error_x": {
             "color": "#2a3f5f"
            },
            "error_y": {
             "color": "#2a3f5f"
            },
            "marker": {
             "line": {
              "color": "#E5ECF6",
              "width": 0.5
             },
             "pattern": {
              "fillmode": "overlay",
              "size": 10,
              "solidity": 0.2
             }
            },
            "type": "bar"
           }
          ],
          "barpolar": [
           {
            "marker": {
             "line": {
              "color": "#E5ECF6",
              "width": 0.5
             },
             "pattern": {
              "fillmode": "overlay",
              "size": 10,
              "solidity": 0.2
             }
            },
            "type": "barpolar"
           }
          ],
          "carpet": [
           {
            "aaxis": {
             "endlinecolor": "#2a3f5f",
             "gridcolor": "white",
             "linecolor": "white",
             "minorgridcolor": "white",
             "startlinecolor": "#2a3f5f"
            },
            "baxis": {
             "endlinecolor": "#2a3f5f",
             "gridcolor": "white",
             "linecolor": "white",
             "minorgridcolor": "white",
             "startlinecolor": "#2a3f5f"
            },
            "type": "carpet"
           }
          ],
          "choropleth": [
           {
            "colorbar": {
             "outlinewidth": 0,
             "ticks": ""
            },
            "type": "choropleth"
           }
          ],
          "contour": [
           {
            "colorbar": {
             "outlinewidth": 0,
             "ticks": ""
            },
            "colorscale": [
             [
              0,
              "#0d0887"
             ],
             [
              0.1111111111111111,
              "#46039f"
             ],
             [
              0.2222222222222222,
              "#7201a8"
             ],
             [
              0.3333333333333333,
              "#9c179e"
             ],
             [
              0.4444444444444444,
              "#bd3786"
             ],
             [
              0.5555555555555556,
              "#d8576b"
             ],
             [
              0.6666666666666666,
              "#ed7953"
             ],
             [
              0.7777777777777778,
              "#fb9f3a"
             ],
             [
              0.8888888888888888,
              "#fdca26"
             ],
             [
              1,
              "#f0f921"
             ]
            ],
            "type": "contour"
           }
          ],
          "contourcarpet": [
           {
            "colorbar": {
             "outlinewidth": 0,
             "ticks": ""
            },
            "type": "contourcarpet"
           }
          ],
          "heatmap": [
           {
            "colorbar": {
             "outlinewidth": 0,
             "ticks": ""
            },
            "colorscale": [
             [
              0,
              "#0d0887"
             ],
             [
              0.1111111111111111,
              "#46039f"
             ],
             [
              0.2222222222222222,
              "#7201a8"
             ],
             [
              0.3333333333333333,
              "#9c179e"
             ],
             [
              0.4444444444444444,
              "#bd3786"
             ],
             [
              0.5555555555555556,
              "#d8576b"
             ],
             [
              0.6666666666666666,
              "#ed7953"
             ],
             [
              0.7777777777777778,
              "#fb9f3a"
             ],
             [
              0.8888888888888888,
              "#fdca26"
             ],
             [
              1,
              "#f0f921"
             ]
            ],
            "type": "heatmap"
           }
          ],
          "histogram": [
           {
            "marker": {
             "pattern": {
              "fillmode": "overlay",
              "size": 10,
              "solidity": 0.2
             }
            },
            "type": "histogram"
           }
          ],
          "histogram2d": [
           {
            "colorbar": {
             "outlinewidth": 0,
             "ticks": ""
            },
            "colorscale": [
             [
              0,
              "#0d0887"
             ],
             [
              0.1111111111111111,
              "#46039f"
             ],
             [
              0.2222222222222222,
              "#7201a8"
             ],
             [
              0.3333333333333333,
              "#9c179e"
             ],
             [
              0.4444444444444444,
              "#bd3786"
             ],
             [
              0.5555555555555556,
              "#d8576b"
             ],
             [
              0.6666666666666666,
              "#ed7953"
             ],
             [
              0.7777777777777778,
              "#fb9f3a"
             ],
             [
              0.8888888888888888,
              "#fdca26"
             ],
             [
              1,
              "#f0f921"
             ]
            ],
            "type": "histogram2d"
           }
          ],
          "histogram2dcontour": [
           {
            "colorbar": {
             "outlinewidth": 0,
             "ticks": ""
            },
            "colorscale": [
             [
              0,
              "#0d0887"
             ],
             [
              0.1111111111111111,
              "#46039f"
             ],
             [
              0.2222222222222222,
              "#7201a8"
             ],
             [
              0.3333333333333333,
              "#9c179e"
             ],
             [
              0.4444444444444444,
              "#bd3786"
             ],
             [
              0.5555555555555556,
              "#d8576b"
             ],
             [
              0.6666666666666666,
              "#ed7953"
             ],
             [
              0.7777777777777778,
              "#fb9f3a"
             ],
             [
              0.8888888888888888,
              "#fdca26"
             ],
             [
              1,
              "#f0f921"
             ]
            ],
            "type": "histogram2dcontour"
           }
          ],
          "mesh3d": [
           {
            "colorbar": {
             "outlinewidth": 0,
             "ticks": ""
            },
            "type": "mesh3d"
           }
          ],
          "parcoords": [
           {
            "line": {
             "colorbar": {
              "outlinewidth": 0,
              "ticks": ""
             }
            },
            "type": "parcoords"
           }
          ],
          "pie": [
           {
            "automargin": true,
            "type": "pie"
           }
          ],
          "scatter": [
           {
            "fillpattern": {
             "fillmode": "overlay",
             "size": 10,
             "solidity": 0.2
            },
            "type": "scatter"
           }
          ],
          "scatter3d": [
           {
            "line": {
             "colorbar": {
              "outlinewidth": 0,
              "ticks": ""
             }
            },
            "marker": {
             "colorbar": {
              "outlinewidth": 0,
              "ticks": ""
             }
            },
            "type": "scatter3d"
           }
          ],
          "scattercarpet": [
           {
            "marker": {
             "colorbar": {
              "outlinewidth": 0,
              "ticks": ""
             }
            },
            "type": "scattercarpet"
           }
          ],
          "scattergeo": [
           {
            "marker": {
             "colorbar": {
              "outlinewidth": 0,
              "ticks": ""
             }
            },
            "type": "scattergeo"
           }
          ],
          "scattergl": [
           {
            "marker": {
             "colorbar": {
              "outlinewidth": 0,
              "ticks": ""
             }
            },
            "type": "scattergl"
           }
          ],
          "scattermap": [
           {
            "marker": {
             "colorbar": {
              "outlinewidth": 0,
              "ticks": ""
             }
            },
            "type": "scattermap"
           }
          ],
          "scattermapbox": [
           {
            "marker": {
             "colorbar": {
              "outlinewidth": 0,
              "ticks": ""
             }
            },
            "type": "scattermapbox"
           }
          ],
          "scatterpolar": [
           {
            "marker": {
             "colorbar": {
              "outlinewidth": 0,
              "ticks": ""
             }
            },
            "type": "scatterpolar"
           }
          ],
          "scatterpolargl": [
           {
            "marker": {
             "colorbar": {
              "outlinewidth": 0,
              "ticks": ""
             }
            },
            "type": "scatterpolargl"
           }
          ],
          "scatterternary": [
           {
            "marker": {
             "colorbar": {
              "outlinewidth": 0,
              "ticks": ""
             }
            },
            "type": "scatterternary"
           }
          ],
          "surface": [
           {
            "colorbar": {
             "outlinewidth": 0,
             "ticks": ""
            },
            "colorscale": [
             [
              0,
              "#0d0887"
             ],
             [
              0.1111111111111111,
              "#46039f"
             ],
             [
              0.2222222222222222,
              "#7201a8"
             ],
             [
              0.3333333333333333,
              "#9c179e"
             ],
             [
              0.4444444444444444,
              "#bd3786"
             ],
             [
              0.5555555555555556,
              "#d8576b"
             ],
             [
              0.6666666666666666,
              "#ed7953"
             ],
             [
              0.7777777777777778,
              "#fb9f3a"
             ],
             [
              0.8888888888888888,
              "#fdca26"
             ],
             [
              1,
              "#f0f921"
             ]
            ],
            "type": "surface"
           }
          ],
          "table": [
           {
            "cells": {
             "fill": {
              "color": "#EBF0F8"
             },
             "line": {
              "color": "white"
             }
            },
            "header": {
             "fill": {
              "color": "#C8D4E3"
             },
             "line": {
              "color": "white"
             }
            },
            "type": "table"
           }
          ]
         },
         "layout": {
          "annotationdefaults": {
           "arrowcolor": "#2a3f5f",
           "arrowhead": 0,
           "arrowwidth": 1
          },
          "autotypenumbers": "strict",
          "coloraxis": {
           "colorbar": {
            "outlinewidth": 0,
            "ticks": ""
           }
          },
          "colorscale": {
           "diverging": [
            [
             0,
             "#8e0152"
            ],
            [
             0.1,
             "#c51b7d"
            ],
            [
             0.2,
             "#de77ae"
            ],
            [
             0.3,
             "#f1b6da"
            ],
            [
             0.4,
             "#fde0ef"
            ],
            [
             0.5,
             "#f7f7f7"
            ],
            [
             0.6,
             "#e6f5d0"
            ],
            [
             0.7,
             "#b8e186"
            ],
            [
             0.8,
             "#7fbc41"
            ],
            [
             0.9,
             "#4d9221"
            ],
            [
             1,
             "#276419"
            ]
           ],
           "sequential": [
            [
             0,
             "#0d0887"
            ],
            [
             0.1111111111111111,
             "#46039f"
            ],
            [
             0.2222222222222222,
             "#7201a8"
            ],
            [
             0.3333333333333333,
             "#9c179e"
            ],
            [
             0.4444444444444444,
             "#bd3786"
            ],
            [
             0.5555555555555556,
             "#d8576b"
            ],
            [
             0.6666666666666666,
             "#ed7953"
            ],
            [
             0.7777777777777778,
             "#fb9f3a"
            ],
            [
             0.8888888888888888,
             "#fdca26"
            ],
            [
             1,
             "#f0f921"
            ]
           ],
           "sequentialminus": [
            [
             0,
             "#0d0887"
            ],
            [
             0.1111111111111111,
             "#46039f"
            ],
            [
             0.2222222222222222,
             "#7201a8"
            ],
            [
             0.3333333333333333,
             "#9c179e"
            ],
            [
             0.4444444444444444,
             "#bd3786"
            ],
            [
             0.5555555555555556,
             "#d8576b"
            ],
            [
             0.6666666666666666,
             "#ed7953"
            ],
            [
             0.7777777777777778,
             "#fb9f3a"
            ],
            [
             0.8888888888888888,
             "#fdca26"
            ],
            [
             1,
             "#f0f921"
            ]
           ]
          },
          "colorway": [
           "#636efa",
           "#EF553B",
           "#00cc96",
           "#ab63fa",
           "#FFA15A",
           "#19d3f3",
           "#FF6692",
           "#B6E880",
           "#FF97FF",
           "#FECB52"
          ],
          "font": {
           "color": "#2a3f5f"
          },
          "geo": {
           "bgcolor": "white",
           "lakecolor": "white",
           "landcolor": "#E5ECF6",
           "showlakes": true,
           "showland": true,
           "subunitcolor": "white"
          },
          "hoverlabel": {
           "align": "left"
          },
          "hovermode": "closest",
          "mapbox": {
           "style": "light"
          },
          "paper_bgcolor": "white",
          "plot_bgcolor": "#E5ECF6",
          "polar": {
           "angularaxis": {
            "gridcolor": "white",
            "linecolor": "white",
            "ticks": ""
           },
           "bgcolor": "#E5ECF6",
           "radialaxis": {
            "gridcolor": "white",
            "linecolor": "white",
            "ticks": ""
           }
          },
          "scene": {
           "xaxis": {
            "backgroundcolor": "#E5ECF6",
            "gridcolor": "white",
            "gridwidth": 2,
            "linecolor": "white",
            "showbackground": true,
            "ticks": "",
            "zerolinecolor": "white"
           },
           "yaxis": {
            "backgroundcolor": "#E5ECF6",
            "gridcolor": "white",
            "gridwidth": 2,
            "linecolor": "white",
            "showbackground": true,
            "ticks": "",
            "zerolinecolor": "white"
           },
           "zaxis": {
            "backgroundcolor": "#E5ECF6",
            "gridcolor": "white",
            "gridwidth": 2,
            "linecolor": "white",
            "showbackground": true,
            "ticks": "",
            "zerolinecolor": "white"
           }
          },
          "shapedefaults": {
           "line": {
            "color": "#2a3f5f"
           }
          },
          "ternary": {
           "aaxis": {
            "gridcolor": "white",
            "linecolor": "white",
            "ticks": ""
           },
           "baxis": {
            "gridcolor": "white",
            "linecolor": "white",
            "ticks": ""
           },
           "bgcolor": "#E5ECF6",
           "caxis": {
            "gridcolor": "white",
            "linecolor": "white",
            "ticks": ""
           }
          },
          "title": {
           "x": 0.05
          },
          "xaxis": {
           "automargin": true,
           "gridcolor": "white",
           "linecolor": "white",
           "ticks": "",
           "title": {
            "standoff": 15
           },
           "zerolinecolor": "white",
           "zerolinewidth": 2
          },
          "yaxis": {
           "automargin": true,
           "gridcolor": "white",
           "linecolor": "white",
           "ticks": "",
           "title": {
            "standoff": 15
           },
           "zerolinecolor": "white",
           "zerolinewidth": 2
          }
         }
        },
        "xaxis": {
         "anchor": "y",
         "domain": [
          0,
          1
         ],
         "title": {
          "text": "timestamp"
         }
        },
        "yaxis": {
         "anchor": "x",
         "domain": [
          0,
          1
         ],
         "title": {
          "text": "sum of modification"
         }
        }
       }
      }
     },
     "metadata": {},
     "output_type": "display_data"
    }
   ],
   "source": [
    "import plotly.express as px\n",
    "\n",
    "fig = px.histogram(\n",
    "    group,\n",
    "    x=\"timestamp\",\n",
    "    y=\"modification\",\n",
    "    nbins=20,\n",
    "    labels={\"x\": \"month\", \"y\": \"count\"},\n",
    ")\n",
    "fig.update_layout(bargap=0.2)\n",
    "fig.show()"
   ]
  },
  {
   "cell_type": "code",
   "execution_count": 15,
   "id": "18cd109a",
   "metadata": {},
   "outputs": [
    {
     "data": {
      "application/vnd.plotly.v1+json": {
       "config": {
        "plotlyServerURL": "https://plot.ly"
       },
       "data": [
        {
         "hovertemplate": "timestamp=%{x}<br>modification=%{y}<extra></extra>",
         "legendgroup": "",
         "marker": {
          "color": "#636efa",
          "symbol": "circle"
         },
         "mode": "markers",
         "name": "",
         "orientation": "v",
         "showlegend": false,
         "type": "scatter",
         "x": [
          "2020-11-07T00:00:00.000000000",
          "2020-11-22T00:00:00.000000000",
          "2020-11-24T00:00:00.000000000",
          "2020-12-02T00:00:00.000000000",
          "2020-12-15T00:00:00.000000000",
          "2020-12-21T00:00:00.000000000",
          "2020-12-22T00:00:00.000000000",
          "2020-12-26T00:00:00.000000000",
          "2020-12-28T00:00:00.000000000",
          "2021-01-11T00:00:00.000000000",
          "2021-01-15T00:00:00.000000000",
          "2021-01-25T00:00:00.000000000",
          "2021-02-01T00:00:00.000000000",
          "2021-02-13T00:00:00.000000000",
          "2021-02-15T00:00:00.000000000",
          "2021-02-17T00:00:00.000000000",
          "2021-02-19T00:00:00.000000000",
          "2021-02-21T00:00:00.000000000",
          "2021-02-23T00:00:00.000000000",
          "2021-03-10T00:00:00.000000000",
          "2021-03-26T00:00:00.000000000",
          "2021-03-30T00:00:00.000000000",
          "2021-04-03T00:00:00.000000000",
          "2021-04-08T00:00:00.000000000",
          "2021-04-09T00:00:00.000000000",
          "2021-04-13T00:00:00.000000000",
          "2021-04-27T00:00:00.000000000",
          "2021-05-01T00:00:00.000000000",
          "2021-05-10T00:00:00.000000000",
          "2021-05-14T00:00:00.000000000",
          "2021-05-16T00:00:00.000000000",
          "2021-05-23T00:00:00.000000000",
          "2021-05-24T00:00:00.000000000",
          "2021-06-22T00:00:00.000000000",
          "2021-07-08T00:00:00.000000000",
          "2021-07-10T00:00:00.000000000",
          "2021-07-16T00:00:00.000000000",
          "2021-07-20T00:00:00.000000000",
          "2021-07-29T00:00:00.000000000",
          "2021-07-31T00:00:00.000000000",
          "2021-08-09T00:00:00.000000000",
          "2021-08-11T00:00:00.000000000",
          "2021-08-16T00:00:00.000000000",
          "2021-08-18T00:00:00.000000000",
          "2021-08-22T00:00:00.000000000",
          "2021-08-28T00:00:00.000000000",
          "2021-09-27T00:00:00.000000000",
          "2021-10-11T00:00:00.000000000",
          "2021-10-12T00:00:00.000000000",
          "2021-10-28T00:00:00.000000000",
          "2021-10-31T00:00:00.000000000",
          "2021-11-10T00:00:00.000000000",
          "2021-11-16T00:00:00.000000000",
          "2021-11-19T00:00:00.000000000",
          "2021-11-25T00:00:00.000000000",
          "2021-12-15T00:00:00.000000000",
          "2021-12-16T00:00:00.000000000",
          "2021-12-22T00:00:00.000000000",
          "2021-12-24T00:00:00.000000000",
          "2021-12-30T00:00:00.000000000",
          "2022-01-01T00:00:00.000000000",
          "2022-01-10T00:00:00.000000000",
          "2022-01-24T00:00:00.000000000",
          "2022-01-31T00:00:00.000000000",
          "2022-02-01T00:00:00.000000000",
          "2022-02-08T00:00:00.000000000",
          "2022-02-10T00:00:00.000000000",
          "2022-02-16T00:00:00.000000000",
          "2022-02-27T00:00:00.000000000",
          "2022-03-14T00:00:00.000000000",
          "2022-04-04T00:00:00.000000000",
          "2022-05-02T00:00:00.000000000",
          "2022-05-11T00:00:00.000000000",
          "2022-05-26T00:00:00.000000000",
          "2022-05-27T00:00:00.000000000",
          "2022-06-01T00:00:00.000000000",
          "2022-06-03T00:00:00.000000000",
          "2022-06-09T00:00:00.000000000",
          "2022-06-20T00:00:00.000000000",
          "2022-06-21T00:00:00.000000000",
          "2022-06-23T00:00:00.000000000",
          "2022-07-03T00:00:00.000000000",
          "2022-07-04T00:00:00.000000000",
          "2022-07-06T00:00:00.000000000",
          "2022-07-07T00:00:00.000000000",
          "2022-07-08T00:00:00.000000000",
          "2022-07-12T00:00:00.000000000",
          "2022-07-16T00:00:00.000000000",
          "2022-07-18T00:00:00.000000000",
          "2022-07-19T00:00:00.000000000",
          "2022-07-24T00:00:00.000000000",
          "2022-07-27T00:00:00.000000000",
          "2022-08-02T00:00:00.000000000",
          "2022-08-03T00:00:00.000000000",
          "2022-08-04T00:00:00.000000000",
          "2022-08-14T00:00:00.000000000",
          "2022-08-19T00:00:00.000000000",
          "2022-08-27T00:00:00.000000000",
          "2022-08-28T00:00:00.000000000",
          "2022-09-03T00:00:00.000000000",
          "2022-09-10T00:00:00.000000000",
          "2022-09-11T00:00:00.000000000",
          "2022-09-12T00:00:00.000000000",
          "2022-09-14T00:00:00.000000000",
          "2022-09-16T00:00:00.000000000",
          "2022-09-29T00:00:00.000000000",
          "2022-10-01T00:00:00.000000000",
          "2022-10-05T00:00:00.000000000",
          "2022-10-13T00:00:00.000000000",
          "2022-10-18T00:00:00.000000000",
          "2022-10-19T00:00:00.000000000",
          "2022-10-25T00:00:00.000000000",
          "2022-10-28T00:00:00.000000000",
          "2022-10-29T00:00:00.000000000",
          "2022-11-06T00:00:00.000000000",
          "2022-11-14T00:00:00.000000000",
          "2022-11-17T00:00:00.000000000",
          "2022-11-22T00:00:00.000000000",
          "2022-11-23T00:00:00.000000000",
          "2022-11-26T00:00:00.000000000",
          "2022-11-27T00:00:00.000000000",
          "2022-12-05T00:00:00.000000000",
          "2022-12-10T00:00:00.000000000",
          "2022-12-13T00:00:00.000000000",
          "2022-12-21T00:00:00.000000000",
          "2023-01-13T00:00:00.000000000",
          "2023-01-27T00:00:00.000000000",
          "2023-01-29T00:00:00.000000000",
          "2023-02-14T00:00:00.000000000",
          "2023-02-18T00:00:00.000000000",
          "2023-02-20T00:00:00.000000000",
          "2023-02-23T00:00:00.000000000",
          "2023-02-24T00:00:00.000000000",
          "2023-03-01T00:00:00.000000000",
          "2023-03-04T00:00:00.000000000",
          "2023-03-16T00:00:00.000000000",
          "2023-03-19T00:00:00.000000000",
          "2023-03-22T00:00:00.000000000",
          "2023-03-24T00:00:00.000000000",
          "2023-04-14T00:00:00.000000000",
          "2023-04-26T00:00:00.000000000",
          "2023-05-10T00:00:00.000000000",
          "2023-05-13T00:00:00.000000000",
          "2023-05-26T00:00:00.000000000",
          "2023-05-29T00:00:00.000000000",
          "2023-06-20T00:00:00.000000000",
          "2023-06-28T00:00:00.000000000",
          "2023-06-30T00:00:00.000000000",
          "2023-07-02T00:00:00.000000000",
          "2023-07-18T00:00:00.000000000",
          "2023-07-22T00:00:00.000000000",
          "2023-07-23T00:00:00.000000000",
          "2023-07-25T00:00:00.000000000",
          "2023-08-06T00:00:00.000000000",
          "2023-08-25T00:00:00.000000000",
          "2023-08-26T00:00:00.000000000",
          "2023-09-01T00:00:00.000000000",
          "2023-09-12T00:00:00.000000000",
          "2023-09-19T00:00:00.000000000",
          "2023-09-20T00:00:00.000000000",
          "2023-10-20T00:00:00.000000000",
          "2023-10-29T00:00:00.000000000",
          "2023-11-05T00:00:00.000000000",
          "2023-11-17T00:00:00.000000000",
          "2023-11-25T00:00:00.000000000",
          "2023-12-02T00:00:00.000000000",
          "2023-12-04T00:00:00.000000000",
          "2023-12-06T00:00:00.000000000",
          "2023-12-09T00:00:00.000000000",
          "2023-12-12T00:00:00.000000000",
          "2023-12-17T00:00:00.000000000",
          "2023-12-19T00:00:00.000000000",
          "2023-12-30T00:00:00.000000000",
          "2023-12-31T00:00:00.000000000",
          "2024-01-03T00:00:00.000000000",
          "2024-01-13T00:00:00.000000000",
          "2024-01-19T00:00:00.000000000",
          "2024-01-23T00:00:00.000000000",
          "2024-01-24T00:00:00.000000000",
          "2024-01-27T00:00:00.000000000",
          "2024-01-28T00:00:00.000000000",
          "2024-01-31T00:00:00.000000000",
          "2024-02-08T00:00:00.000000000",
          "2024-02-12T00:00:00.000000000",
          "2024-02-24T00:00:00.000000000",
          "2024-02-26T00:00:00.000000000",
          "2024-03-01T00:00:00.000000000",
          "2024-03-02T00:00:00.000000000",
          "2024-03-07T00:00:00.000000000",
          "2024-03-08T00:00:00.000000000",
          "2024-03-16T00:00:00.000000000",
          "2024-03-17T00:00:00.000000000",
          "2024-03-25T00:00:00.000000000",
          "2024-04-19T00:00:00.000000000",
          "2024-05-02T00:00:00.000000000",
          "2024-05-09T00:00:00.000000000",
          "2024-05-21T00:00:00.000000000",
          "2024-05-27T00:00:00.000000000",
          "2024-05-28T00:00:00.000000000",
          "2024-06-04T00:00:00.000000000",
          "2024-06-19T00:00:00.000000000",
          "2024-07-03T00:00:00.000000000",
          "2024-07-11T00:00:00.000000000",
          "2024-07-18T00:00:00.000000000",
          "2024-07-19T00:00:00.000000000",
          "2024-07-28T00:00:00.000000000",
          "2024-07-29T00:00:00.000000000",
          "2024-08-12T00:00:00.000000000",
          "2024-08-20T00:00:00.000000000",
          "2024-08-24T00:00:00.000000000",
          "2024-08-27T00:00:00.000000000",
          "2024-08-28T00:00:00.000000000",
          "2024-09-11T00:00:00.000000000",
          "2024-10-06T00:00:00.000000000",
          "2024-10-16T00:00:00.000000000",
          "2024-10-18T00:00:00.000000000",
          "2024-10-25T00:00:00.000000000",
          "2024-10-29T00:00:00.000000000",
          "2024-10-31T00:00:00.000000000",
          "2024-11-09T00:00:00.000000000",
          "2024-11-18T00:00:00.000000000",
          "2024-11-22T00:00:00.000000000",
          "2024-11-25T00:00:00.000000000",
          "2024-12-03T00:00:00.000000000",
          "2024-12-04T00:00:00.000000000",
          "2024-12-07T00:00:00.000000000",
          "2024-12-08T00:00:00.000000000",
          "2024-12-13T00:00:00.000000000",
          "2024-12-15T00:00:00.000000000",
          "2024-12-16T00:00:00.000000000",
          "2024-12-21T00:00:00.000000000",
          "2024-12-24T00:00:00.000000000",
          "2024-12-30T00:00:00.000000000",
          "2025-01-02T00:00:00.000000000",
          "2025-01-31T00:00:00.000000000",
          "2025-02-11T00:00:00.000000000"
         ],
         "xaxis": "x",
         "y": {
          "bdata": "AQIBAQcCAQECAwECAgEBAQEBAQIDAQIBAgEBAQEBAwIBAQMDBAgBAQIEFgEBAQEBAQIBAQEBAQ0CAwECAQICAQIBAQEBAQIBAgEDAQEBAgEBAgEBAQECAQECAgEBAQICAQECAQEBAQEFBQEBAQEBAwEBAQEDAQIBAgEBAQEBAgIDQAEDAQEDBAMBAQIBAQEBAgEBAQIBAQEBAQECAQEBAgIDAwEBAQQBAQUBAQICAQMCAQEBAQEBBgEDAQQBAQIBAQMDAQMDAQICAgEBAQEBAQIBAggDAQIBAwEEAQEBAQIBAgIBAQEDBwYBAQY=",
          "dtype": "i1"
         },
         "yaxis": "y"
        }
       ],
       "layout": {
        "bargap": 0.2,
        "legend": {
         "tracegroupgap": 0
        },
        "margin": {
         "t": 60
        },
        "template": {
         "data": {
          "bar": [
           {
            "error_x": {
             "color": "#2a3f5f"
            },
            "error_y": {
             "color": "#2a3f5f"
            },
            "marker": {
             "line": {
              "color": "#E5ECF6",
              "width": 0.5
             },
             "pattern": {
              "fillmode": "overlay",
              "size": 10,
              "solidity": 0.2
             }
            },
            "type": "bar"
           }
          ],
          "barpolar": [
           {
            "marker": {
             "line": {
              "color": "#E5ECF6",
              "width": 0.5
             },
             "pattern": {
              "fillmode": "overlay",
              "size": 10,
              "solidity": 0.2
             }
            },
            "type": "barpolar"
           }
          ],
          "carpet": [
           {
            "aaxis": {
             "endlinecolor": "#2a3f5f",
             "gridcolor": "white",
             "linecolor": "white",
             "minorgridcolor": "white",
             "startlinecolor": "#2a3f5f"
            },
            "baxis": {
             "endlinecolor": "#2a3f5f",
             "gridcolor": "white",
             "linecolor": "white",
             "minorgridcolor": "white",
             "startlinecolor": "#2a3f5f"
            },
            "type": "carpet"
           }
          ],
          "choropleth": [
           {
            "colorbar": {
             "outlinewidth": 0,
             "ticks": ""
            },
            "type": "choropleth"
           }
          ],
          "contour": [
           {
            "colorbar": {
             "outlinewidth": 0,
             "ticks": ""
            },
            "colorscale": [
             [
              0,
              "#0d0887"
             ],
             [
              0.1111111111111111,
              "#46039f"
             ],
             [
              0.2222222222222222,
              "#7201a8"
             ],
             [
              0.3333333333333333,
              "#9c179e"
             ],
             [
              0.4444444444444444,
              "#bd3786"
             ],
             [
              0.5555555555555556,
              "#d8576b"
             ],
             [
              0.6666666666666666,
              "#ed7953"
             ],
             [
              0.7777777777777778,
              "#fb9f3a"
             ],
             [
              0.8888888888888888,
              "#fdca26"
             ],
             [
              1,
              "#f0f921"
             ]
            ],
            "type": "contour"
           }
          ],
          "contourcarpet": [
           {
            "colorbar": {
             "outlinewidth": 0,
             "ticks": ""
            },
            "type": "contourcarpet"
           }
          ],
          "heatmap": [
           {
            "colorbar": {
             "outlinewidth": 0,
             "ticks": ""
            },
            "colorscale": [
             [
              0,
              "#0d0887"
             ],
             [
              0.1111111111111111,
              "#46039f"
             ],
             [
              0.2222222222222222,
              "#7201a8"
             ],
             [
              0.3333333333333333,
              "#9c179e"
             ],
             [
              0.4444444444444444,
              "#bd3786"
             ],
             [
              0.5555555555555556,
              "#d8576b"
             ],
             [
              0.6666666666666666,
              "#ed7953"
             ],
             [
              0.7777777777777778,
              "#fb9f3a"
             ],
             [
              0.8888888888888888,
              "#fdca26"
             ],
             [
              1,
              "#f0f921"
             ]
            ],
            "type": "heatmap"
           }
          ],
          "histogram": [
           {
            "marker": {
             "pattern": {
              "fillmode": "overlay",
              "size": 10,
              "solidity": 0.2
             }
            },
            "type": "histogram"
           }
          ],
          "histogram2d": [
           {
            "colorbar": {
             "outlinewidth": 0,
             "ticks": ""
            },
            "colorscale": [
             [
              0,
              "#0d0887"
             ],
             [
              0.1111111111111111,
              "#46039f"
             ],
             [
              0.2222222222222222,
              "#7201a8"
             ],
             [
              0.3333333333333333,
              "#9c179e"
             ],
             [
              0.4444444444444444,
              "#bd3786"
             ],
             [
              0.5555555555555556,
              "#d8576b"
             ],
             [
              0.6666666666666666,
              "#ed7953"
             ],
             [
              0.7777777777777778,
              "#fb9f3a"
             ],
             [
              0.8888888888888888,
              "#fdca26"
             ],
             [
              1,
              "#f0f921"
             ]
            ],
            "type": "histogram2d"
           }
          ],
          "histogram2dcontour": [
           {
            "colorbar": {
             "outlinewidth": 0,
             "ticks": ""
            },
            "colorscale": [
             [
              0,
              "#0d0887"
             ],
             [
              0.1111111111111111,
              "#46039f"
             ],
             [
              0.2222222222222222,
              "#7201a8"
             ],
             [
              0.3333333333333333,
              "#9c179e"
             ],
             [
              0.4444444444444444,
              "#bd3786"
             ],
             [
              0.5555555555555556,
              "#d8576b"
             ],
             [
              0.6666666666666666,
              "#ed7953"
             ],
             [
              0.7777777777777778,
              "#fb9f3a"
             ],
             [
              0.8888888888888888,
              "#fdca26"
             ],
             [
              1,
              "#f0f921"
             ]
            ],
            "type": "histogram2dcontour"
           }
          ],
          "mesh3d": [
           {
            "colorbar": {
             "outlinewidth": 0,
             "ticks": ""
            },
            "type": "mesh3d"
           }
          ],
          "parcoords": [
           {
            "line": {
             "colorbar": {
              "outlinewidth": 0,
              "ticks": ""
             }
            },
            "type": "parcoords"
           }
          ],
          "pie": [
           {
            "automargin": true,
            "type": "pie"
           }
          ],
          "scatter": [
           {
            "fillpattern": {
             "fillmode": "overlay",
             "size": 10,
             "solidity": 0.2
            },
            "type": "scatter"
           }
          ],
          "scatter3d": [
           {
            "line": {
             "colorbar": {
              "outlinewidth": 0,
              "ticks": ""
             }
            },
            "marker": {
             "colorbar": {
              "outlinewidth": 0,
              "ticks": ""
             }
            },
            "type": "scatter3d"
           }
          ],
          "scattercarpet": [
           {
            "marker": {
             "colorbar": {
              "outlinewidth": 0,
              "ticks": ""
             }
            },
            "type": "scattercarpet"
           }
          ],
          "scattergeo": [
           {
            "marker": {
             "colorbar": {
              "outlinewidth": 0,
              "ticks": ""
             }
            },
            "type": "scattergeo"
           }
          ],
          "scattergl": [
           {
            "marker": {
             "colorbar": {
              "outlinewidth": 0,
              "ticks": ""
             }
            },
            "type": "scattergl"
           }
          ],
          "scattermap": [
           {
            "marker": {
             "colorbar": {
              "outlinewidth": 0,
              "ticks": ""
             }
            },
            "type": "scattermap"
           }
          ],
          "scattermapbox": [
           {
            "marker": {
             "colorbar": {
              "outlinewidth": 0,
              "ticks": ""
             }
            },
            "type": "scattermapbox"
           }
          ],
          "scatterpolar": [
           {
            "marker": {
             "colorbar": {
              "outlinewidth": 0,
              "ticks": ""
             }
            },
            "type": "scatterpolar"
           }
          ],
          "scatterpolargl": [
           {
            "marker": {
             "colorbar": {
              "outlinewidth": 0,
              "ticks": ""
             }
            },
            "type": "scatterpolargl"
           }
          ],
          "scatterternary": [
           {
            "marker": {
             "colorbar": {
              "outlinewidth": 0,
              "ticks": ""
             }
            },
            "type": "scatterternary"
           }
          ],
          "surface": [
           {
            "colorbar": {
             "outlinewidth": 0,
             "ticks": ""
            },
            "colorscale": [
             [
              0,
              "#0d0887"
             ],
             [
              0.1111111111111111,
              "#46039f"
             ],
             [
              0.2222222222222222,
              "#7201a8"
             ],
             [
              0.3333333333333333,
              "#9c179e"
             ],
             [
              0.4444444444444444,
              "#bd3786"
             ],
             [
              0.5555555555555556,
              "#d8576b"
             ],
             [
              0.6666666666666666,
              "#ed7953"
             ],
             [
              0.7777777777777778,
              "#fb9f3a"
             ],
             [
              0.8888888888888888,
              "#fdca26"
             ],
             [
              1,
              "#f0f921"
             ]
            ],
            "type": "surface"
           }
          ],
          "table": [
           {
            "cells": {
             "fill": {
              "color": "#EBF0F8"
             },
             "line": {
              "color": "white"
             }
            },
            "header": {
             "fill": {
              "color": "#C8D4E3"
             },
             "line": {
              "color": "white"
             }
            },
            "type": "table"
           }
          ]
         },
         "layout": {
          "annotationdefaults": {
           "arrowcolor": "#2a3f5f",
           "arrowhead": 0,
           "arrowwidth": 1
          },
          "autotypenumbers": "strict",
          "coloraxis": {
           "colorbar": {
            "outlinewidth": 0,
            "ticks": ""
           }
          },
          "colorscale": {
           "diverging": [
            [
             0,
             "#8e0152"
            ],
            [
             0.1,
             "#c51b7d"
            ],
            [
             0.2,
             "#de77ae"
            ],
            [
             0.3,
             "#f1b6da"
            ],
            [
             0.4,
             "#fde0ef"
            ],
            [
             0.5,
             "#f7f7f7"
            ],
            [
             0.6,
             "#e6f5d0"
            ],
            [
             0.7,
             "#b8e186"
            ],
            [
             0.8,
             "#7fbc41"
            ],
            [
             0.9,
             "#4d9221"
            ],
            [
             1,
             "#276419"
            ]
           ],
           "sequential": [
            [
             0,
             "#0d0887"
            ],
            [
             0.1111111111111111,
             "#46039f"
            ],
            [
             0.2222222222222222,
             "#7201a8"
            ],
            [
             0.3333333333333333,
             "#9c179e"
            ],
            [
             0.4444444444444444,
             "#bd3786"
            ],
            [
             0.5555555555555556,
             "#d8576b"
            ],
            [
             0.6666666666666666,
             "#ed7953"
            ],
            [
             0.7777777777777778,
             "#fb9f3a"
            ],
            [
             0.8888888888888888,
             "#fdca26"
            ],
            [
             1,
             "#f0f921"
            ]
           ],
           "sequentialminus": [
            [
             0,
             "#0d0887"
            ],
            [
             0.1111111111111111,
             "#46039f"
            ],
            [
             0.2222222222222222,
             "#7201a8"
            ],
            [
             0.3333333333333333,
             "#9c179e"
            ],
            [
             0.4444444444444444,
             "#bd3786"
            ],
            [
             0.5555555555555556,
             "#d8576b"
            ],
            [
             0.6666666666666666,
             "#ed7953"
            ],
            [
             0.7777777777777778,
             "#fb9f3a"
            ],
            [
             0.8888888888888888,
             "#fdca26"
            ],
            [
             1,
             "#f0f921"
            ]
           ]
          },
          "colorway": [
           "#636efa",
           "#EF553B",
           "#00cc96",
           "#ab63fa",
           "#FFA15A",
           "#19d3f3",
           "#FF6692",
           "#B6E880",
           "#FF97FF",
           "#FECB52"
          ],
          "font": {
           "color": "#2a3f5f"
          },
          "geo": {
           "bgcolor": "white",
           "lakecolor": "white",
           "landcolor": "#E5ECF6",
           "showlakes": true,
           "showland": true,
           "subunitcolor": "white"
          },
          "hoverlabel": {
           "align": "left"
          },
          "hovermode": "closest",
          "mapbox": {
           "style": "light"
          },
          "paper_bgcolor": "white",
          "plot_bgcolor": "#E5ECF6",
          "polar": {
           "angularaxis": {
            "gridcolor": "white",
            "linecolor": "white",
            "ticks": ""
           },
           "bgcolor": "#E5ECF6",
           "radialaxis": {
            "gridcolor": "white",
            "linecolor": "white",
            "ticks": ""
           }
          },
          "scene": {
           "xaxis": {
            "backgroundcolor": "#E5ECF6",
            "gridcolor": "white",
            "gridwidth": 2,
            "linecolor": "white",
            "showbackground": true,
            "ticks": "",
            "zerolinecolor": "white"
           },
           "yaxis": {
            "backgroundcolor": "#E5ECF6",
            "gridcolor": "white",
            "gridwidth": 2,
            "linecolor": "white",
            "showbackground": true,
            "ticks": "",
            "zerolinecolor": "white"
           },
           "zaxis": {
            "backgroundcolor": "#E5ECF6",
            "gridcolor": "white",
            "gridwidth": 2,
            "linecolor": "white",
            "showbackground": true,
            "ticks": "",
            "zerolinecolor": "white"
           }
          },
          "shapedefaults": {
           "line": {
            "color": "#2a3f5f"
           }
          },
          "ternary": {
           "aaxis": {
            "gridcolor": "white",
            "linecolor": "white",
            "ticks": ""
           },
           "baxis": {
            "gridcolor": "white",
            "linecolor": "white",
            "ticks": ""
           },
           "bgcolor": "#E5ECF6",
           "caxis": {
            "gridcolor": "white",
            "linecolor": "white",
            "ticks": ""
           }
          },
          "title": {
           "x": 0.05
          },
          "xaxis": {
           "automargin": true,
           "gridcolor": "white",
           "linecolor": "white",
           "ticks": "",
           "title": {
            "standoff": 15
           },
           "zerolinecolor": "white",
           "zerolinewidth": 2
          },
          "yaxis": {
           "automargin": true,
           "gridcolor": "white",
           "linecolor": "white",
           "ticks": "",
           "title": {
            "standoff": 15
           },
           "zerolinecolor": "white",
           "zerolinewidth": 2
          }
         }
        },
        "xaxis": {
         "anchor": "y",
         "domain": [
          0,
          1
         ],
         "title": {
          "text": "timestamp"
         }
        },
        "yaxis": {
         "anchor": "x",
         "domain": [
          0,
          1
         ],
         "title": {
          "text": "modification"
         }
        }
       }
      }
     },
     "metadata": {},
     "output_type": "display_data"
    }
   ],
   "source": [
    "import plotly.express as px\n",
    "\n",
    "fig = px.scatter(\n",
    "    group, x=\"timestamp\", y=\"modification\", labels={\"x\": \"month\", \"y\": \"count\"}\n",
    ")\n",
    "fig.update_layout(bargap=0.2)\n",
    "fig.show()"
   ]
  },
  {
   "cell_type": "code",
   "execution_count": 16,
   "id": "ea2b12df",
   "metadata": {},
   "outputs": [
    {
     "data": {
      "application/vnd.plotly.v1+json": {
       "config": {
        "plotlyServerURL": "https://plot.ly"
       },
       "data": [
        {
         "bingroup": "x",
         "histnorm": "probability density",
         "hovertemplate": "modification=%{x}<br>probability density=%{y}<extra></extra>",
         "legendgroup": "",
         "marker": {
          "color": "#636efa",
          "pattern": {
           "shape": ""
          }
         },
         "name": "",
         "nbinsx": 20,
         "orientation": "v",
         "showlegend": false,
         "type": "histogram",
         "x": {
          "bdata": "AQIBAQcCAQECAwECAgEBAQEBAQIDAQIBAgEBAQEBAwIBAQMDBAgBAQIEFgEBAQEBAQIBAQEBAQ0CAwECAQICAQIBAQEBAQIBAgEDAQEBAgEBAgEBAQECAQECAgEBAQICAQECAQEBAQEFBQEBAQEBAwEBAQEDAQIBAgEBAQEBAgIDQAEDAQEDBAMBAQIBAQEBAgEBAQIBAQEBAQECAQEBAgIDAwEBAQQBAQUBAQICAQMCAQEBAQEBBgEDAQQBAQIBAQMDAQMDAQICAgEBAQEBAQIBAggDAQIBAwEEAQEBAQIBAgIBAQEDBwYBAQY=",
          "dtype": "i1"
         },
         "xaxis": "x",
         "yaxis": "y"
        }
       ],
       "layout": {
        "bargap": 0.2,
        "barmode": "relative",
        "legend": {
         "tracegroupgap": 0
        },
        "margin": {
         "t": 60
        },
        "template": {
         "data": {
          "bar": [
           {
            "error_x": {
             "color": "#2a3f5f"
            },
            "error_y": {
             "color": "#2a3f5f"
            },
            "marker": {
             "line": {
              "color": "#E5ECF6",
              "width": 0.5
             },
             "pattern": {
              "fillmode": "overlay",
              "size": 10,
              "solidity": 0.2
             }
            },
            "type": "bar"
           }
          ],
          "barpolar": [
           {
            "marker": {
             "line": {
              "color": "#E5ECF6",
              "width": 0.5
             },
             "pattern": {
              "fillmode": "overlay",
              "size": 10,
              "solidity": 0.2
             }
            },
            "type": "barpolar"
           }
          ],
          "carpet": [
           {
            "aaxis": {
             "endlinecolor": "#2a3f5f",
             "gridcolor": "white",
             "linecolor": "white",
             "minorgridcolor": "white",
             "startlinecolor": "#2a3f5f"
            },
            "baxis": {
             "endlinecolor": "#2a3f5f",
             "gridcolor": "white",
             "linecolor": "white",
             "minorgridcolor": "white",
             "startlinecolor": "#2a3f5f"
            },
            "type": "carpet"
           }
          ],
          "choropleth": [
           {
            "colorbar": {
             "outlinewidth": 0,
             "ticks": ""
            },
            "type": "choropleth"
           }
          ],
          "contour": [
           {
            "colorbar": {
             "outlinewidth": 0,
             "ticks": ""
            },
            "colorscale": [
             [
              0,
              "#0d0887"
             ],
             [
              0.1111111111111111,
              "#46039f"
             ],
             [
              0.2222222222222222,
              "#7201a8"
             ],
             [
              0.3333333333333333,
              "#9c179e"
             ],
             [
              0.4444444444444444,
              "#bd3786"
             ],
             [
              0.5555555555555556,
              "#d8576b"
             ],
             [
              0.6666666666666666,
              "#ed7953"
             ],
             [
              0.7777777777777778,
              "#fb9f3a"
             ],
             [
              0.8888888888888888,
              "#fdca26"
             ],
             [
              1,
              "#f0f921"
             ]
            ],
            "type": "contour"
           }
          ],
          "contourcarpet": [
           {
            "colorbar": {
             "outlinewidth": 0,
             "ticks": ""
            },
            "type": "contourcarpet"
           }
          ],
          "heatmap": [
           {
            "colorbar": {
             "outlinewidth": 0,
             "ticks": ""
            },
            "colorscale": [
             [
              0,
              "#0d0887"
             ],
             [
              0.1111111111111111,
              "#46039f"
             ],
             [
              0.2222222222222222,
              "#7201a8"
             ],
             [
              0.3333333333333333,
              "#9c179e"
             ],
             [
              0.4444444444444444,
              "#bd3786"
             ],
             [
              0.5555555555555556,
              "#d8576b"
             ],
             [
              0.6666666666666666,
              "#ed7953"
             ],
             [
              0.7777777777777778,
              "#fb9f3a"
             ],
             [
              0.8888888888888888,
              "#fdca26"
             ],
             [
              1,
              "#f0f921"
             ]
            ],
            "type": "heatmap"
           }
          ],
          "histogram": [
           {
            "marker": {
             "pattern": {
              "fillmode": "overlay",
              "size": 10,
              "solidity": 0.2
             }
            },
            "type": "histogram"
           }
          ],
          "histogram2d": [
           {
            "colorbar": {
             "outlinewidth": 0,
             "ticks": ""
            },
            "colorscale": [
             [
              0,
              "#0d0887"
             ],
             [
              0.1111111111111111,
              "#46039f"
             ],
             [
              0.2222222222222222,
              "#7201a8"
             ],
             [
              0.3333333333333333,
              "#9c179e"
             ],
             [
              0.4444444444444444,
              "#bd3786"
             ],
             [
              0.5555555555555556,
              "#d8576b"
             ],
             [
              0.6666666666666666,
              "#ed7953"
             ],
             [
              0.7777777777777778,
              "#fb9f3a"
             ],
             [
              0.8888888888888888,
              "#fdca26"
             ],
             [
              1,
              "#f0f921"
             ]
            ],
            "type": "histogram2d"
           }
          ],
          "histogram2dcontour": [
           {
            "colorbar": {
             "outlinewidth": 0,
             "ticks": ""
            },
            "colorscale": [
             [
              0,
              "#0d0887"
             ],
             [
              0.1111111111111111,
              "#46039f"
             ],
             [
              0.2222222222222222,
              "#7201a8"
             ],
             [
              0.3333333333333333,
              "#9c179e"
             ],
             [
              0.4444444444444444,
              "#bd3786"
             ],
             [
              0.5555555555555556,
              "#d8576b"
             ],
             [
              0.6666666666666666,
              "#ed7953"
             ],
             [
              0.7777777777777778,
              "#fb9f3a"
             ],
             [
              0.8888888888888888,
              "#fdca26"
             ],
             [
              1,
              "#f0f921"
             ]
            ],
            "type": "histogram2dcontour"
           }
          ],
          "mesh3d": [
           {
            "colorbar": {
             "outlinewidth": 0,
             "ticks": ""
            },
            "type": "mesh3d"
           }
          ],
          "parcoords": [
           {
            "line": {
             "colorbar": {
              "outlinewidth": 0,
              "ticks": ""
             }
            },
            "type": "parcoords"
           }
          ],
          "pie": [
           {
            "automargin": true,
            "type": "pie"
           }
          ],
          "scatter": [
           {
            "fillpattern": {
             "fillmode": "overlay",
             "size": 10,
             "solidity": 0.2
            },
            "type": "scatter"
           }
          ],
          "scatter3d": [
           {
            "line": {
             "colorbar": {
              "outlinewidth": 0,
              "ticks": ""
             }
            },
            "marker": {
             "colorbar": {
              "outlinewidth": 0,
              "ticks": ""
             }
            },
            "type": "scatter3d"
           }
          ],
          "scattercarpet": [
           {
            "marker": {
             "colorbar": {
              "outlinewidth": 0,
              "ticks": ""
             }
            },
            "type": "scattercarpet"
           }
          ],
          "scattergeo": [
           {
            "marker": {
             "colorbar": {
              "outlinewidth": 0,
              "ticks": ""
             }
            },
            "type": "scattergeo"
           }
          ],
          "scattergl": [
           {
            "marker": {
             "colorbar": {
              "outlinewidth": 0,
              "ticks": ""
             }
            },
            "type": "scattergl"
           }
          ],
          "scattermap": [
           {
            "marker": {
             "colorbar": {
              "outlinewidth": 0,
              "ticks": ""
             }
            },
            "type": "scattermap"
           }
          ],
          "scattermapbox": [
           {
            "marker": {
             "colorbar": {
              "outlinewidth": 0,
              "ticks": ""
             }
            },
            "type": "scattermapbox"
           }
          ],
          "scatterpolar": [
           {
            "marker": {
             "colorbar": {
              "outlinewidth": 0,
              "ticks": ""
             }
            },
            "type": "scatterpolar"
           }
          ],
          "scatterpolargl": [
           {
            "marker": {
             "colorbar": {
              "outlinewidth": 0,
              "ticks": ""
             }
            },
            "type": "scatterpolargl"
           }
          ],
          "scatterternary": [
           {
            "marker": {
             "colorbar": {
              "outlinewidth": 0,
              "ticks": ""
             }
            },
            "type": "scatterternary"
           }
          ],
          "surface": [
           {
            "colorbar": {
             "outlinewidth": 0,
             "ticks": ""
            },
            "colorscale": [
             [
              0,
              "#0d0887"
             ],
             [
              0.1111111111111111,
              "#46039f"
             ],
             [
              0.2222222222222222,
              "#7201a8"
             ],
             [
              0.3333333333333333,
              "#9c179e"
             ],
             [
              0.4444444444444444,
              "#bd3786"
             ],
             [
              0.5555555555555556,
              "#d8576b"
             ],
             [
              0.6666666666666666,
              "#ed7953"
             ],
             [
              0.7777777777777778,
              "#fb9f3a"
             ],
             [
              0.8888888888888888,
              "#fdca26"
             ],
             [
              1,
              "#f0f921"
             ]
            ],
            "type": "surface"
           }
          ],
          "table": [
           {
            "cells": {
             "fill": {
              "color": "#EBF0F8"
             },
             "line": {
              "color": "white"
             }
            },
            "header": {
             "fill": {
              "color": "#C8D4E3"
             },
             "line": {
              "color": "white"
             }
            },
            "type": "table"
           }
          ]
         },
         "layout": {
          "annotationdefaults": {
           "arrowcolor": "#2a3f5f",
           "arrowhead": 0,
           "arrowwidth": 1
          },
          "autotypenumbers": "strict",
          "coloraxis": {
           "colorbar": {
            "outlinewidth": 0,
            "ticks": ""
           }
          },
          "colorscale": {
           "diverging": [
            [
             0,
             "#8e0152"
            ],
            [
             0.1,
             "#c51b7d"
            ],
            [
             0.2,
             "#de77ae"
            ],
            [
             0.3,
             "#f1b6da"
            ],
            [
             0.4,
             "#fde0ef"
            ],
            [
             0.5,
             "#f7f7f7"
            ],
            [
             0.6,
             "#e6f5d0"
            ],
            [
             0.7,
             "#b8e186"
            ],
            [
             0.8,
             "#7fbc41"
            ],
            [
             0.9,
             "#4d9221"
            ],
            [
             1,
             "#276419"
            ]
           ],
           "sequential": [
            [
             0,
             "#0d0887"
            ],
            [
             0.1111111111111111,
             "#46039f"
            ],
            [
             0.2222222222222222,
             "#7201a8"
            ],
            [
             0.3333333333333333,
             "#9c179e"
            ],
            [
             0.4444444444444444,
             "#bd3786"
            ],
            [
             0.5555555555555556,
             "#d8576b"
            ],
            [
             0.6666666666666666,
             "#ed7953"
            ],
            [
             0.7777777777777778,
             "#fb9f3a"
            ],
            [
             0.8888888888888888,
             "#fdca26"
            ],
            [
             1,
             "#f0f921"
            ]
           ],
           "sequentialminus": [
            [
             0,
             "#0d0887"
            ],
            [
             0.1111111111111111,
             "#46039f"
            ],
            [
             0.2222222222222222,
             "#7201a8"
            ],
            [
             0.3333333333333333,
             "#9c179e"
            ],
            [
             0.4444444444444444,
             "#bd3786"
            ],
            [
             0.5555555555555556,
             "#d8576b"
            ],
            [
             0.6666666666666666,
             "#ed7953"
            ],
            [
             0.7777777777777778,
             "#fb9f3a"
            ],
            [
             0.8888888888888888,
             "#fdca26"
            ],
            [
             1,
             "#f0f921"
            ]
           ]
          },
          "colorway": [
           "#636efa",
           "#EF553B",
           "#00cc96",
           "#ab63fa",
           "#FFA15A",
           "#19d3f3",
           "#FF6692",
           "#B6E880",
           "#FF97FF",
           "#FECB52"
          ],
          "font": {
           "color": "#2a3f5f"
          },
          "geo": {
           "bgcolor": "white",
           "lakecolor": "white",
           "landcolor": "#E5ECF6",
           "showlakes": true,
           "showland": true,
           "subunitcolor": "white"
          },
          "hoverlabel": {
           "align": "left"
          },
          "hovermode": "closest",
          "mapbox": {
           "style": "light"
          },
          "paper_bgcolor": "white",
          "plot_bgcolor": "#E5ECF6",
          "polar": {
           "angularaxis": {
            "gridcolor": "white",
            "linecolor": "white",
            "ticks": ""
           },
           "bgcolor": "#E5ECF6",
           "radialaxis": {
            "gridcolor": "white",
            "linecolor": "white",
            "ticks": ""
           }
          },
          "scene": {
           "xaxis": {
            "backgroundcolor": "#E5ECF6",
            "gridcolor": "white",
            "gridwidth": 2,
            "linecolor": "white",
            "showbackground": true,
            "ticks": "",
            "zerolinecolor": "white"
           },
           "yaxis": {
            "backgroundcolor": "#E5ECF6",
            "gridcolor": "white",
            "gridwidth": 2,
            "linecolor": "white",
            "showbackground": true,
            "ticks": "",
            "zerolinecolor": "white"
           },
           "zaxis": {
            "backgroundcolor": "#E5ECF6",
            "gridcolor": "white",
            "gridwidth": 2,
            "linecolor": "white",
            "showbackground": true,
            "ticks": "",
            "zerolinecolor": "white"
           }
          },
          "shapedefaults": {
           "line": {
            "color": "#2a3f5f"
           }
          },
          "ternary": {
           "aaxis": {
            "gridcolor": "white",
            "linecolor": "white",
            "ticks": ""
           },
           "baxis": {
            "gridcolor": "white",
            "linecolor": "white",
            "ticks": ""
           },
           "bgcolor": "#E5ECF6",
           "caxis": {
            "gridcolor": "white",
            "linecolor": "white",
            "ticks": ""
           }
          },
          "title": {
           "x": 0.05
          },
          "xaxis": {
           "automargin": true,
           "gridcolor": "white",
           "linecolor": "white",
           "ticks": "",
           "title": {
            "standoff": 15
           },
           "zerolinecolor": "white",
           "zerolinewidth": 2
          },
          "yaxis": {
           "automargin": true,
           "gridcolor": "white",
           "linecolor": "white",
           "ticks": "",
           "title": {
            "standoff": 15
           },
           "zerolinecolor": "white",
           "zerolinewidth": 2
          }
         }
        },
        "xaxis": {
         "anchor": "y",
         "domain": [
          0,
          1
         ],
         "title": {
          "text": "modification"
         }
        },
        "yaxis": {
         "anchor": "x",
         "domain": [
          0,
          1
         ],
         "title": {
          "text": "probability density"
         }
        }
       }
      }
     },
     "metadata": {},
     "output_type": "display_data"
    }
   ],
   "source": [
    "import plotly.express as px\n",
    "\n",
    "fig = px.histogram(group, x=\"modification\", histnorm=\"probability density\", nbins=20)\n",
    "fig.update_layout(bargap=0.2)\n",
    "fig.show()"
   ]
  },
  {
   "cell_type": "code",
   "execution_count": 17,
   "id": "b7b23cea",
   "metadata": {},
   "outputs": [],
   "source": [
    "import sys\n",
    "from SPARQLWrapper import SPARQLWrapper, JSON\n",
    "\n",
    "endpoint_url = \"https://query.wikidata.org/sparql\"\n",
    "\n",
    "query = \"\"\"SELECT ?heritagesite ?label ?coordinates {\n",
    "  ?heritagesite wdt:P1435 wd:Q9259;\n",
    "        wdt:P17 wd:Q142;\n",
    "        rdfs:label ?label;\n",
    "        wdt:P625 ?coordinates.\n",
    "        FILTER (lang(?label)=\"en\")\n",
    "}\n",
    "LIMIT 100\n",
    "\"\"\"\n",
    "\n",
    "\n",
    "def get_results(endpoint_url, query):\n",
    "    user_agent = \"WDQS-example Python/%s.%s\" % (\n",
    "        sys.version_info[0],\n",
    "        sys.version_info[1],\n",
    "    )\n",
    "    sparql = SPARQLWrapper(endpoint_url, agent=user_agent)\n",
    "    sparql.setQuery(query)\n",
    "    sparql.setReturnFormat(JSON)\n",
    "    return sparql.query().convert()\n",
    "\n",
    "\n",
    "results = get_results(endpoint_url, query)\n",
    "\n",
    "array = []\n",
    "for result in results[\"results\"][\"bindings\"]:\n",
    "    array.append(\n",
    "        [\n",
    "            result[\"heritagesite\"][\"value\"],\n",
    "            result[\"label\"][\"value\"],\n",
    "            result[\"coordinates\"][\"value\"],\n",
    "        ]\n",
    "    )"
   ]
  },
  {
   "cell_type": "code",
   "execution_count": 21,
   "id": "8748b229-f144-47dd-8b90-8cc2057878b7",
   "metadata": {},
   "outputs": [],
   "source": [
    "from shapely import wkt\n",
    "import geopandas as gp\n",
    "\n",
    "dataframe = pd.DataFrame(array, columns=[\"ID\", \"label\", \"coordinates\"])\n",
    "dataframe[\"coordinates\"] = dataframe[\"coordinates\"].apply(wkt.loads)\n",
    "\n",
    "geodataframe = gp.GeoDataFrame(dataframe, geometry=\"coordinates\")"
   ]
  },
  {
   "cell_type": "code",
   "execution_count": 22,
   "id": "10bcb32c-72d7-4bcb-a605-4f3067db0155",
   "metadata": {},
   "outputs": [
    {
     "data": {
      "text/plain": [
       "[['http://www.wikidata.org/entity/Q8399',\n",
       "  'Vieux Lyon',\n",
       "  'Point(4.828056 45.763056)']]"
      ]
     },
     "execution_count": 22,
     "metadata": {},
     "output_type": "execute_result"
    }
   ],
   "source": [
    "array[:1]"
   ]
  },
  {
   "cell_type": "code",
   "execution_count": 23,
   "id": "754c0311-aa99-47d3-a8c7-e063d4f7f268",
   "metadata": {},
   "outputs": [
    {
     "data": {
      "text/plain": [
       "ID               object\n",
       "label            object\n",
       "coordinates    geometry\n",
       "dtype: object"
      ]
     },
     "execution_count": 23,
     "metadata": {},
     "output_type": "execute_result"
    }
   ],
   "source": [
    "geodataframe.dtypes"
   ]
  },
  {
   "cell_type": "code",
   "execution_count": 25,
   "id": "aa4d480f-5a43-4a35-a4d9-e9ac73ab0199",
   "metadata": {},
   "outputs": [],
   "source": [
    "import folium\n",
    "\n",
    "map = folium.Map(location=[45.1093, 2.6753], zoom_start=6)\n",
    "geo_df_list = [[point.xy[1][0], point.xy[0][0]] for point in geodataframe.geometry]"
   ]
  },
  {
   "cell_type": "code",
   "execution_count": 26,
   "id": "968919b2-f854-4c30-9ac5-e50fe8c5a116",
   "metadata": {},
   "outputs": [
    {
     "data": {
      "text/html": [
       "<div style=\"width:100%;\"><div style=\"position:relative;width:100%;height:0;padding-bottom:60%;\"><span style=\"color:#565656\">Make this Notebook Trusted to load map: File -> Trust Notebook</span><iframe srcdoc=\"&lt;!DOCTYPE html&gt;\n",
       "&lt;html&gt;\n",
       "&lt;head&gt;\n",
       "    \n",
       "    &lt;meta http-equiv=&quot;content-type&quot; content=&quot;text/html; charset=UTF-8&quot; /&gt;\n",
       "    \n",
       "        &lt;script&gt;\n",
       "            L_NO_TOUCH = false;\n",
       "            L_DISABLE_3D = false;\n",
       "        &lt;/script&gt;\n",
       "    \n",
       "    &lt;style&gt;html, body {width: 100%;height: 100%;margin: 0;padding: 0;}&lt;/style&gt;\n",
       "    &lt;style&gt;#map {position:absolute;top:0;bottom:0;right:0;left:0;}&lt;/style&gt;\n",
       "    &lt;script src=&quot;https://cdn.jsdelivr.net/npm/leaflet@1.9.3/dist/leaflet.js&quot;&gt;&lt;/script&gt;\n",
       "    &lt;script src=&quot;https://code.jquery.com/jquery-3.7.1.min.js&quot;&gt;&lt;/script&gt;\n",
       "    &lt;script src=&quot;https://cdn.jsdelivr.net/npm/bootstrap@5.2.2/dist/js/bootstrap.bundle.min.js&quot;&gt;&lt;/script&gt;\n",
       "    &lt;script src=&quot;https://cdnjs.cloudflare.com/ajax/libs/Leaflet.awesome-markers/2.0.2/leaflet.awesome-markers.js&quot;&gt;&lt;/script&gt;\n",
       "    &lt;link rel=&quot;stylesheet&quot; href=&quot;https://cdn.jsdelivr.net/npm/leaflet@1.9.3/dist/leaflet.css&quot;/&gt;\n",
       "    &lt;link rel=&quot;stylesheet&quot; href=&quot;https://cdn.jsdelivr.net/npm/bootstrap@5.2.2/dist/css/bootstrap.min.css&quot;/&gt;\n",
       "    &lt;link rel=&quot;stylesheet&quot; href=&quot;https://netdna.bootstrapcdn.com/bootstrap/3.0.0/css/bootstrap-glyphicons.css&quot;/&gt;\n",
       "    &lt;link rel=&quot;stylesheet&quot; href=&quot;https://cdn.jsdelivr.net/npm/@fortawesome/fontawesome-free@6.2.0/css/all.min.css&quot;/&gt;\n",
       "    &lt;link rel=&quot;stylesheet&quot; href=&quot;https://cdnjs.cloudflare.com/ajax/libs/Leaflet.awesome-markers/2.0.2/leaflet.awesome-markers.css&quot;/&gt;\n",
       "    &lt;link rel=&quot;stylesheet&quot; href=&quot;https://cdn.jsdelivr.net/gh/python-visualization/folium/folium/templates/leaflet.awesome.rotate.min.css&quot;/&gt;\n",
       "    \n",
       "            &lt;meta name=&quot;viewport&quot; content=&quot;width=device-width,\n",
       "                initial-scale=1.0, maximum-scale=1.0, user-scalable=no&quot; /&gt;\n",
       "            &lt;style&gt;\n",
       "                #map_9852e89f35d882c90514aa8d685cd5bf {\n",
       "                    position: relative;\n",
       "                    width: 100.0%;\n",
       "                    height: 100.0%;\n",
       "                    left: 0.0%;\n",
       "                    top: 0.0%;\n",
       "                }\n",
       "                .leaflet-container { font-size: 1rem; }\n",
       "            &lt;/style&gt;\n",
       "        \n",
       "&lt;/head&gt;\n",
       "&lt;body&gt;\n",
       "    \n",
       "    \n",
       "            &lt;div class=&quot;folium-map&quot; id=&quot;map_9852e89f35d882c90514aa8d685cd5bf&quot; &gt;&lt;/div&gt;\n",
       "        \n",
       "&lt;/body&gt;\n",
       "&lt;script&gt;\n",
       "    \n",
       "    \n",
       "            var map_9852e89f35d882c90514aa8d685cd5bf = L.map(\n",
       "                &quot;map_9852e89f35d882c90514aa8d685cd5bf&quot;,\n",
       "                {\n",
       "                    center: [45.1093, 2.6753],\n",
       "                    crs: L.CRS.EPSG3857,\n",
       "                    ...{\n",
       "  &quot;zoom&quot;: 6,\n",
       "  &quot;zoomControl&quot;: true,\n",
       "  &quot;preferCanvas&quot;: false,\n",
       "}\n",
       "\n",
       "                }\n",
       "            );\n",
       "\n",
       "            \n",
       "\n",
       "        \n",
       "    \n",
       "            var tile_layer_b5edc89f9fa63a80c3f6a1b50dbbe767 = L.tileLayer(\n",
       "                &quot;https://tile.openstreetmap.org/{z}/{x}/{y}.png&quot;,\n",
       "                {\n",
       "  &quot;minZoom&quot;: 0,\n",
       "  &quot;maxZoom&quot;: 19,\n",
       "  &quot;maxNativeZoom&quot;: 19,\n",
       "  &quot;noWrap&quot;: false,\n",
       "  &quot;attribution&quot;: &quot;\\u0026copy; \\u003ca href=\\&quot;https://www.openstreetmap.org/copyright\\&quot;\\u003eOpenStreetMap\\u003c/a\\u003e contributors&quot;,\n",
       "  &quot;subdomains&quot;: &quot;abc&quot;,\n",
       "  &quot;detectRetina&quot;: false,\n",
       "  &quot;tms&quot;: false,\n",
       "  &quot;opacity&quot;: 1,\n",
       "}\n",
       "\n",
       "            );\n",
       "        \n",
       "    \n",
       "            tile_layer_b5edc89f9fa63a80c3f6a1b50dbbe767.addTo(map_9852e89f35d882c90514aa8d685cd5bf);\n",
       "        \n",
       "    \n",
       "            var marker_70f19b833f7eb27757cf1f9a79a3fa15 = L.marker(\n",
       "                [45.763056, 4.828056],\n",
       "                {\n",
       "}\n",
       "            ).addTo(map_9852e89f35d882c90514aa8d685cd5bf);\n",
       "        \n",
       "    \n",
       "            var icon_c3b7c32079a59b16b1ba461363c2079f = L.AwesomeMarkers.icon(\n",
       "                {\n",
       "  &quot;markerColor&quot;: &quot;green&quot;,\n",
       "  &quot;iconColor&quot;: &quot;white&quot;,\n",
       "  &quot;icon&quot;: &quot;info-sign&quot;,\n",
       "  &quot;prefix&quot;: &quot;glyphicon&quot;,\n",
       "  &quot;extraClasses&quot;: &quot;fa-rotate-0&quot;,\n",
       "}\n",
       "            );\n",
       "            marker_70f19b833f7eb27757cf1f9a79a3fa15.setIcon(icon_c3b7c32079a59b16b1ba461363c2079f);\n",
       "        \n",
       "    \n",
       "        var popup_c5140acc9d46311bb94c023ca9b2fb98 = L.popup({\n",
       "  &quot;maxWidth&quot;: &quot;100%&quot;,\n",
       "});\n",
       "\n",
       "        \n",
       "            \n",
       "                var html_bdd9dacf009c6dd52c6b814c40d088f9 = $(`&lt;div id=&quot;html_bdd9dacf009c6dd52c6b814c40d088f9&quot; style=&quot;width: 100.0%; height: 100.0%;&quot;&gt;Wikidata: &lt;a target=&#x27;_blank&#x27; href=&#x27;http://www.wikidata.org/entity/Q8399&#x27;&gt;Vieux Lyon&lt;/div&gt;`)[0];\n",
       "                popup_c5140acc9d46311bb94c023ca9b2fb98.setContent(html_bdd9dacf009c6dd52c6b814c40d088f9);\n",
       "            \n",
       "        \n",
       "\n",
       "        marker_70f19b833f7eb27757cf1f9a79a3fa15.bindPopup(popup_c5140acc9d46311bb94c023ca9b2fb98)\n",
       "        ;\n",
       "\n",
       "        \n",
       "    \n",
       "    \n",
       "            var marker_485260824b61f8a77a07bc9d80429cea = L.marker(\n",
       "                [45.0575, 1.17],\n",
       "                {\n",
       "}\n",
       "            ).addTo(map_9852e89f35d882c90514aa8d685cd5bf);\n",
       "        \n",
       "    \n",
       "            var icon_7ae22ac5c2c130bf4b3c539a84f9d017 = L.AwesomeMarkers.icon(\n",
       "                {\n",
       "  &quot;markerColor&quot;: &quot;green&quot;,\n",
       "  &quot;iconColor&quot;: &quot;white&quot;,\n",
       "  &quot;icon&quot;: &quot;info-sign&quot;,\n",
       "  &quot;prefix&quot;: &quot;glyphicon&quot;,\n",
       "  &quot;extraClasses&quot;: &quot;fa-rotate-0&quot;,\n",
       "}\n",
       "            );\n",
       "            marker_485260824b61f8a77a07bc9d80429cea.setIcon(icon_7ae22ac5c2c130bf4b3c539a84f9d017);\n",
       "        \n",
       "    \n",
       "        var popup_feb0541d48d6e36361d30346af2bab52 = L.popup({\n",
       "  &quot;maxWidth&quot;: &quot;100%&quot;,\n",
       "});\n",
       "\n",
       "        \n",
       "            \n",
       "                var html_70f146c803a31a68333b58011615643c = $(`&lt;div id=&quot;html_70f146c803a31a68333b58011615643c&quot; style=&quot;width: 100.0%; height: 100.0%;&quot;&gt;Wikidata: &lt;a target=&#x27;_blank&#x27; href=&#x27;http://www.wikidata.org/entity/Q463159&#x27;&gt;Prehistoric Sites and Decorated Caves of the Vézère Valley&lt;/div&gt;`)[0];\n",
       "                popup_feb0541d48d6e36361d30346af2bab52.setContent(html_70f146c803a31a68333b58011615643c);\n",
       "            \n",
       "        \n",
       "\n",
       "        marker_485260824b61f8a77a07bc9d80429cea.bindPopup(popup_feb0541d48d6e36361d30346af2bab52)\n",
       "        ;\n",
       "\n",
       "        \n",
       "    \n",
       "    \n",
       "            var marker_ca60fa470ddbbdbd55cbf27170a89667 = L.marker(\n",
       "                [47.639661, 4.389327],\n",
       "                {\n",
       "}\n",
       "            ).addTo(map_9852e89f35d882c90514aa8d685cd5bf);\n",
       "        \n",
       "    \n",
       "            var icon_984cb438b36c45cec4422d74e32dcde1 = L.AwesomeMarkers.icon(\n",
       "                {\n",
       "  &quot;markerColor&quot;: &quot;green&quot;,\n",
       "  &quot;iconColor&quot;: &quot;white&quot;,\n",
       "  &quot;icon&quot;: &quot;info-sign&quot;,\n",
       "  &quot;prefix&quot;: &quot;glyphicon&quot;,\n",
       "  &quot;extraClasses&quot;: &quot;fa-rotate-0&quot;,\n",
       "}\n",
       "            );\n",
       "            marker_ca60fa470ddbbdbd55cbf27170a89667.setIcon(icon_984cb438b36c45cec4422d74e32dcde1);\n",
       "        \n",
       "    \n",
       "        var popup_0b8c3f85f05f0423f2c56cb2074ffb1d = L.popup({\n",
       "  &quot;maxWidth&quot;: &quot;100%&quot;,\n",
       "});\n",
       "\n",
       "        \n",
       "            \n",
       "                var html_5a0589362881557a5b8e91ee0d14fd89 = $(`&lt;div id=&quot;html_5a0589362881557a5b8e91ee0d14fd89&quot; style=&quot;width: 100.0%; height: 100.0%;&quot;&gt;Wikidata: &lt;a target=&#x27;_blank&#x27; href=&#x27;http://www.wikidata.org/entity/Q464918&#x27;&gt;Abbey of Fontenay&lt;/div&gt;`)[0];\n",
       "                popup_0b8c3f85f05f0423f2c56cb2074ffb1d.setContent(html_5a0589362881557a5b8e91ee0d14fd89);\n",
       "            \n",
       "        \n",
       "\n",
       "        marker_ca60fa470ddbbdbd55cbf27170a89667.bindPopup(popup_0b8c3f85f05f0423f2c56cb2074ffb1d)\n",
       "        ;\n",
       "\n",
       "        \n",
       "    \n",
       "    \n",
       "            var marker_3ef08d70bea868f4ab550182137bd214 = L.marker(\n",
       "                [48.804722222, 2.120277777],\n",
       "                {\n",
       "}\n",
       "            ).addTo(map_9852e89f35d882c90514aa8d685cd5bf);\n",
       "        \n",
       "    \n",
       "            var icon_7fb6e8114c0508d750d5257851990d43 = L.AwesomeMarkers.icon(\n",
       "                {\n",
       "  &quot;markerColor&quot;: &quot;green&quot;,\n",
       "  &quot;iconColor&quot;: &quot;white&quot;,\n",
       "  &quot;icon&quot;: &quot;info-sign&quot;,\n",
       "  &quot;prefix&quot;: &quot;glyphicon&quot;,\n",
       "  &quot;extraClasses&quot;: &quot;fa-rotate-0&quot;,\n",
       "}\n",
       "            );\n",
       "            marker_3ef08d70bea868f4ab550182137bd214.setIcon(icon_7fb6e8114c0508d750d5257851990d43);\n",
       "        \n",
       "    \n",
       "        var popup_68c5ab1b632e86069e6128cfaf701966 = L.popup({\n",
       "  &quot;maxWidth&quot;: &quot;100%&quot;,\n",
       "});\n",
       "\n",
       "        \n",
       "            \n",
       "                var html_8c33e8a70f1d96f6fe5abd09401a6899 = $(`&lt;div id=&quot;html_8c33e8a70f1d96f6fe5abd09401a6899&quot; style=&quot;width: 100.0%; height: 100.0%;&quot;&gt;Wikidata: &lt;a target=&#x27;_blank&#x27; href=&#x27;http://www.wikidata.org/entity/Q2946&#x27;&gt;Palace of Versailles&lt;/div&gt;`)[0];\n",
       "                popup_68c5ab1b632e86069e6128cfaf701966.setContent(html_8c33e8a70f1d96f6fe5abd09401a6899);\n",
       "            \n",
       "        \n",
       "\n",
       "        marker_3ef08d70bea868f4ab550182137bd214.bindPopup(popup_68c5ab1b632e86069e6128cfaf701966)\n",
       "        ;\n",
       "\n",
       "        \n",
       "    \n",
       "    \n",
       "            var marker_d9f2acda9833cbb8b704611dd0aae418 = L.marker(\n",
       "                [43.953888888, 4.805],\n",
       "                {\n",
       "}\n",
       "            ).addTo(map_9852e89f35d882c90514aa8d685cd5bf);\n",
       "        \n",
       "    \n",
       "            var icon_67315999abc48e63ae2d2617c368e054 = L.AwesomeMarkers.icon(\n",
       "                {\n",
       "  &quot;markerColor&quot;: &quot;green&quot;,\n",
       "  &quot;iconColor&quot;: &quot;white&quot;,\n",
       "  &quot;icon&quot;: &quot;info-sign&quot;,\n",
       "  &quot;prefix&quot;: &quot;glyphicon&quot;,\n",
       "  &quot;extraClasses&quot;: &quot;fa-rotate-0&quot;,\n",
       "}\n",
       "            );\n",
       "            marker_d9f2acda9833cbb8b704611dd0aae418.setIcon(icon_67315999abc48e63ae2d2617c368e054);\n",
       "        \n",
       "    \n",
       "        var popup_bd7411113b0f057d5c1e1ad5f4fcb4db = L.popup({\n",
       "  &quot;maxWidth&quot;: &quot;100%&quot;,\n",
       "});\n",
       "\n",
       "        \n",
       "            \n",
       "                var html_9c176f843cce8b1a35df24ee081c7020 = $(`&lt;div id=&quot;html_9c176f843cce8b1a35df24ee081c7020&quot; style=&quot;width: 100.0%; height: 100.0%;&quot;&gt;Wikidata: &lt;a target=&#x27;_blank&#x27; href=&#x27;http://www.wikidata.org/entity/Q284444&#x27;&gt;Pont Saint-Bénézet&lt;/div&gt;`)[0];\n",
       "                popup_bd7411113b0f057d5c1e1ad5f4fcb4db.setContent(html_9c176f843cce8b1a35df24ee081c7020);\n",
       "            \n",
       "        \n",
       "\n",
       "        marker_d9f2acda9833cbb8b704611dd0aae418.bindPopup(popup_bd7411113b0f057d5c1e1ad5f4fcb4db)\n",
       "        ;\n",
       "\n",
       "        \n",
       "    \n",
       "    \n",
       "            var marker_b76e07de3494b237de3c119cf384fc68 = L.marker(\n",
       "                [44.3881219, 4.4161408],\n",
       "                {\n",
       "}\n",
       "            ).addTo(map_9852e89f35d882c90514aa8d685cd5bf);\n",
       "        \n",
       "    \n",
       "            var icon_b1ad204adf20ada7d009c77397fe6240 = L.AwesomeMarkers.icon(\n",
       "                {\n",
       "  &quot;markerColor&quot;: &quot;green&quot;,\n",
       "  &quot;iconColor&quot;: &quot;white&quot;,\n",
       "  &quot;icon&quot;: &quot;info-sign&quot;,\n",
       "  &quot;prefix&quot;: &quot;glyphicon&quot;,\n",
       "  &quot;extraClasses&quot;: &quot;fa-rotate-0&quot;,\n",
       "}\n",
       "            );\n",
       "            marker_b76e07de3494b237de3c119cf384fc68.setIcon(icon_b1ad204adf20ada7d009c77397fe6240);\n",
       "        \n",
       "    \n",
       "        var popup_67d2e0b06969d343c4c8647476ef04f9 = L.popup({\n",
       "  &quot;maxWidth&quot;: &quot;100%&quot;,\n",
       "});\n",
       "\n",
       "        \n",
       "            \n",
       "                var html_b8c4f729e22b32dcecee2907e984c51a = $(`&lt;div id=&quot;html_b8c4f729e22b32dcecee2907e984c51a&quot; style=&quot;width: 100.0%; height: 100.0%;&quot;&gt;Wikidata: &lt;a target=&#x27;_blank&#x27; href=&#x27;http://www.wikidata.org/entity/Q374096&#x27;&gt;Chauvet Cave&lt;/div&gt;`)[0];\n",
       "                popup_67d2e0b06969d343c4c8647476ef04f9.setContent(html_b8c4f729e22b32dcecee2907e984c51a);\n",
       "            \n",
       "        \n",
       "\n",
       "        marker_b76e07de3494b237de3c119cf384fc68.bindPopup(popup_67d2e0b06969d343c4c8647476ef04f9)\n",
       "        ;\n",
       "\n",
       "        \n",
       "    \n",
       "    \n",
       "            var marker_e6b1e09692729daf297ad83d934a02ee = L.marker(\n",
       "                [43.206439, 2.363788],\n",
       "                {\n",
       "}\n",
       "            ).addTo(map_9852e89f35d882c90514aa8d685cd5bf);\n",
       "        \n",
       "    \n",
       "            var icon_5b5b2be3d9df503d0fd9fda3490ac5e1 = L.AwesomeMarkers.icon(\n",
       "                {\n",
       "  &quot;markerColor&quot;: &quot;green&quot;,\n",
       "  &quot;iconColor&quot;: &quot;white&quot;,\n",
       "  &quot;icon&quot;: &quot;info-sign&quot;,\n",
       "  &quot;prefix&quot;: &quot;glyphicon&quot;,\n",
       "  &quot;extraClasses&quot;: &quot;fa-rotate-0&quot;,\n",
       "}\n",
       "            );\n",
       "            marker_e6b1e09692729daf297ad83d934a02ee.setIcon(icon_5b5b2be3d9df503d0fd9fda3490ac5e1);\n",
       "        \n",
       "    \n",
       "        var popup_b0a9628e7ee1cfcc8200775faa0d54b8 = L.popup({\n",
       "  &quot;maxWidth&quot;: &quot;100%&quot;,\n",
       "});\n",
       "\n",
       "        \n",
       "            \n",
       "                var html_9088c8eca24b4a0449cbbfdf48690aae = $(`&lt;div id=&quot;html_9088c8eca24b4a0449cbbfdf48690aae&quot; style=&quot;width: 100.0%; height: 100.0%;&quot;&gt;Wikidata: &lt;a target=&#x27;_blank&#x27; href=&#x27;http://www.wikidata.org/entity/Q389269&#x27;&gt;Cité de Carcassonne&lt;/div&gt;`)[0];\n",
       "                popup_b0a9628e7ee1cfcc8200775faa0d54b8.setContent(html_9088c8eca24b4a0449cbbfdf48690aae);\n",
       "            \n",
       "        \n",
       "\n",
       "        marker_e6b1e09692729daf297ad83d934a02ee.bindPopup(popup_b0a9628e7ee1cfcc8200775faa0d54b8)\n",
       "        ;\n",
       "\n",
       "        \n",
       "    \n",
       "    \n",
       "            var marker_c5b2e38be867c8f1429ad2c58a47d50a = L.marker(\n",
       "                [50.4625, 3.54611],\n",
       "                {\n",
       "}\n",
       "            ).addTo(map_9852e89f35d882c90514aa8d685cd5bf);\n",
       "        \n",
       "    \n",
       "            var icon_3441798b4203369d02dde6f11f8f7966 = L.AwesomeMarkers.icon(\n",
       "                {\n",
       "  &quot;markerColor&quot;: &quot;green&quot;,\n",
       "  &quot;iconColor&quot;: &quot;white&quot;,\n",
       "  &quot;icon&quot;: &quot;info-sign&quot;,\n",
       "  &quot;prefix&quot;: &quot;glyphicon&quot;,\n",
       "  &quot;extraClasses&quot;: &quot;fa-rotate-0&quot;,\n",
       "}\n",
       "            );\n",
       "            marker_c5b2e38be867c8f1429ad2c58a47d50a.setIcon(icon_3441798b4203369d02dde6f11f8f7966);\n",
       "        \n",
       "    \n",
       "        var popup_bd5fa1f5cbe54804fa90ffe41fb0d885 = L.popup({\n",
       "  &quot;maxWidth&quot;: &quot;100%&quot;,\n",
       "});\n",
       "\n",
       "        \n",
       "            \n",
       "                var html_6e612c3caf6467e09449afab98faad0d = $(`&lt;div id=&quot;html_6e612c3caf6467e09449afab98faad0d&quot; style=&quot;width: 100.0%; height: 100.0%;&quot;&gt;Wikidata: &lt;a target=&#x27;_blank&#x27; href=&#x27;http://www.wikidata.org/entity/Q392215&#x27;&gt;northern French coal mining region&lt;/div&gt;`)[0];\n",
       "                popup_bd5fa1f5cbe54804fa90ffe41fb0d885.setContent(html_6e612c3caf6467e09449afab98faad0d);\n",
       "            \n",
       "        \n",
       "\n",
       "        marker_c5b2e38be867c8f1429ad2c58a47d50a.bindPopup(popup_bd5fa1f5cbe54804fa90ffe41fb0d885)\n",
       "        ;\n",
       "\n",
       "        \n",
       "    \n",
       "    \n",
       "            var marker_edc563ee462efd8d46dcb5825d30a02c = L.marker(\n",
       "                [36.32056, 5.73667],\n",
       "                {\n",
       "}\n",
       "            ).addTo(map_9852e89f35d882c90514aa8d685cd5bf);\n",
       "        \n",
       "    \n",
       "            var icon_321a1d6b4fc6ef1185446b8b7449be05 = L.AwesomeMarkers.icon(\n",
       "                {\n",
       "  &quot;markerColor&quot;: &quot;green&quot;,\n",
       "  &quot;iconColor&quot;: &quot;white&quot;,\n",
       "  &quot;icon&quot;: &quot;info-sign&quot;,\n",
       "  &quot;prefix&quot;: &quot;glyphicon&quot;,\n",
       "  &quot;extraClasses&quot;: &quot;fa-rotate-0&quot;,\n",
       "}\n",
       "            );\n",
       "            marker_edc563ee462efd8d46dcb5825d30a02c.setIcon(icon_321a1d6b4fc6ef1185446b8b7449be05);\n",
       "        \n",
       "    \n",
       "        var popup_1c6078ac267c5c2c6c0a16306ae62193 = L.popup({\n",
       "  &quot;maxWidth&quot;: &quot;100%&quot;,\n",
       "});\n",
       "\n",
       "        \n",
       "            \n",
       "                var html_71b17b20bac5d048f15257b0924d513b = $(`&lt;div id=&quot;html_71b17b20bac5d048f15257b0924d513b&quot; style=&quot;width: 100.0%; height: 100.0%;&quot;&gt;Wikidata: &lt;a target=&#x27;_blank&#x27; href=&#x27;http://www.wikidata.org/entity/Q457362&#x27;&gt;Djemila&lt;/div&gt;`)[0];\n",
       "                popup_1c6078ac267c5c2c6c0a16306ae62193.setContent(html_71b17b20bac5d048f15257b0924d513b);\n",
       "            \n",
       "        \n",
       "\n",
       "        marker_edc563ee462efd8d46dcb5825d30a02c.bindPopup(popup_1c6078ac267c5c2c6c0a16306ae62193)\n",
       "        ;\n",
       "\n",
       "        \n",
       "    \n",
       "    \n",
       "            var marker_3bf29579baedf1e53763642c442a4c1f = L.marker(\n",
       "                [49.216667, 5.438889],\n",
       "                {\n",
       "}\n",
       "            ).addTo(map_9852e89f35d882c90514aa8d685cd5bf);\n",
       "        \n",
       "    \n",
       "            var icon_561358e0abef2475f40b9d105db122f3 = L.AwesomeMarkers.icon(\n",
       "                {\n",
       "  &quot;markerColor&quot;: &quot;green&quot;,\n",
       "  &quot;iconColor&quot;: &quot;white&quot;,\n",
       "  &quot;icon&quot;: &quot;info-sign&quot;,\n",
       "  &quot;prefix&quot;: &quot;glyphicon&quot;,\n",
       "  &quot;extraClasses&quot;: &quot;fa-rotate-0&quot;,\n",
       "}\n",
       "            );\n",
       "            marker_3bf29579baedf1e53763642c442a4c1f.setIcon(icon_561358e0abef2475f40b9d105db122f3);\n",
       "        \n",
       "    \n",
       "        var popup_911fcdc32deea1062b24ee74b4de9f57 = L.popup({\n",
       "  &quot;maxWidth&quot;: &quot;100%&quot;,\n",
       "});\n",
       "\n",
       "        \n",
       "            \n",
       "                var html_cec7b9e811a259a496881bf63359eb69 = $(`&lt;div id=&quot;html_cec7b9e811a259a496881bf63359eb69&quot; style=&quot;width: 100.0%; height: 100.0%;&quot;&gt;Wikidata: &lt;a target=&#x27;_blank&#x27; href=&#x27;http://www.wikidata.org/entity/Q186536&#x27;&gt;Fort Douaumont&lt;/div&gt;`)[0];\n",
       "                popup_911fcdc32deea1062b24ee74b4de9f57.setContent(html_cec7b9e811a259a496881bf63359eb69);\n",
       "            \n",
       "        \n",
       "\n",
       "        marker_3bf29579baedf1e53763642c442a4c1f.bindPopup(popup_911fcdc32deea1062b24ee74b4de9f57)\n",
       "        ;\n",
       "\n",
       "        \n",
       "    \n",
       "    \n",
       "            var marker_d8c2034fc0cc1bf5b84c12022f427a4e = L.marker(\n",
       "                [43.9473, 4.5355],\n",
       "                {\n",
       "}\n",
       "            ).addTo(map_9852e89f35d882c90514aa8d685cd5bf);\n",
       "        \n",
       "    \n",
       "            var icon_35d64cd4db4acad37199e227f7d66efb = L.AwesomeMarkers.icon(\n",
       "                {\n",
       "  &quot;markerColor&quot;: &quot;green&quot;,\n",
       "  &quot;iconColor&quot;: &quot;white&quot;,\n",
       "  &quot;icon&quot;: &quot;info-sign&quot;,\n",
       "  &quot;prefix&quot;: &quot;glyphicon&quot;,\n",
       "  &quot;extraClasses&quot;: &quot;fa-rotate-0&quot;,\n",
       "}\n",
       "            );\n",
       "            marker_d8c2034fc0cc1bf5b84c12022f427a4e.setIcon(icon_35d64cd4db4acad37199e227f7d66efb);\n",
       "        \n",
       "    \n",
       "        var popup_568737c7a12a62e53999ed271fcc8fa8 = L.popup({\n",
       "  &quot;maxWidth&quot;: &quot;100%&quot;,\n",
       "});\n",
       "\n",
       "        \n",
       "            \n",
       "                var html_b6622e8d55157ec11a8b6dfe0a493612 = $(`&lt;div id=&quot;html_b6622e8d55157ec11a8b6dfe0a493612&quot; style=&quot;width: 100.0%; height: 100.0%;&quot;&gt;Wikidata: &lt;a target=&#x27;_blank&#x27; href=&#x27;http://www.wikidata.org/entity/Q189764&#x27;&gt;Pont du Gard&lt;/div&gt;`)[0];\n",
       "                popup_568737c7a12a62e53999ed271fcc8fa8.setContent(html_b6622e8d55157ec11a8b6dfe0a493612);\n",
       "            \n",
       "        \n",
       "\n",
       "        marker_d8c2034fc0cc1bf5b84c12022f427a4e.bindPopup(popup_568737c7a12a62e53999ed271fcc8fa8)\n",
       "        ;\n",
       "\n",
       "        \n",
       "    \n",
       "    \n",
       "            var marker_ca5d2ff4e2eca07a77ad060c179faf99 = L.marker(\n",
       "                [45.5863198, -1.1733254],\n",
       "                {\n",
       "}\n",
       "            ).addTo(map_9852e89f35d882c90514aa8d685cd5bf);\n",
       "        \n",
       "    \n",
       "            var icon_1505b69d195ab06b500c52fb43e9b65c = L.AwesomeMarkers.icon(\n",
       "                {\n",
       "  &quot;markerColor&quot;: &quot;green&quot;,\n",
       "  &quot;iconColor&quot;: &quot;white&quot;,\n",
       "  &quot;icon&quot;: &quot;info-sign&quot;,\n",
       "  &quot;prefix&quot;: &quot;glyphicon&quot;,\n",
       "  &quot;extraClasses&quot;: &quot;fa-rotate-0&quot;,\n",
       "}\n",
       "            );\n",
       "            marker_ca5d2ff4e2eca07a77ad060c179faf99.setIcon(icon_1505b69d195ab06b500c52fb43e9b65c);\n",
       "        \n",
       "    \n",
       "        var popup_c3df26ec2727c8d916c58483e0b2b603 = L.popup({\n",
       "  &quot;maxWidth&quot;: &quot;100%&quot;,\n",
       "});\n",
       "\n",
       "        \n",
       "            \n",
       "                var html_1b4d1357c718249dcbf5a02722e9fb5b = $(`&lt;div id=&quot;html_1b4d1357c718249dcbf5a02722e9fb5b&quot; style=&quot;width: 100.0%; height: 100.0%;&quot;&gt;Wikidata: &lt;a target=&#x27;_blank&#x27; href=&#x27;http://www.wikidata.org/entity/Q199234&#x27;&gt;Cordouan Lighthouse&lt;/div&gt;`)[0];\n",
       "                popup_c3df26ec2727c8d916c58483e0b2b603.setContent(html_1b4d1357c718249dcbf5a02722e9fb5b);\n",
       "            \n",
       "        \n",
       "\n",
       "        marker_ca5d2ff4e2eca07a77ad060c179faf99.bindPopup(popup_c3df26ec2727c8d916c58483e0b2b603)\n",
       "        ;\n",
       "\n",
       "        \n",
       "    \n",
       "    \n",
       "            var marker_a8e32d2a6ea947e8ccbe770e5179f491 = L.marker(\n",
       "                [45.752778, 5.838056],\n",
       "                {\n",
       "}\n",
       "            ).addTo(map_9852e89f35d882c90514aa8d685cd5bf);\n",
       "        \n",
       "    \n",
       "            var icon_a9994d07197d3e50212ce526afa2c5f5 = L.AwesomeMarkers.icon(\n",
       "                {\n",
       "  &quot;markerColor&quot;: &quot;green&quot;,\n",
       "  &quot;iconColor&quot;: &quot;white&quot;,\n",
       "  &quot;icon&quot;: &quot;info-sign&quot;,\n",
       "  &quot;prefix&quot;: &quot;glyphicon&quot;,\n",
       "  &quot;extraClasses&quot;: &quot;fa-rotate-0&quot;,\n",
       "}\n",
       "            );\n",
       "            marker_a8e32d2a6ea947e8ccbe770e5179f491.setIcon(icon_a9994d07197d3e50212ce526afa2c5f5);\n",
       "        \n",
       "    \n",
       "        var popup_d5e6b9a6d1dfb476982155114f289a37 = L.popup({\n",
       "  &quot;maxWidth&quot;: &quot;100%&quot;,\n",
       "});\n",
       "\n",
       "        \n",
       "            \n",
       "                var html_796f229349ac5f4b6cbeb64899f27c3f = $(`&lt;div id=&quot;html_796f229349ac5f4b6cbeb64899f27c3f&quot; style=&quot;width: 100.0%; height: 100.0%;&quot;&gt;Wikidata: &lt;a target=&#x27;_blank&#x27; href=&#x27;http://www.wikidata.org/entity/Q63524&#x27;&gt;Hautecombe Abbey&lt;/div&gt;`)[0];\n",
       "                popup_d5e6b9a6d1dfb476982155114f289a37.setContent(html_796f229349ac5f4b6cbeb64899f27c3f);\n",
       "            \n",
       "        \n",
       "\n",
       "        marker_a8e32d2a6ea947e8ccbe770e5179f491.bindPopup(popup_d5e6b9a6d1dfb476982155114f289a37)\n",
       "        ;\n",
       "\n",
       "        \n",
       "    \n",
       "    \n",
       "            var marker_d69e752ecac095fbd9a5700382383e06 = L.marker(\n",
       "                [49.89457, 2.3021],\n",
       "                {\n",
       "}\n",
       "            ).addTo(map_9852e89f35d882c90514aa8d685cd5bf);\n",
       "        \n",
       "    \n",
       "            var icon_e22124eb247d792e76fb1d91f0c735eb = L.AwesomeMarkers.icon(\n",
       "                {\n",
       "  &quot;markerColor&quot;: &quot;green&quot;,\n",
       "  &quot;iconColor&quot;: &quot;white&quot;,\n",
       "  &quot;icon&quot;: &quot;info-sign&quot;,\n",
       "  &quot;prefix&quot;: &quot;glyphicon&quot;,\n",
       "  &quot;extraClasses&quot;: &quot;fa-rotate-0&quot;,\n",
       "}\n",
       "            );\n",
       "            marker_d69e752ecac095fbd9a5700382383e06.setIcon(icon_e22124eb247d792e76fb1d91f0c735eb);\n",
       "        \n",
       "    \n",
       "        var popup_573909b45e56e3fbdbb3ccf5732fe7b1 = L.popup({\n",
       "  &quot;maxWidth&quot;: &quot;100%&quot;,\n",
       "});\n",
       "\n",
       "        \n",
       "            \n",
       "                var html_fa8250e493483aebe6ee2012f4b76ced = $(`&lt;div id=&quot;html_fa8250e493483aebe6ee2012f4b76ced&quot; style=&quot;width: 100.0%; height: 100.0%;&quot;&gt;Wikidata: &lt;a target=&#x27;_blank&#x27; href=&#x27;http://www.wikidata.org/entity/Q106934&#x27;&gt;Notre-Dame d&#x27;Amiens&lt;/div&gt;`)[0];\n",
       "                popup_573909b45e56e3fbdbb3ccf5732fe7b1.setContent(html_fa8250e493483aebe6ee2012f4b76ced);\n",
       "            \n",
       "        \n",
       "\n",
       "        marker_d69e752ecac095fbd9a5700382383e06.bindPopup(popup_573909b45e56e3fbdbb3ccf5732fe7b1)\n",
       "        ;\n",
       "\n",
       "        \n",
       "    \n",
       "    \n",
       "            var marker_de03ca6274f058b10d46c4273412d323 = L.marker(\n",
       "                [49.0, 15.0],\n",
       "                {\n",
       "}\n",
       "            ).addTo(map_9852e89f35d882c90514aa8d685cd5bf);\n",
       "        \n",
       "    \n",
       "            var icon_eacfb06896412f8666388fd81088f7d8 = L.AwesomeMarkers.icon(\n",
       "                {\n",
       "  &quot;markerColor&quot;: &quot;green&quot;,\n",
       "  &quot;iconColor&quot;: &quot;white&quot;,\n",
       "  &quot;icon&quot;: &quot;info-sign&quot;,\n",
       "  &quot;prefix&quot;: &quot;glyphicon&quot;,\n",
       "  &quot;extraClasses&quot;: &quot;fa-rotate-0&quot;,\n",
       "}\n",
       "            );\n",
       "            marker_de03ca6274f058b10d46c4273412d323.setIcon(icon_eacfb06896412f8666388fd81088f7d8);\n",
       "        \n",
       "    \n",
       "        var popup_6e6175a06756ac8c7733b0822c6bb84f = L.popup({\n",
       "  &quot;maxWidth&quot;: &quot;100%&quot;,\n",
       "});\n",
       "\n",
       "        \n",
       "            \n",
       "                var html_1b3fa447cde1c7268c3b5a9ae39e6f6e = $(`&lt;div id=&quot;html_1b3fa447cde1c7268c3b5a9ae39e6f6e&quot; style=&quot;width: 100.0%; height: 100.0%;&quot;&gt;Wikidata: &lt;a target=&#x27;_blank&#x27; href=&#x27;http://www.wikidata.org/entity/Q156011&#x27;&gt;Ancient and Primeval Beech Forests of the Carpathians and Other Regions of Europe&lt;/div&gt;`)[0];\n",
       "                popup_6e6175a06756ac8c7733b0822c6bb84f.setContent(html_1b3fa447cde1c7268c3b5a9ae39e6f6e);\n",
       "            \n",
       "        \n",
       "\n",
       "        marker_de03ca6274f058b10d46c4273412d323.bindPopup(popup_6e6175a06756ac8c7733b0822c6bb84f)\n",
       "        ;\n",
       "\n",
       "        \n",
       "    \n",
       "    \n",
       "            var marker_91f7f9a8f9fadede7d4b5382b2a98f5d = L.marker(\n",
       "                [-9.0, -139.5],\n",
       "                {\n",
       "}\n",
       "            ).addTo(map_9852e89f35d882c90514aa8d685cd5bf);\n",
       "        \n",
       "    \n",
       "            var icon_a32d61e5c9bfacfbd5d5e52e93786e7c = L.AwesomeMarkers.icon(\n",
       "                {\n",
       "  &quot;markerColor&quot;: &quot;green&quot;,\n",
       "  &quot;iconColor&quot;: &quot;white&quot;,\n",
       "  &quot;icon&quot;: &quot;info-sign&quot;,\n",
       "  &quot;prefix&quot;: &quot;glyphicon&quot;,\n",
       "  &quot;extraClasses&quot;: &quot;fa-rotate-0&quot;,\n",
       "}\n",
       "            );\n",
       "            marker_91f7f9a8f9fadede7d4b5382b2a98f5d.setIcon(icon_a32d61e5c9bfacfbd5d5e52e93786e7c);\n",
       "        \n",
       "    \n",
       "        var popup_2c81ea8eb9e2e06a906ff618e8abd89a = L.popup({\n",
       "  &quot;maxWidth&quot;: &quot;100%&quot;,\n",
       "});\n",
       "\n",
       "        \n",
       "            \n",
       "                var html_483e6a8ff3d7dd537409b27bf857530b = $(`&lt;div id=&quot;html_483e6a8ff3d7dd537409b27bf857530b&quot; style=&quot;width: 100.0%; height: 100.0%;&quot;&gt;Wikidata: &lt;a target=&#x27;_blank&#x27; href=&#x27;http://www.wikidata.org/entity/Q172697&#x27;&gt;Marquesas Islands&lt;/div&gt;`)[0];\n",
       "                popup_2c81ea8eb9e2e06a906ff618e8abd89a.setContent(html_483e6a8ff3d7dd537409b27bf857530b);\n",
       "            \n",
       "        \n",
       "\n",
       "        marker_91f7f9a8f9fadede7d4b5382b2a98f5d.bindPopup(popup_2c81ea8eb9e2e06a906ff618e8abd89a)\n",
       "        ;\n",
       "\n",
       "        \n",
       "    \n",
       "    \n",
       "            var marker_dffd8fdcbff865691e93994aa41887be = L.marker(\n",
       "                [48.402222222, 2.700555555],\n",
       "                {\n",
       "}\n",
       "            ).addTo(map_9852e89f35d882c90514aa8d685cd5bf);\n",
       "        \n",
       "    \n",
       "            var icon_4af244ace189df9189f1092129a2a0d3 = L.AwesomeMarkers.icon(\n",
       "                {\n",
       "  &quot;markerColor&quot;: &quot;green&quot;,\n",
       "  &quot;iconColor&quot;: &quot;white&quot;,\n",
       "  &quot;icon&quot;: &quot;info-sign&quot;,\n",
       "  &quot;prefix&quot;: &quot;glyphicon&quot;,\n",
       "  &quot;extraClasses&quot;: &quot;fa-rotate-0&quot;,\n",
       "}\n",
       "            );\n",
       "            marker_dffd8fdcbff865691e93994aa41887be.setIcon(icon_4af244ace189df9189f1092129a2a0d3);\n",
       "        \n",
       "    \n",
       "        var popup_50a074bcdd05d02d15cedd7db24d57b1 = L.popup({\n",
       "  &quot;maxWidth&quot;: &quot;100%&quot;,\n",
       "});\n",
       "\n",
       "        \n",
       "            \n",
       "                var html_13e52f32d271158d52c722a6b7dbed5b = $(`&lt;div id=&quot;html_13e52f32d271158d52c722a6b7dbed5b&quot; style=&quot;width: 100.0%; height: 100.0%;&quot;&gt;Wikidata: &lt;a target=&#x27;_blank&#x27; href=&#x27;http://www.wikidata.org/entity/Q201428&#x27;&gt;Palace of Fontainebleau&lt;/div&gt;`)[0];\n",
       "                popup_50a074bcdd05d02d15cedd7db24d57b1.setContent(html_13e52f32d271158d52c722a6b7dbed5b);\n",
       "            \n",
       "        \n",
       "\n",
       "        marker_dffd8fdcbff865691e93994aa41887be.bindPopup(popup_50a074bcdd05d02d15cedd7db24d57b1)\n",
       "        ;\n",
       "\n",
       "        \n",
       "    \n",
       "    \n",
       "            var marker_b1a5ec4432face36d7fc053e0e9b8418 = L.marker(\n",
       "                [43.61111111, 1.41833333],\n",
       "                {\n",
       "}\n",
       "            ).addTo(map_9852e89f35d882c90514aa8d685cd5bf);\n",
       "        \n",
       "    \n",
       "            var icon_c7600230587525d8110e0ae66f54d295 = L.AwesomeMarkers.icon(\n",
       "                {\n",
       "  &quot;markerColor&quot;: &quot;green&quot;,\n",
       "  &quot;iconColor&quot;: &quot;white&quot;,\n",
       "  &quot;icon&quot;: &quot;info-sign&quot;,\n",
       "  &quot;prefix&quot;: &quot;glyphicon&quot;,\n",
       "  &quot;extraClasses&quot;: &quot;fa-rotate-0&quot;,\n",
       "}\n",
       "            );\n",
       "            marker_b1a5ec4432face36d7fc053e0e9b8418.setIcon(icon_c7600230587525d8110e0ae66f54d295);\n",
       "        \n",
       "    \n",
       "        var popup_4a3e331d4d3bcd6a68719de4bd7e88cb = L.popup({\n",
       "  &quot;maxWidth&quot;: &quot;100%&quot;,\n",
       "});\n",
       "\n",
       "        \n",
       "            \n",
       "                var html_2ae098c0ca36cfcb7aaa14e076081cc8 = $(`&lt;div id=&quot;html_2ae098c0ca36cfcb7aaa14e076081cc8&quot; style=&quot;width: 100.0%; height: 100.0%;&quot;&gt;Wikidata: &lt;a target=&#x27;_blank&#x27; href=&#x27;http://www.wikidata.org/entity/Q202494&#x27;&gt;Canal du Midi&lt;/div&gt;`)[0];\n",
       "                popup_4a3e331d4d3bcd6a68719de4bd7e88cb.setContent(html_2ae098c0ca36cfcb7aaa14e076081cc8);\n",
       "            \n",
       "        \n",
       "\n",
       "        marker_b1a5ec4432face36d7fc053e0e9b8418.bindPopup(popup_4a3e331d4d3bcd6a68719de4bd7e88cb)\n",
       "        ;\n",
       "\n",
       "        \n",
       "    \n",
       "    \n",
       "            var marker_5a659306cb9d10b7bf7606e0b530269a = L.marker(\n",
       "                [47.616111111, 1.517222222],\n",
       "                {\n",
       "}\n",
       "            ).addTo(map_9852e89f35d882c90514aa8d685cd5bf);\n",
       "        \n",
       "    \n",
       "            var icon_c926783ef38c80d11491ccc1e6b16494 = L.AwesomeMarkers.icon(\n",
       "                {\n",
       "  &quot;markerColor&quot;: &quot;green&quot;,\n",
       "  &quot;iconColor&quot;: &quot;white&quot;,\n",
       "  &quot;icon&quot;: &quot;info-sign&quot;,\n",
       "  &quot;prefix&quot;: &quot;glyphicon&quot;,\n",
       "  &quot;extraClasses&quot;: &quot;fa-rotate-0&quot;,\n",
       "}\n",
       "            );\n",
       "            marker_5a659306cb9d10b7bf7606e0b530269a.setIcon(icon_c926783ef38c80d11491ccc1e6b16494);\n",
       "        \n",
       "    \n",
       "        var popup_cb2a2890bf542cbe30ed6383409c7a1f = L.popup({\n",
       "  &quot;maxWidth&quot;: &quot;100%&quot;,\n",
       "});\n",
       "\n",
       "        \n",
       "            \n",
       "                var html_b3136c59210311a92d7f61411aff9aff = $(`&lt;div id=&quot;html_b3136c59210311a92d7f61411aff9aff&quot; style=&quot;width: 100.0%; height: 100.0%;&quot;&gt;Wikidata: &lt;a target=&#x27;_blank&#x27; href=&#x27;http://www.wikidata.org/entity/Q205367&#x27;&gt;Château de Chambord&lt;/div&gt;`)[0];\n",
       "                popup_cb2a2890bf542cbe30ed6383409c7a1f.setContent(html_b3136c59210311a92d7f61411aff9aff);\n",
       "            \n",
       "        \n",
       "\n",
       "        marker_5a659306cb9d10b7bf7606e0b530269a.bindPopup(popup_cb2a2890bf542cbe30ed6383409c7a1f)\n",
       "        ;\n",
       "\n",
       "        \n",
       "    \n",
       "    \n",
       "            var marker_d9a55cb668ee21cbee1bb48ea9fb3693 = L.marker(\n",
       "                [45.77939, 2.96511],\n",
       "                {\n",
       "}\n",
       "            ).addTo(map_9852e89f35d882c90514aa8d685cd5bf);\n",
       "        \n",
       "    \n",
       "            var icon_ed6de612495b7b86fa7221e54c49203b = L.AwesomeMarkers.icon(\n",
       "                {\n",
       "  &quot;markerColor&quot;: &quot;green&quot;,\n",
       "  &quot;iconColor&quot;: &quot;white&quot;,\n",
       "  &quot;icon&quot;: &quot;info-sign&quot;,\n",
       "  &quot;prefix&quot;: &quot;glyphicon&quot;,\n",
       "  &quot;extraClasses&quot;: &quot;fa-rotate-0&quot;,\n",
       "}\n",
       "            );\n",
       "            marker_d9a55cb668ee21cbee1bb48ea9fb3693.setIcon(icon_ed6de612495b7b86fa7221e54c49203b);\n",
       "        \n",
       "    \n",
       "        var popup_25c1b7abdaebd204ba34b83b135303f1 = L.popup({\n",
       "  &quot;maxWidth&quot;: &quot;100%&quot;,\n",
       "});\n",
       "\n",
       "        \n",
       "            \n",
       "                var html_d31eccd1d4c5479b683c260ff9c58664 = $(`&lt;div id=&quot;html_d31eccd1d4c5479b683c260ff9c58664&quot; style=&quot;width: 100.0%; height: 100.0%;&quot;&gt;Wikidata: &lt;a target=&#x27;_blank&#x27; href=&#x27;http://www.wikidata.org/entity/Q64832437&#x27;&gt;Chaîne des Puys - Limagne fault tectonic arena&lt;/div&gt;`)[0];\n",
       "                popup_25c1b7abdaebd204ba34b83b135303f1.setContent(html_d31eccd1d4c5479b683c260ff9c58664);\n",
       "            \n",
       "        \n",
       "\n",
       "        marker_d9a55cb668ee21cbee1bb48ea9fb3693.bindPopup(popup_25c1b7abdaebd204ba34b83b135303f1)\n",
       "        ;\n",
       "\n",
       "        \n",
       "    \n",
       "    \n",
       "            var marker_248d31b1b5979a8ed42648c2158c671b = L.marker(\n",
       "                [14.7582, -61.0731],\n",
       "                {\n",
       "}\n",
       "            ).addTo(map_9852e89f35d882c90514aa8d685cd5bf);\n",
       "        \n",
       "    \n",
       "            var icon_21886fd169f1662bf8ca4a682c72c204 = L.AwesomeMarkers.icon(\n",
       "                {\n",
       "  &quot;markerColor&quot;: &quot;green&quot;,\n",
       "  &quot;iconColor&quot;: &quot;white&quot;,\n",
       "  &quot;icon&quot;: &quot;info-sign&quot;,\n",
       "  &quot;prefix&quot;: &quot;glyphicon&quot;,\n",
       "  &quot;extraClasses&quot;: &quot;fa-rotate-0&quot;,\n",
       "}\n",
       "            );\n",
       "            marker_248d31b1b5979a8ed42648c2158c671b.setIcon(icon_21886fd169f1662bf8ca4a682c72c204);\n",
       "        \n",
       "    \n",
       "        var popup_5674c90e0826060411864e8388241065 = L.popup({\n",
       "  &quot;maxWidth&quot;: &quot;100%&quot;,\n",
       "});\n",
       "\n",
       "        \n",
       "            \n",
       "                var html_126150bfcd2066c819f719c9b596679a = $(`&lt;div id=&quot;html_126150bfcd2066c819f719c9b596679a&quot; style=&quot;width: 100.0%; height: 100.0%;&quot;&gt;Wikidata: &lt;a target=&#x27;_blank&#x27; href=&#x27;http://www.wikidata.org/entity/Q64842970&#x27;&gt;Volcanoes and Forests of Mount Pelée and the Pitons of Northern Martinique&lt;/div&gt;`)[0];\n",
       "                popup_5674c90e0826060411864e8388241065.setContent(html_126150bfcd2066c819f719c9b596679a);\n",
       "            \n",
       "        \n",
       "\n",
       "        marker_248d31b1b5979a8ed42648c2158c671b.bindPopup(popup_5674c90e0826060411864e8388241065)\n",
       "        ;\n",
       "\n",
       "        \n",
       "    \n",
       "    \n",
       "            var marker_60b4e3a97132c889a31800038d244f66 = L.marker(\n",
       "                [50.07391, 2.64837],\n",
       "                {\n",
       "}\n",
       "            ).addTo(map_9852e89f35d882c90514aa8d685cd5bf);\n",
       "        \n",
       "    \n",
       "            var icon_a5082172c8c2708ba3bd8497ee4d42e3 = L.AwesomeMarkers.icon(\n",
       "                {\n",
       "  &quot;markerColor&quot;: &quot;green&quot;,\n",
       "  &quot;iconColor&quot;: &quot;white&quot;,\n",
       "  &quot;icon&quot;: &quot;info-sign&quot;,\n",
       "  &quot;prefix&quot;: &quot;glyphicon&quot;,\n",
       "  &quot;extraClasses&quot;: &quot;fa-rotate-0&quot;,\n",
       "}\n",
       "            );\n",
       "            marker_60b4e3a97132c889a31800038d244f66.setIcon(icon_a5082172c8c2708ba3bd8497ee4d42e3);\n",
       "        \n",
       "    \n",
       "        var popup_3ece3d4ddf263321295703b03ce53446 = L.popup({\n",
       "  &quot;maxWidth&quot;: &quot;100%&quot;,\n",
       "});\n",
       "\n",
       "        \n",
       "            \n",
       "                var html_777c7ce423dc395eb3c3de83637a9e1a = $(`&lt;div id=&quot;html_777c7ce423dc395eb3c3de83637a9e1a&quot; style=&quot;width: 100.0%; height: 100.0%;&quot;&gt;Wikidata: &lt;a target=&#x27;_blank&#x27; href=&#x27;http://www.wikidata.org/entity/Q63077309&#x27;&gt;Beaumont-Hamel Newfoundland Memorial Park&lt;/div&gt;`)[0];\n",
       "                popup_3ece3d4ddf263321295703b03ce53446.setContent(html_777c7ce423dc395eb3c3de83637a9e1a);\n",
       "            \n",
       "        \n",
       "\n",
       "        marker_60b4e3a97132c889a31800038d244f66.bindPopup(popup_3ece3d4ddf263321295703b03ce53446)\n",
       "        ;\n",
       "\n",
       "        \n",
       "    \n",
       "    \n",
       "            var marker_05096d70746427735c705ac8040f59f6 = L.marker(\n",
       "                [47.466388888, 3.748333333],\n",
       "                {\n",
       "}\n",
       "            ).addTo(map_9852e89f35d882c90514aa8d685cd5bf);\n",
       "        \n",
       "    \n",
       "            var icon_d202bbc3b5de67058570790103f535c2 = L.AwesomeMarkers.icon(\n",
       "                {\n",
       "  &quot;markerColor&quot;: &quot;green&quot;,\n",
       "  &quot;iconColor&quot;: &quot;white&quot;,\n",
       "  &quot;icon&quot;: &quot;info-sign&quot;,\n",
       "  &quot;prefix&quot;: &quot;glyphicon&quot;,\n",
       "  &quot;extraClasses&quot;: &quot;fa-rotate-0&quot;,\n",
       "}\n",
       "            );\n",
       "            marker_05096d70746427735c705ac8040f59f6.setIcon(icon_d202bbc3b5de67058570790103f535c2);\n",
       "        \n",
       "    \n",
       "        var popup_a2d70f109b47937622779c899454dfa9 = L.popup({\n",
       "  &quot;maxWidth&quot;: &quot;100%&quot;,\n",
       "});\n",
       "\n",
       "        \n",
       "            \n",
       "                var html_a70c2ba89803c4c10866961e2659ec2b = $(`&lt;div id=&quot;html_a70c2ba89803c4c10866961e2659ec2b&quot; style=&quot;width: 100.0%; height: 100.0%;&quot;&gt;Wikidata: &lt;a target=&#x27;_blank&#x27; href=&#x27;http://www.wikidata.org/entity/Q64401449&#x27;&gt;Vézelay, Church and Hill&lt;/div&gt;`)[0];\n",
       "                popup_a2d70f109b47937622779c899454dfa9.setContent(html_a70c2ba89803c4c10866961e2659ec2b);\n",
       "            \n",
       "        \n",
       "\n",
       "        marker_05096d70746427735c705ac8040f59f6.bindPopup(popup_a2d70f109b47937622779c899454dfa9)\n",
       "        ;\n",
       "\n",
       "        \n",
       "    \n",
       "    \n",
       "            var marker_a1f930d4b50743c50271ce9539f705bd = L.marker(\n",
       "                [47.08222, 2.39917],\n",
       "                {\n",
       "}\n",
       "            ).addTo(map_9852e89f35d882c90514aa8d685cd5bf);\n",
       "        \n",
       "    \n",
       "            var icon_2604bae6ddb356e058b1a04d6e9b97c6 = L.AwesomeMarkers.icon(\n",
       "                {\n",
       "  &quot;markerColor&quot;: &quot;green&quot;,\n",
       "  &quot;iconColor&quot;: &quot;white&quot;,\n",
       "  &quot;icon&quot;: &quot;info-sign&quot;,\n",
       "  &quot;prefix&quot;: &quot;glyphicon&quot;,\n",
       "  &quot;extraClasses&quot;: &quot;fa-rotate-0&quot;,\n",
       "}\n",
       "            );\n",
       "            marker_a1f930d4b50743c50271ce9539f705bd.setIcon(icon_2604bae6ddb356e058b1a04d6e9b97c6);\n",
       "        \n",
       "    \n",
       "        var popup_257430665d0ecc0525582e3786d2035f = L.popup({\n",
       "  &quot;maxWidth&quot;: &quot;100%&quot;,\n",
       "});\n",
       "\n",
       "        \n",
       "            \n",
       "                var html_10facf96d636f730e205411da4faded7 = $(`&lt;div id=&quot;html_10facf96d636f730e205411da4faded7&quot; style=&quot;width: 100.0%; height: 100.0%;&quot;&gt;Wikidata: &lt;a target=&#x27;_blank&#x27; href=&#x27;http://www.wikidata.org/entity/Q207985&#x27;&gt;Bourges Cathedral&lt;/div&gt;`)[0];\n",
       "                popup_257430665d0ecc0525582e3786d2035f.setContent(html_10facf96d636f730e205411da4faded7);\n",
       "            \n",
       "        \n",
       "\n",
       "        marker_a1f930d4b50743c50271ce9539f705bd.bindPopup(popup_257430665d0ecc0525582e3786d2035f)\n",
       "        ;\n",
       "\n",
       "        \n",
       "    \n",
       "    \n",
       "            var marker_8eb82278577e4a536a5d94f07caba91f = L.marker(\n",
       "                [48.447777777, 1.487777777],\n",
       "                {\n",
       "}\n",
       "            ).addTo(map_9852e89f35d882c90514aa8d685cd5bf);\n",
       "        \n",
       "    \n",
       "            var icon_24d3aa5aa4961fd4568e29a0bee8d965 = L.AwesomeMarkers.icon(\n",
       "                {\n",
       "  &quot;markerColor&quot;: &quot;green&quot;,\n",
       "  &quot;iconColor&quot;: &quot;white&quot;,\n",
       "  &quot;icon&quot;: &quot;info-sign&quot;,\n",
       "  &quot;prefix&quot;: &quot;glyphicon&quot;,\n",
       "  &quot;extraClasses&quot;: &quot;fa-rotate-0&quot;,\n",
       "}\n",
       "            );\n",
       "            marker_8eb82278577e4a536a5d94f07caba91f.setIcon(icon_24d3aa5aa4961fd4568e29a0bee8d965);\n",
       "        \n",
       "    \n",
       "        var popup_4e8679423617610878e7fc2b0351919c = L.popup({\n",
       "  &quot;maxWidth&quot;: &quot;100%&quot;,\n",
       "});\n",
       "\n",
       "        \n",
       "            \n",
       "                var html_b1b18d618af987797661d07a52a8c849 = $(`&lt;div id=&quot;html_b1b18d618af987797661d07a52a8c849&quot; style=&quot;width: 100.0%; height: 100.0%;&quot;&gt;Wikidata: &lt;a target=&#x27;_blank&#x27; href=&#x27;http://www.wikidata.org/entity/Q180274&#x27;&gt;Notre-Dame de Chartres&lt;/div&gt;`)[0];\n",
       "                popup_4e8679423617610878e7fc2b0351919c.setContent(html_b1b18d618af987797661d07a52a8c849);\n",
       "            \n",
       "        \n",
       "\n",
       "        marker_8eb82278577e4a536a5d94f07caba91f.bindPopup(popup_4e8679423617610878e7fc2b0351919c)\n",
       "        ;\n",
       "\n",
       "        \n",
       "    \n",
       "    \n",
       "            var marker_24a430c8f8f37800984a7cd5dbb08ae1 = L.marker(\n",
       "                [43.701694444, 7.272305555],\n",
       "                {\n",
       "}\n",
       "            ).addTo(map_9852e89f35d882c90514aa8d685cd5bf);\n",
       "        \n",
       "    \n",
       "            var icon_b304085bc4b6ab9d6a20df52464879f9 = L.AwesomeMarkers.icon(\n",
       "                {\n",
       "  &quot;markerColor&quot;: &quot;green&quot;,\n",
       "  &quot;iconColor&quot;: &quot;white&quot;,\n",
       "  &quot;icon&quot;: &quot;info-sign&quot;,\n",
       "  &quot;prefix&quot;: &quot;glyphicon&quot;,\n",
       "  &quot;extraClasses&quot;: &quot;fa-rotate-0&quot;,\n",
       "}\n",
       "            );\n",
       "            marker_24a430c8f8f37800984a7cd5dbb08ae1.setIcon(icon_b304085bc4b6ab9d6a20df52464879f9);\n",
       "        \n",
       "    \n",
       "        var popup_9e51a54792d453db75e0a04058ae132d = L.popup({\n",
       "  &quot;maxWidth&quot;: &quot;100%&quot;,\n",
       "});\n",
       "\n",
       "        \n",
       "            \n",
       "                var html_0de81f3c2b48715a2ce9458d2fdc7a7b = $(`&lt;div id=&quot;html_0de81f3c2b48715a2ce9458d2fdc7a7b&quot; style=&quot;width: 100.0%; height: 100.0%;&quot;&gt;Wikidata: &lt;a target=&#x27;_blank&#x27; href=&#x27;http://www.wikidata.org/entity/Q108094935&#x27;&gt;Nice, Winter Resort Town of the Riviera&lt;/div&gt;`)[0];\n",
       "                popup_9e51a54792d453db75e0a04058ae132d.setContent(html_0de81f3c2b48715a2ce9458d2fdc7a7b);\n",
       "            \n",
       "        \n",
       "\n",
       "        marker_24a430c8f8f37800984a7cd5dbb08ae1.bindPopup(popup_9e51a54792d453db75e0a04058ae132d)\n",
       "        ;\n",
       "\n",
       "        \n",
       "    \n",
       "    \n",
       "            var marker_e89067a39e27fc493fd80be01e5bee5e = L.marker(\n",
       "                [48.7865, 3.7754],\n",
       "                {\n",
       "}\n",
       "            ).addTo(map_9852e89f35d882c90514aa8d685cd5bf);\n",
       "        \n",
       "    \n",
       "            var icon_4dc6a4b57b45850116940bc6a2420d6f = L.AwesomeMarkers.icon(\n",
       "                {\n",
       "  &quot;markerColor&quot;: &quot;green&quot;,\n",
       "  &quot;iconColor&quot;: &quot;white&quot;,\n",
       "  &quot;icon&quot;: &quot;info-sign&quot;,\n",
       "  &quot;prefix&quot;: &quot;glyphicon&quot;,\n",
       "  &quot;extraClasses&quot;: &quot;fa-rotate-0&quot;,\n",
       "}\n",
       "            );\n",
       "            marker_e89067a39e27fc493fd80be01e5bee5e.setIcon(icon_4dc6a4b57b45850116940bc6a2420d6f);\n",
       "        \n",
       "    \n",
       "        var popup_98f36847f4dced8b4b19796394fa0ada = L.popup({\n",
       "  &quot;maxWidth&quot;: &quot;100%&quot;,\n",
       "});\n",
       "\n",
       "        \n",
       "            \n",
       "                var html_85ed4167c10c6968a6e04b827ac5df97 = $(`&lt;div id=&quot;html_85ed4167c10c6968a6e04b827ac5df97&quot; style=&quot;width: 100.0%; height: 100.0%;&quot;&gt;Wikidata: &lt;a target=&#x27;_blank&#x27; href=&#x27;http://www.wikidata.org/entity/Q110350440&#x27;&gt;Cemetery of Mondement-Montgivroux&lt;/div&gt;`)[0];\n",
       "                popup_98f36847f4dced8b4b19796394fa0ada.setContent(html_85ed4167c10c6968a6e04b827ac5df97);\n",
       "            \n",
       "        \n",
       "\n",
       "        marker_e89067a39e27fc493fd80be01e5bee5e.bindPopup(popup_98f36847f4dced8b4b19796394fa0ada)\n",
       "        ;\n",
       "\n",
       "        \n",
       "    \n",
       "    \n",
       "            var marker_34feae851cdbb87fb11eaaf55b171e38 = L.marker(\n",
       "                [50.072950076, 2.648119738],\n",
       "                {\n",
       "}\n",
       "            ).addTo(map_9852e89f35d882c90514aa8d685cd5bf);\n",
       "        \n",
       "    \n",
       "            var icon_4348b99713c6bd5c238bc7b1abbfe74c = L.AwesomeMarkers.icon(\n",
       "                {\n",
       "  &quot;markerColor&quot;: &quot;green&quot;,\n",
       "  &quot;iconColor&quot;: &quot;white&quot;,\n",
       "  &quot;icon&quot;: &quot;info-sign&quot;,\n",
       "  &quot;prefix&quot;: &quot;glyphicon&quot;,\n",
       "  &quot;extraClasses&quot;: &quot;fa-rotate-0&quot;,\n",
       "}\n",
       "            );\n",
       "            marker_34feae851cdbb87fb11eaaf55b171e38.setIcon(icon_4348b99713c6bd5c238bc7b1abbfe74c);\n",
       "        \n",
       "    \n",
       "        var popup_969cdc2c996f376c93b161f6ad8d6938 = L.popup({\n",
       "  &quot;maxWidth&quot;: &quot;100%&quot;,\n",
       "});\n",
       "\n",
       "        \n",
       "            \n",
       "                var html_e542f44d233ef2f0d0ffb3cf1fe3654d = $(`&lt;div id=&quot;html_e542f44d233ef2f0d0ffb3cf1fe3654d&quot; style=&quot;width: 100.0%; height: 100.0%;&quot;&gt;Wikidata: &lt;a target=&#x27;_blank&#x27; href=&#x27;http://www.wikidata.org/entity/Q122784272&#x27;&gt;29th Division Memorial&lt;/div&gt;`)[0];\n",
       "                popup_969cdc2c996f376c93b161f6ad8d6938.setContent(html_e542f44d233ef2f0d0ffb3cf1fe3654d);\n",
       "            \n",
       "        \n",
       "\n",
       "        marker_34feae851cdbb87fb11eaaf55b171e38.bindPopup(popup_969cdc2c996f376c93b161f6ad8d6938)\n",
       "        ;\n",
       "\n",
       "        \n",
       "    \n",
       "    \n",
       "            var marker_4202b7240e6b089b2cc8a81a62d08baf = L.marker(\n",
       "                [48.160194444, 7.126944444],\n",
       "                {\n",
       "}\n",
       "            ).addTo(map_9852e89f35d882c90514aa8d685cd5bf);\n",
       "        \n",
       "    \n",
       "            var icon_52bff1691439a4ada306a62bf723885b = L.AwesomeMarkers.icon(\n",
       "                {\n",
       "  &quot;markerColor&quot;: &quot;green&quot;,\n",
       "  &quot;iconColor&quot;: &quot;white&quot;,\n",
       "  &quot;icon&quot;: &quot;info-sign&quot;,\n",
       "  &quot;prefix&quot;: &quot;glyphicon&quot;,\n",
       "  &quot;extraClasses&quot;: &quot;fa-rotate-0&quot;,\n",
       "}\n",
       "            );\n",
       "            marker_4202b7240e6b089b2cc8a81a62d08baf.setIcon(icon_52bff1691439a4ada306a62bf723885b);\n",
       "        \n",
       "    \n",
       "        var popup_f7f5e5304ed84b7f6b5a1883447dc1e7 = L.popup({\n",
       "  &quot;maxWidth&quot;: &quot;100%&quot;,\n",
       "});\n",
       "\n",
       "        \n",
       "            \n",
       "                var html_cb3a89cb7458f60faa28be4571f957ab = $(`&lt;div id=&quot;html_cb3a89cb7458f60faa28be4571f957ab&quot; style=&quot;width: 100.0%; height: 100.0%;&quot;&gt;Wikidata: &lt;a target=&#x27;_blank&#x27; href=&#x27;http://www.wikidata.org/entity/Q122808656&#x27;&gt;Kahm Cemetery&lt;/div&gt;`)[0];\n",
       "                popup_f7f5e5304ed84b7f6b5a1883447dc1e7.setContent(html_cb3a89cb7458f60faa28be4571f957ab);\n",
       "            \n",
       "        \n",
       "\n",
       "        marker_4202b7240e6b089b2cc8a81a62d08baf.bindPopup(popup_f7f5e5304ed84b7f6b5a1883447dc1e7)\n",
       "        ;\n",
       "\n",
       "        \n",
       "    \n",
       "    \n",
       "            var marker_458ac88c87a64d6570f86bf5ab30fe76 = L.marker(\n",
       "                [48.038966176, 7.059401739],\n",
       "                {\n",
       "}\n",
       "            ).addTo(map_9852e89f35d882c90514aa8d685cd5bf);\n",
       "        \n",
       "    \n",
       "            var icon_f40120368b982d8ce047a1fbaa8ac58b = L.AwesomeMarkers.icon(\n",
       "                {\n",
       "  &quot;markerColor&quot;: &quot;green&quot;,\n",
       "  &quot;iconColor&quot;: &quot;white&quot;,\n",
       "  &quot;icon&quot;: &quot;info-sign&quot;,\n",
       "  &quot;prefix&quot;: &quot;glyphicon&quot;,\n",
       "  &quot;extraClasses&quot;: &quot;fa-rotate-0&quot;,\n",
       "}\n",
       "            );\n",
       "            marker_458ac88c87a64d6570f86bf5ab30fe76.setIcon(icon_f40120368b982d8ce047a1fbaa8ac58b);\n",
       "        \n",
       "    \n",
       "        var popup_be98535fd7b62522f363b15763cd655e = L.popup({\n",
       "  &quot;maxWidth&quot;: &quot;100%&quot;,\n",
       "});\n",
       "\n",
       "        \n",
       "            \n",
       "                var html_13325bcc3702a65686661fe7a043af1b = $(`&lt;div id=&quot;html_13325bcc3702a65686661fe7a043af1b&quot; style=&quot;width: 100.0%; height: 100.0%;&quot;&gt;Wikidata: &lt;a target=&#x27;_blank&#x27; href=&#x27;http://www.wikidata.org/entity/Q122808695&#x27;&gt;Germania Military Cemetery&lt;/div&gt;`)[0];\n",
       "                popup_be98535fd7b62522f363b15763cd655e.setContent(html_13325bcc3702a65686661fe7a043af1b);\n",
       "            \n",
       "        \n",
       "\n",
       "        marker_458ac88c87a64d6570f86bf5ab30fe76.bindPopup(popup_be98535fd7b62522f363b15763cd655e)\n",
       "        ;\n",
       "\n",
       "        \n",
       "    \n",
       "    \n",
       "            var marker_d70c39c6bdce2958eb7a63136d609cfb = L.marker(\n",
       "                [48.504166666, 6.5075],\n",
       "                {\n",
       "}\n",
       "            ).addTo(map_9852e89f35d882c90514aa8d685cd5bf);\n",
       "        \n",
       "    \n",
       "            var icon_688506b31051a72f7663687b5a678b9f = L.AwesomeMarkers.icon(\n",
       "                {\n",
       "  &quot;markerColor&quot;: &quot;green&quot;,\n",
       "  &quot;iconColor&quot;: &quot;white&quot;,\n",
       "  &quot;icon&quot;: &quot;info-sign&quot;,\n",
       "  &quot;prefix&quot;: &quot;glyphicon&quot;,\n",
       "  &quot;extraClasses&quot;: &quot;fa-rotate-0&quot;,\n",
       "}\n",
       "            );\n",
       "            marker_d70c39c6bdce2958eb7a63136d609cfb.setIcon(icon_688506b31051a72f7663687b5a678b9f);\n",
       "        \n",
       "    \n",
       "        var popup_164b8133e817dba101c1e1e30cbe5ec7 = L.popup({\n",
       "  &quot;maxWidth&quot;: &quot;100%&quot;,\n",
       "});\n",
       "\n",
       "        \n",
       "            \n",
       "                var html_eda8cd042a7357ed1ffa401978321e52 = $(`&lt;div id=&quot;html_eda8cd042a7357ed1ffa401978321e52&quot; style=&quot;width: 100.0%; height: 100.0%;&quot;&gt;Wikidata: &lt;a target=&#x27;_blank&#x27; href=&#x27;http://www.wikidata.org/entity/Q122819132&#x27;&gt;Gerbéviller Cemetery of Civilian Victims&lt;/div&gt;`)[0];\n",
       "                popup_164b8133e817dba101c1e1e30cbe5ec7.setContent(html_eda8cd042a7357ed1ffa401978321e52);\n",
       "            \n",
       "        \n",
       "\n",
       "        marker_d70c39c6bdce2958eb7a63136d609cfb.bindPopup(popup_164b8133e817dba101c1e1e30cbe5ec7)\n",
       "        ;\n",
       "\n",
       "        \n",
       "    \n",
       "    \n",
       "            var marker_474e065b5cc22e4d98ee49741afb3e60 = L.marker(\n",
       "                [49.208861111, 5.428166666],\n",
       "                {\n",
       "}\n",
       "            ).addTo(map_9852e89f35d882c90514aa8d685cd5bf);\n",
       "        \n",
       "    \n",
       "            var icon_ef5fbb4fe6ba21840870bdb218f70961 = L.AwesomeMarkers.icon(\n",
       "                {\n",
       "  &quot;markerColor&quot;: &quot;green&quot;,\n",
       "  &quot;iconColor&quot;: &quot;white&quot;,\n",
       "  &quot;icon&quot;: &quot;info-sign&quot;,\n",
       "  &quot;prefix&quot;: &quot;glyphicon&quot;,\n",
       "  &quot;extraClasses&quot;: &quot;fa-rotate-0&quot;,\n",
       "}\n",
       "            );\n",
       "            marker_474e065b5cc22e4d98ee49741afb3e60.setIcon(icon_ef5fbb4fe6ba21840870bdb218f70961);\n",
       "        \n",
       "    \n",
       "        var popup_7a43e11945bb513d02d0c76d5ad7d41d = L.popup({\n",
       "  &quot;maxWidth&quot;: &quot;100%&quot;,\n",
       "});\n",
       "\n",
       "        \n",
       "            \n",
       "                var html_2855d79e9aabce5f40ae05dd5b9252dc = $(`&lt;div id=&quot;html_2855d79e9aabce5f40ae05dd5b9252dc&quot; style=&quot;width: 100.0%; height: 100.0%;&quot;&gt;Wikidata: &lt;a target=&#x27;_blank&#x27; href=&#x27;http://www.wikidata.org/entity/Q122842228&#x27;&gt;Muslim Monument of Douaumont&lt;/div&gt;`)[0];\n",
       "                popup_7a43e11945bb513d02d0c76d5ad7d41d.setContent(html_2855d79e9aabce5f40ae05dd5b9252dc);\n",
       "            \n",
       "        \n",
       "\n",
       "        marker_474e065b5cc22e4d98ee49741afb3e60.bindPopup(popup_7a43e11945bb513d02d0c76d5ad7d41d)\n",
       "        ;\n",
       "\n",
       "        \n",
       "    \n",
       "    \n",
       "            var marker_4a853811328aa29617b4122e32a4e396 = L.marker(\n",
       "                [49.19693, 5.4298],\n",
       "                {\n",
       "}\n",
       "            ).addTo(map_9852e89f35d882c90514aa8d685cd5bf);\n",
       "        \n",
       "    \n",
       "            var icon_8b3f5abf28ee8a31cf15267086f3556f = L.AwesomeMarkers.icon(\n",
       "                {\n",
       "  &quot;markerColor&quot;: &quot;green&quot;,\n",
       "  &quot;iconColor&quot;: &quot;white&quot;,\n",
       "  &quot;icon&quot;: &quot;info-sign&quot;,\n",
       "  &quot;prefix&quot;: &quot;glyphicon&quot;,\n",
       "  &quot;extraClasses&quot;: &quot;fa-rotate-0&quot;,\n",
       "}\n",
       "            );\n",
       "            marker_4a853811328aa29617b4122e32a4e396.setIcon(icon_8b3f5abf28ee8a31cf15267086f3556f);\n",
       "        \n",
       "    \n",
       "        var popup_776b6c0f27b9fb0942d84b519d8f9d21 = L.popup({\n",
       "  &quot;maxWidth&quot;: &quot;100%&quot;,\n",
       "});\n",
       "\n",
       "        \n",
       "            \n",
       "                var html_71cd6440d0e92fa3fd662ca62735fa85 = $(`&lt;div id=&quot;html_71cd6440d0e92fa3fd662ca62735fa85&quot; style=&quot;width: 100.0%; height: 100.0%;&quot;&gt;Wikidata: &lt;a target=&#x27;_blank&#x27; href=&#x27;http://www.wikidata.org/entity/Q122878257&#x27;&gt;Monument of the Executed at Fleury-devant-Douaumont&lt;/div&gt;`)[0];\n",
       "                popup_776b6c0f27b9fb0942d84b519d8f9d21.setContent(html_71cd6440d0e92fa3fd662ca62735fa85);\n",
       "            \n",
       "        \n",
       "\n",
       "        marker_4a853811328aa29617b4122e32a4e396.bindPopup(popup_776b6c0f27b9fb0942d84b519d8f9d21)\n",
       "        ;\n",
       "\n",
       "        \n",
       "    \n",
       "    \n",
       "            var marker_88ffb78bb2d25f6ffa216f96c548a7c3 = L.marker(\n",
       "                [49.28, 5.2973],\n",
       "                {\n",
       "}\n",
       "            ).addTo(map_9852e89f35d882c90514aa8d685cd5bf);\n",
       "        \n",
       "    \n",
       "            var icon_c74aba3c0845c45d7b75e3b73c2d61fb = L.AwesomeMarkers.icon(\n",
       "                {\n",
       "  &quot;markerColor&quot;: &quot;green&quot;,\n",
       "  &quot;iconColor&quot;: &quot;white&quot;,\n",
       "  &quot;icon&quot;: &quot;info-sign&quot;,\n",
       "  &quot;prefix&quot;: &quot;glyphicon&quot;,\n",
       "  &quot;extraClasses&quot;: &quot;fa-rotate-0&quot;,\n",
       "}\n",
       "            );\n",
       "            marker_88ffb78bb2d25f6ffa216f96c548a7c3.setIcon(icon_c74aba3c0845c45d7b75e3b73c2d61fb);\n",
       "        \n",
       "    \n",
       "        var popup_7e4d5251fd9af4da11287dbbecdb5f17 = L.popup({\n",
       "  &quot;maxWidth&quot;: &quot;100%&quot;,\n",
       "});\n",
       "\n",
       "        \n",
       "            \n",
       "                var html_31112485874332333a1dd92d4064a196 = $(`&lt;div id=&quot;html_31112485874332333a1dd92d4064a196&quot; style=&quot;width: 100.0%; height: 100.0%;&quot;&gt;Wikidata: &lt;a target=&#x27;_blank&#x27; href=&#x27;http://www.wikidata.org/entity/Q51426068&#x27;&gt;Consenvoye German military cemetery&lt;/div&gt;`)[0];\n",
       "                popup_7e4d5251fd9af4da11287dbbecdb5f17.setContent(html_31112485874332333a1dd92d4064a196);\n",
       "            \n",
       "        \n",
       "\n",
       "        marker_88ffb78bb2d25f6ffa216f96c548a7c3.bindPopup(popup_7e4d5251fd9af4da11287dbbecdb5f17)\n",
       "        ;\n",
       "\n",
       "        \n",
       "    \n",
       "    \n",
       "            var marker_3776593915066ca8dabeef298760c1c9 = L.marker(\n",
       "                [48.877666666, 5.608444444],\n",
       "                {\n",
       "}\n",
       "            ).addTo(map_9852e89f35d882c90514aa8d685cd5bf);\n",
       "        \n",
       "    \n",
       "            var icon_72ce609ff8b801d50b9da2a863b9116a = L.AwesomeMarkers.icon(\n",
       "                {\n",
       "  &quot;markerColor&quot;: &quot;green&quot;,\n",
       "  &quot;iconColor&quot;: &quot;white&quot;,\n",
       "  &quot;icon&quot;: &quot;info-sign&quot;,\n",
       "  &quot;prefix&quot;: &quot;glyphicon&quot;,\n",
       "  &quot;extraClasses&quot;: &quot;fa-rotate-0&quot;,\n",
       "}\n",
       "            );\n",
       "            marker_3776593915066ca8dabeef298760c1c9.setIcon(icon_72ce609ff8b801d50b9da2a863b9116a);\n",
       "        \n",
       "    \n",
       "        var popup_236e1e96e99a3a977f28651b9ec098ac = L.popup({\n",
       "  &quot;maxWidth&quot;: &quot;100%&quot;,\n",
       "});\n",
       "\n",
       "        \n",
       "            \n",
       "                var html_d1f00ea174a18b1667663002221a2669 = $(`&lt;div id=&quot;html_d1f00ea174a18b1667663002221a2669&quot; style=&quot;width: 100.0%; height: 100.0%;&quot;&gt;Wikidata: &lt;a target=&#x27;_blank&#x27; href=&#x27;http://www.wikidata.org/entity/Q51619032&#x27;&gt;St. Mihiel German military cemetery&lt;/div&gt;`)[0];\n",
       "                popup_236e1e96e99a3a977f28651b9ec098ac.setContent(html_d1f00ea174a18b1667663002221a2669);\n",
       "            \n",
       "        \n",
       "\n",
       "        marker_3776593915066ca8dabeef298760c1c9.bindPopup(popup_236e1e96e99a3a977f28651b9ec098ac)\n",
       "        ;\n",
       "\n",
       "        \n",
       "    \n",
       "    \n",
       "            var marker_711c827cff6636ac53d2dd022cf30c35 = L.marker(\n",
       "                [47.956313, 7.215799],\n",
       "                {\n",
       "}\n",
       "            ).addTo(map_9852e89f35d882c90514aa8d685cd5bf);\n",
       "        \n",
       "    \n",
       "            var icon_e9dc7222d407f6755df3d2c12aa2d11e = L.AwesomeMarkers.icon(\n",
       "                {\n",
       "  &quot;markerColor&quot;: &quot;green&quot;,\n",
       "  &quot;iconColor&quot;: &quot;white&quot;,\n",
       "  &quot;icon&quot;: &quot;info-sign&quot;,\n",
       "  &quot;prefix&quot;: &quot;glyphicon&quot;,\n",
       "  &quot;extraClasses&quot;: &quot;fa-rotate-0&quot;,\n",
       "}\n",
       "            );\n",
       "            marker_711c827cff6636ac53d2dd022cf30c35.setIcon(icon_e9dc7222d407f6755df3d2c12aa2d11e);\n",
       "        \n",
       "    \n",
       "        var popup_1fe5b6cb23095210f63809391decf55a = L.popup({\n",
       "  &quot;maxWidth&quot;: &quot;100%&quot;,\n",
       "});\n",
       "\n",
       "        \n",
       "            \n",
       "                var html_c08ffec11b81154e24141817a90c87a2 = $(`&lt;div id=&quot;html_c08ffec11b81154e24141817a90c87a2&quot; style=&quot;width: 100.0%; height: 100.0%;&quot;&gt;Wikidata: &lt;a target=&#x27;_blank&#x27; href=&#x27;http://www.wikidata.org/entity/Q52989504&#x27;&gt;Romanian Military Cemetery of Soultzmatt&lt;/div&gt;`)[0];\n",
       "                popup_1fe5b6cb23095210f63809391decf55a.setContent(html_c08ffec11b81154e24141817a90c87a2);\n",
       "            \n",
       "        \n",
       "\n",
       "        marker_711c827cff6636ac53d2dd022cf30c35.bindPopup(popup_1fe5b6cb23095210f63809391decf55a)\n",
       "        ;\n",
       "\n",
       "        \n",
       "    \n",
       "    \n",
       "            var marker_9a2a8ebc7baee6cc77f9f4e63cc1397d = L.marker(\n",
       "                [47.21375, 0.07497],\n",
       "                {\n",
       "}\n",
       "            ).addTo(map_9852e89f35d882c90514aa8d685cd5bf);\n",
       "        \n",
       "    \n",
       "            var icon_ebf87a86b299a02407bf0552fcc086b8 = L.AwesomeMarkers.icon(\n",
       "                {\n",
       "  &quot;markerColor&quot;: &quot;green&quot;,\n",
       "  &quot;iconColor&quot;: &quot;white&quot;,\n",
       "  &quot;icon&quot;: &quot;info-sign&quot;,\n",
       "  &quot;prefix&quot;: &quot;glyphicon&quot;,\n",
       "  &quot;extraClasses&quot;: &quot;fa-rotate-0&quot;,\n",
       "}\n",
       "            );\n",
       "            marker_9a2a8ebc7baee6cc77f9f4e63cc1397d.setIcon(icon_ebf87a86b299a02407bf0552fcc086b8);\n",
       "        \n",
       "    \n",
       "        var popup_ff83f1ee776be6de0ce75f63abcd691a = L.popup({\n",
       "  &quot;maxWidth&quot;: &quot;100%&quot;,\n",
       "});\n",
       "\n",
       "        \n",
       "            \n",
       "                var html_c6badfc395241162c58090370140a159 = $(`&lt;div id=&quot;html_c6badfc395241162c58090370140a159&quot; style=&quot;width: 100.0%; height: 100.0%;&quot;&gt;Wikidata: &lt;a target=&#x27;_blank&#x27; href=&#x27;http://www.wikidata.org/entity/Q54806811&#x27;&gt;Confluence Beach&lt;/div&gt;`)[0];\n",
       "                popup_ff83f1ee776be6de0ce75f63abcd691a.setContent(html_c6badfc395241162c58090370140a159);\n",
       "            \n",
       "        \n",
       "\n",
       "        marker_9a2a8ebc7baee6cc77f9f4e63cc1397d.bindPopup(popup_ff83f1ee776be6de0ce75f63abcd691a)\n",
       "        ;\n",
       "\n",
       "        \n",
       "    \n",
       "    \n",
       "            var marker_d16776238d2fba5feecf755f2236499e = L.marker(\n",
       "                [48.58444, 7.74889],\n",
       "                {\n",
       "}\n",
       "            ).addTo(map_9852e89f35d882c90514aa8d685cd5bf);\n",
       "        \n",
       "    \n",
       "            var icon_e5d69431d0b24fcc439558b795e1b84b = L.AwesomeMarkers.icon(\n",
       "                {\n",
       "  &quot;markerColor&quot;: &quot;green&quot;,\n",
       "  &quot;iconColor&quot;: &quot;white&quot;,\n",
       "  &quot;icon&quot;: &quot;info-sign&quot;,\n",
       "  &quot;prefix&quot;: &quot;glyphicon&quot;,\n",
       "  &quot;extraClasses&quot;: &quot;fa-rotate-0&quot;,\n",
       "}\n",
       "            );\n",
       "            marker_d16776238d2fba5feecf755f2236499e.setIcon(icon_e5d69431d0b24fcc439558b795e1b84b);\n",
       "        \n",
       "    \n",
       "        var popup_6eb5dad95526cf92620bd71f71924857 = L.popup({\n",
       "  &quot;maxWidth&quot;: &quot;100%&quot;,\n",
       "});\n",
       "\n",
       "        \n",
       "            \n",
       "                var html_f4444492f6c1abae5dcc6e5ceb149a39 = $(`&lt;div id=&quot;html_f4444492f6c1abae5dcc6e5ceb149a39&quot; style=&quot;width: 100.0%; height: 100.0%;&quot;&gt;Wikidata: &lt;a target=&#x27;_blank&#x27; href=&#x27;http://www.wikidata.org/entity/Q55523908&#x27;&gt;Strasbourg: from Grande-île to Neustadt, a European urban scene&lt;/div&gt;`)[0];\n",
       "                popup_6eb5dad95526cf92620bd71f71924857.setContent(html_f4444492f6c1abae5dcc6e5ceb149a39);\n",
       "            \n",
       "        \n",
       "\n",
       "        marker_d16776238d2fba5feecf755f2236499e.bindPopup(popup_6eb5dad95526cf92620bd71f71924857)\n",
       "        ;\n",
       "\n",
       "        \n",
       "    \n",
       "    \n",
       "            var marker_0e1cee6eb14a39127494186731a2ab7a = L.marker(\n",
       "                [50.17831, 3.26208],\n",
       "                {\n",
       "}\n",
       "            ).addTo(map_9852e89f35d882c90514aa8d685cd5bf);\n",
       "        \n",
       "    \n",
       "            var icon_c6eec8df5bc35791de2259c23ea47e9b = L.AwesomeMarkers.icon(\n",
       "                {\n",
       "  &quot;markerColor&quot;: &quot;green&quot;,\n",
       "  &quot;iconColor&quot;: &quot;white&quot;,\n",
       "  &quot;icon&quot;: &quot;info-sign&quot;,\n",
       "  &quot;prefix&quot;: &quot;glyphicon&quot;,\n",
       "  &quot;extraClasses&quot;: &quot;fa-rotate-0&quot;,\n",
       "}\n",
       "            );\n",
       "            marker_0e1cee6eb14a39127494186731a2ab7a.setIcon(icon_c6eec8df5bc35791de2259c23ea47e9b);\n",
       "        \n",
       "    \n",
       "        var popup_0654717338aafa11ed0e984a9e6042d0 = L.popup({\n",
       "  &quot;maxWidth&quot;: &quot;100%&quot;,\n",
       "});\n",
       "\n",
       "        \n",
       "            \n",
       "                var html_b916c7f1a6e6e138e7dfe4e913d89945 = $(`&lt;div id=&quot;html_b916c7f1a6e6e138e7dfe4e913d89945&quot; style=&quot;width: 100.0%; height: 100.0%;&quot;&gt;Wikidata: &lt;a target=&#x27;_blank&#x27; href=&#x27;http://www.wikidata.org/entity/Q55596340&#x27;&gt;Cambrai German military cemetery&lt;/div&gt;`)[0];\n",
       "                popup_0654717338aafa11ed0e984a9e6042d0.setContent(html_b916c7f1a6e6e138e7dfe4e913d89945);\n",
       "            \n",
       "        \n",
       "\n",
       "        marker_0e1cee6eb14a39127494186731a2ab7a.bindPopup(popup_0654717338aafa11ed0e984a9e6042d0)\n",
       "        ;\n",
       "\n",
       "        \n",
       "    \n",
       "    \n",
       "            var marker_c06b8106287762e0bba69467fdfb76aa = L.marker(\n",
       "                [49.189138888, 4.994083333],\n",
       "                {\n",
       "}\n",
       "            ).addTo(map_9852e89f35d882c90514aa8d685cd5bf);\n",
       "        \n",
       "    \n",
       "            var icon_dd46b6e34d3eb64007def61c4fc8ea3e = L.AwesomeMarkers.icon(\n",
       "                {\n",
       "  &quot;markerColor&quot;: &quot;green&quot;,\n",
       "  &quot;iconColor&quot;: &quot;white&quot;,\n",
       "  &quot;icon&quot;: &quot;info-sign&quot;,\n",
       "  &quot;prefix&quot;: &quot;glyphicon&quot;,\n",
       "  &quot;extraClasses&quot;: &quot;fa-rotate-0&quot;,\n",
       "}\n",
       "            );\n",
       "            marker_c06b8106287762e0bba69467fdfb76aa.setIcon(icon_dd46b6e34d3eb64007def61c4fc8ea3e);\n",
       "        \n",
       "    \n",
       "        var popup_9ec807198b7f3717c0753b3610e1e87d = L.popup({\n",
       "  &quot;maxWidth&quot;: &quot;100%&quot;,\n",
       "});\n",
       "\n",
       "        \n",
       "            \n",
       "                var html_0482ca650684abb08f52d00603697c41 = $(`&lt;div id=&quot;html_0482ca650684abb08f52d00603697c41&quot; style=&quot;width: 100.0%; height: 100.0%;&quot;&gt;Wikidata: &lt;a target=&#x27;_blank&#x27; href=&#x27;http://www.wikidata.org/entity/Q55598898&#x27;&gt;Haute-Chevauchée ossuary&lt;/div&gt;`)[0];\n",
       "                popup_9ec807198b7f3717c0753b3610e1e87d.setContent(html_0482ca650684abb08f52d00603697c41);\n",
       "            \n",
       "        \n",
       "\n",
       "        marker_c06b8106287762e0bba69467fdfb76aa.bindPopup(popup_9ec807198b7f3717c0753b3610e1e87d)\n",
       "        ;\n",
       "\n",
       "        \n",
       "    \n",
       "    \n",
       "            var marker_cbc0ebecc809ac981d99a22f487c67ed = L.marker(\n",
       "                [46.468414, 6.829336],\n",
       "                {\n",
       "}\n",
       "            ).addTo(map_9852e89f35d882c90514aa8d685cd5bf);\n",
       "        \n",
       "    \n",
       "            var icon_fc3583d8d5de44b45b1206c87c26a756 = L.AwesomeMarkers.icon(\n",
       "                {\n",
       "  &quot;markerColor&quot;: &quot;green&quot;,\n",
       "  &quot;iconColor&quot;: &quot;white&quot;,\n",
       "  &quot;icon&quot;: &quot;info-sign&quot;,\n",
       "  &quot;prefix&quot;: &quot;glyphicon&quot;,\n",
       "  &quot;extraClasses&quot;: &quot;fa-rotate-0&quot;,\n",
       "}\n",
       "            );\n",
       "            marker_cbc0ebecc809ac981d99a22f487c67ed.setIcon(icon_fc3583d8d5de44b45b1206c87c26a756);\n",
       "        \n",
       "    \n",
       "        var popup_45cd4e87220106f83d82c63b35a28194 = L.popup({\n",
       "  &quot;maxWidth&quot;: &quot;100%&quot;,\n",
       "});\n",
       "\n",
       "        \n",
       "            \n",
       "                var html_4e94f4813f98d82de75af607bef10af0 = $(`&lt;div id=&quot;html_4e94f4813f98d82de75af607bef10af0&quot; style=&quot;width: 100.0%; height: 100.0%;&quot;&gt;Wikidata: &lt;a target=&#x27;_blank&#x27; href=&#x27;http://www.wikidata.org/entity/Q55619850&#x27;&gt;The Architectural Work of Le Corbusier&lt;/div&gt;`)[0];\n",
       "                popup_45cd4e87220106f83d82c63b35a28194.setContent(html_4e94f4813f98d82de75af607bef10af0);\n",
       "            \n",
       "        \n",
       "\n",
       "        marker_cbc0ebecc809ac981d99a22f487c67ed.bindPopup(popup_45cd4e87220106f83d82c63b35a28194)\n",
       "        ;\n",
       "\n",
       "        \n",
       "    \n",
       "    \n",
       "            var marker_898ad6b99761925fc3d09cedaa8169b5 = L.marker(\n",
       "                [49.701635, 4.843142],\n",
       "                {\n",
       "}\n",
       "            ).addTo(map_9852e89f35d882c90514aa8d685cd5bf);\n",
       "        \n",
       "    \n",
       "            var icon_7ba6973004f94bf9d4f30b23a6a8242e = L.AwesomeMarkers.icon(\n",
       "                {\n",
       "  &quot;markerColor&quot;: &quot;green&quot;,\n",
       "  &quot;iconColor&quot;: &quot;white&quot;,\n",
       "  &quot;icon&quot;: &quot;info-sign&quot;,\n",
       "  &quot;prefix&quot;: &quot;glyphicon&quot;,\n",
       "  &quot;extraClasses&quot;: &quot;fa-rotate-0&quot;,\n",
       "}\n",
       "            );\n",
       "            marker_898ad6b99761925fc3d09cedaa8169b5.setIcon(icon_7ba6973004f94bf9d4f30b23a6a8242e);\n",
       "        \n",
       "    \n",
       "        var popup_014ec159341a19174d216e940ba50a8e = L.popup({\n",
       "  &quot;maxWidth&quot;: &quot;100%&quot;,\n",
       "});\n",
       "\n",
       "        \n",
       "            \n",
       "                var html_0353a79828ad9a58a3804eadfb337cbd = $(`&lt;div id=&quot;html_0353a79828ad9a58a3804eadfb337cbd&quot; style=&quot;width: 100.0%; height: 100.0%;&quot;&gt;Wikidata: &lt;a target=&#x27;_blank&#x27; href=&#x27;http://www.wikidata.org/entity/Q56599670&#x27;&gt;Vrigne-Meuse Cemetery plot for deceased of November 11, 1918&lt;/div&gt;`)[0];\n",
       "                popup_014ec159341a19174d216e940ba50a8e.setContent(html_0353a79828ad9a58a3804eadfb337cbd);\n",
       "            \n",
       "        \n",
       "\n",
       "        marker_898ad6b99761925fc3d09cedaa8169b5.bindPopup(popup_014ec159341a19174d216e940ba50a8e)\n",
       "        ;\n",
       "\n",
       "        \n",
       "    \n",
       "    \n",
       "            var marker_0cc55a83877bf8fb924326e2250acc0d = L.marker(\n",
       "                [49.71167, 4.94208],\n",
       "                {\n",
       "}\n",
       "            ).addTo(map_9852e89f35d882c90514aa8d685cd5bf);\n",
       "        \n",
       "    \n",
       "            var icon_4e9ea9787e98d7289106df9dc1f7a989 = L.AwesomeMarkers.icon(\n",
       "                {\n",
       "  &quot;markerColor&quot;: &quot;green&quot;,\n",
       "  &quot;iconColor&quot;: &quot;white&quot;,\n",
       "  &quot;icon&quot;: &quot;info-sign&quot;,\n",
       "  &quot;prefix&quot;: &quot;glyphicon&quot;,\n",
       "  &quot;extraClasses&quot;: &quot;fa-rotate-0&quot;,\n",
       "}\n",
       "            );\n",
       "            marker_0cc55a83877bf8fb924326e2250acc0d.setIcon(icon_4e9ea9787e98d7289106df9dc1f7a989);\n",
       "        \n",
       "    \n",
       "        var popup_c42dabc66bc8f54f488fe802e78e8004 = L.popup({\n",
       "  &quot;maxWidth&quot;: &quot;100%&quot;,\n",
       "});\n",
       "\n",
       "        \n",
       "            \n",
       "                var html_554584c2f54a18cd83b8d71eb9ac543c = $(`&lt;div id=&quot;html_554584c2f54a18cd83b8d71eb9ac543c&quot; style=&quot;width: 100.0%; height: 100.0%;&quot;&gt;Wikidata: &lt;a target=&#x27;_blank&#x27; href=&#x27;http://www.wikidata.org/entity/Q56599715&#x27;&gt;German Monument in Saint-Charles Cemetery&lt;/div&gt;`)[0];\n",
       "                popup_c42dabc66bc8f54f488fe802e78e8004.setContent(html_554584c2f54a18cd83b8d71eb9ac543c);\n",
       "            \n",
       "        \n",
       "\n",
       "        marker_0cc55a83877bf8fb924326e2250acc0d.bindPopup(popup_c42dabc66bc8f54f488fe802e78e8004)\n",
       "        ;\n",
       "\n",
       "        \n",
       "    \n",
       "    \n",
       "            var marker_56cf43eca7743f692f39712113f21b39 = L.marker(\n",
       "                [49.20689555, 5.424454807],\n",
       "                {\n",
       "}\n",
       "            ).addTo(map_9852e89f35d882c90514aa8d685cd5bf);\n",
       "        \n",
       "    \n",
       "            var icon_2d1db41df72a5bfe925b0f819c3b76f9 = L.AwesomeMarkers.icon(\n",
       "                {\n",
       "  &quot;markerColor&quot;: &quot;green&quot;,\n",
       "  &quot;iconColor&quot;: &quot;white&quot;,\n",
       "  &quot;icon&quot;: &quot;info-sign&quot;,\n",
       "  &quot;prefix&quot;: &quot;glyphicon&quot;,\n",
       "  &quot;extraClasses&quot;: &quot;fa-rotate-0&quot;,\n",
       "}\n",
       "            );\n",
       "            marker_56cf43eca7743f692f39712113f21b39.setIcon(icon_2d1db41df72a5bfe925b0f819c3b76f9);\n",
       "        \n",
       "    \n",
       "        var popup_e643809ecf29aed2c1cd8ed44fe03927 = L.popup({\n",
       "  &quot;maxWidth&quot;: &quot;100%&quot;,\n",
       "});\n",
       "\n",
       "        \n",
       "            \n",
       "                var html_e5900727b3f4e3a5816996dc885e03bc = $(`&lt;div id=&quot;html_e5900727b3f4e3a5816996dc885e03bc&quot; style=&quot;width: 100.0%; height: 100.0%;&quot;&gt;Wikidata: &lt;a target=&#x27;_blank&#x27; href=&#x27;http://www.wikidata.org/entity/Q56718530&#x27;&gt;Fleury-devant-Douaumont National Cemetery&lt;/div&gt;`)[0];\n",
       "                popup_e643809ecf29aed2c1cd8ed44fe03927.setContent(html_e5900727b3f4e3a5816996dc885e03bc);\n",
       "            \n",
       "        \n",
       "\n",
       "        marker_56cf43eca7743f692f39712113f21b39.bindPopup(popup_e643809ecf29aed2c1cd8ed44fe03927)\n",
       "        ;\n",
       "\n",
       "        \n",
       "    \n",
       "    \n",
       "            var marker_38bc518aeb9749c5977df50518d9c9b3 = L.marker(\n",
       "                [47.8526, 7.17285],\n",
       "                {\n",
       "}\n",
       "            ).addTo(map_9852e89f35d882c90514aa8d685cd5bf);\n",
       "        \n",
       "    \n",
       "            var icon_c1deb1ceb44fff760365304e7abeae05 = L.AwesomeMarkers.icon(\n",
       "                {\n",
       "  &quot;markerColor&quot;: &quot;green&quot;,\n",
       "  &quot;iconColor&quot;: &quot;white&quot;,\n",
       "  &quot;icon&quot;: &quot;info-sign&quot;,\n",
       "  &quot;prefix&quot;: &quot;glyphicon&quot;,\n",
       "  &quot;extraClasses&quot;: &quot;fa-rotate-0&quot;,\n",
       "}\n",
       "            );\n",
       "            marker_38bc518aeb9749c5977df50518d9c9b3.setIcon(icon_c1deb1ceb44fff760365304e7abeae05);\n",
       "        \n",
       "    \n",
       "        var popup_4f2ff9c2f70e0387b5ead1ea4c2d026c = L.popup({\n",
       "  &quot;maxWidth&quot;: &quot;100%&quot;,\n",
       "});\n",
       "\n",
       "        \n",
       "            \n",
       "                var html_5bd0f85f89a3b7076a7bc7d8a479e439 = $(`&lt;div id=&quot;html_5bd0f85f89a3b7076a7bc7d8a479e439&quot; style=&quot;width: 100.0%; height: 100.0%;&quot;&gt;Wikidata: &lt;a target=&#x27;_blank&#x27; href=&#x27;http://www.wikidata.org/entity/Q59281347&#x27;&gt;Cemetery of the Uhlans&lt;/div&gt;`)[0];\n",
       "                popup_4f2ff9c2f70e0387b5ead1ea4c2d026c.setContent(html_5bd0f85f89a3b7076a7bc7d8a479e439);\n",
       "            \n",
       "        \n",
       "\n",
       "        marker_38bc518aeb9749c5977df50518d9c9b3.bindPopup(popup_4f2ff9c2f70e0387b5ead1ea4c2d026c)\n",
       "        ;\n",
       "\n",
       "        \n",
       "    \n",
       "    \n",
       "            var marker_1b20be6fa90d5c765036c8426577395f = L.marker(\n",
       "                [48.079027777, 7.144055555],\n",
       "                {\n",
       "}\n",
       "            ).addTo(map_9852e89f35d882c90514aa8d685cd5bf);\n",
       "        \n",
       "    \n",
       "            var icon_9c93037aa93b8029370d8c013dabde5b = L.AwesomeMarkers.icon(\n",
       "                {\n",
       "  &quot;markerColor&quot;: &quot;green&quot;,\n",
       "  &quot;iconColor&quot;: &quot;white&quot;,\n",
       "  &quot;icon&quot;: &quot;info-sign&quot;,\n",
       "  &quot;prefix&quot;: &quot;glyphicon&quot;,\n",
       "  &quot;extraClasses&quot;: &quot;fa-rotate-0&quot;,\n",
       "}\n",
       "            );\n",
       "            marker_1b20be6fa90d5c765036c8426577395f.setIcon(icon_9c93037aa93b8029370d8c013dabde5b);\n",
       "        \n",
       "    \n",
       "        var popup_1ae55d6ed17d77d900ba85de2c7b4953 = L.popup({\n",
       "  &quot;maxWidth&quot;: &quot;100%&quot;,\n",
       "});\n",
       "\n",
       "        \n",
       "            \n",
       "                var html_343fe0189b0d8353e85bae5492a249e7 = $(`&lt;div id=&quot;html_343fe0189b0d8353e85bae5492a249e7&quot; style=&quot;width: 100.0%; height: 100.0%;&quot;&gt;Wikidata: &lt;a target=&#x27;_blank&#x27; href=&#x27;http://www.wikidata.org/entity/Q59297166&#x27;&gt;Hohrod German war cemetery&lt;/div&gt;`)[0];\n",
       "                popup_1ae55d6ed17d77d900ba85de2c7b4953.setContent(html_343fe0189b0d8353e85bae5492a249e7);\n",
       "            \n",
       "        \n",
       "\n",
       "        marker_1b20be6fa90d5c765036c8426577395f.bindPopup(popup_1ae55d6ed17d77d900ba85de2c7b4953)\n",
       "        ;\n",
       "\n",
       "        \n",
       "    \n",
       "    \n",
       "            var marker_cb1aab34312011c146b5a7b74385c6e6 = L.marker(\n",
       "                [48.512796, 7.165281],\n",
       "                {\n",
       "}\n",
       "            ).addTo(map_9852e89f35d882c90514aa8d685cd5bf);\n",
       "        \n",
       "    \n",
       "            var icon_ccd1788c10ba3e3b646c6fd670c79624 = L.AwesomeMarkers.icon(\n",
       "                {\n",
       "  &quot;markerColor&quot;: &quot;green&quot;,\n",
       "  &quot;iconColor&quot;: &quot;white&quot;,\n",
       "  &quot;icon&quot;: &quot;info-sign&quot;,\n",
       "  &quot;prefix&quot;: &quot;glyphicon&quot;,\n",
       "  &quot;extraClasses&quot;: &quot;fa-rotate-0&quot;,\n",
       "}\n",
       "            );\n",
       "            marker_cb1aab34312011c146b5a7b74385c6e6.setIcon(icon_ccd1788c10ba3e3b646c6fd670c79624);\n",
       "        \n",
       "    \n",
       "        var popup_2501f4cbf9fed87fe934550a4e505875 = L.popup({\n",
       "  &quot;maxWidth&quot;: &quot;100%&quot;,\n",
       "});\n",
       "\n",
       "        \n",
       "            \n",
       "                var html_2d901837cc6bbf35622144da70a930a0 = $(`&lt;div id=&quot;html_2d901837cc6bbf35622144da70a930a0&quot; style=&quot;width: 100.0%; height: 100.0%;&quot;&gt;Wikidata: &lt;a target=&#x27;_blank&#x27; href=&#x27;http://www.wikidata.org/entity/Q59310530&#x27;&gt;Memorial stones and tombs of Petit Donon&lt;/div&gt;`)[0];\n",
       "                popup_2501f4cbf9fed87fe934550a4e505875.setContent(html_2d901837cc6bbf35622144da70a930a0);\n",
       "            \n",
       "        \n",
       "\n",
       "        marker_cb1aab34312011c146b5a7b74385c6e6.bindPopup(popup_2501f4cbf9fed87fe934550a4e505875)\n",
       "        ;\n",
       "\n",
       "        \n",
       "    \n",
       "    \n",
       "            var marker_0a3f1a4bc95472be505825da4a0dc7dc = L.marker(\n",
       "                [49.256472222, 4.967472222],\n",
       "                {\n",
       "}\n",
       "            ).addTo(map_9852e89f35d882c90514aa8d685cd5bf);\n",
       "        \n",
       "    \n",
       "            var icon_3fa41be25e81c965ae050463f3db7af3 = L.AwesomeMarkers.icon(\n",
       "                {\n",
       "  &quot;markerColor&quot;: &quot;green&quot;,\n",
       "  &quot;iconColor&quot;: &quot;white&quot;,\n",
       "  &quot;icon&quot;: &quot;info-sign&quot;,\n",
       "  &quot;prefix&quot;: &quot;glyphicon&quot;,\n",
       "  &quot;extraClasses&quot;: &quot;fa-rotate-0&quot;,\n",
       "}\n",
       "            );\n",
       "            marker_0a3f1a4bc95472be505825da4a0dc7dc.setIcon(icon_3fa41be25e81c965ae050463f3db7af3);\n",
       "        \n",
       "    \n",
       "        var popup_6c2ccc1feb6efff67f926dd6d2184922 = L.popup({\n",
       "  &quot;maxWidth&quot;: &quot;100%&quot;,\n",
       "});\n",
       "\n",
       "        \n",
       "            \n",
       "                var html_44a0245966b21dcfa83d37f1e9320964 = $(`&lt;div id=&quot;html_44a0245966b21dcfa83d37f1e9320964&quot; style=&quot;width: 100.0%; height: 100.0%;&quot;&gt;Wikidata: &lt;a target=&#x27;_blank&#x27; href=&#x27;http://www.wikidata.org/entity/Q59592141&#x27;&gt;Apremont German military cemetery&lt;/div&gt;`)[0];\n",
       "                popup_6c2ccc1feb6efff67f926dd6d2184922.setContent(html_44a0245966b21dcfa83d37f1e9320964);\n",
       "            \n",
       "        \n",
       "\n",
       "        marker_0a3f1a4bc95472be505825da4a0dc7dc.bindPopup(popup_6c2ccc1feb6efff67f926dd6d2184922)\n",
       "        ;\n",
       "\n",
       "        \n",
       "    \n",
       "    \n",
       "            var marker_1c6ac55e3fad4b522725693c3a4bb710 = L.marker(\n",
       "                [49.189083333, 4.535944444],\n",
       "                {\n",
       "}\n",
       "            ).addTo(map_9852e89f35d882c90514aa8d685cd5bf);\n",
       "        \n",
       "    \n",
       "            var icon_01d6e993c65789852a737dd5b1a50744 = L.AwesomeMarkers.icon(\n",
       "                {\n",
       "  &quot;markerColor&quot;: &quot;green&quot;,\n",
       "  &quot;iconColor&quot;: &quot;white&quot;,\n",
       "  &quot;icon&quot;: &quot;info-sign&quot;,\n",
       "  &quot;prefix&quot;: &quot;glyphicon&quot;,\n",
       "  &quot;extraClasses&quot;: &quot;fa-rotate-0&quot;,\n",
       "}\n",
       "            );\n",
       "            marker_1c6ac55e3fad4b522725693c3a4bb710.setIcon(icon_01d6e993c65789852a737dd5b1a50744);\n",
       "        \n",
       "    \n",
       "        var popup_c8ba544368de979e0d51045d17cd7768 = L.popup({\n",
       "  &quot;maxWidth&quot;: &quot;100%&quot;,\n",
       "});\n",
       "\n",
       "        \n",
       "            \n",
       "                var html_2cd1e6862c428156cc897071f3949e9a = $(`&lt;div id=&quot;html_2cd1e6862c428156cc897071f3949e9a&quot; style=&quot;width: 100.0%; height: 100.0%;&quot;&gt;Wikidata: &lt;a target=&#x27;_blank&#x27; href=&#x27;http://www.wikidata.org/entity/Q59594168&#x27;&gt;Souain German military cemetery&lt;/div&gt;`)[0];\n",
       "                popup_c8ba544368de979e0d51045d17cd7768.setContent(html_2cd1e6862c428156cc897071f3949e9a);\n",
       "            \n",
       "        \n",
       "\n",
       "        marker_1c6ac55e3fad4b522725693c3a4bb710.bindPopup(popup_c8ba544368de979e0d51045d17cd7768)\n",
       "        ;\n",
       "\n",
       "        \n",
       "    \n",
       "    \n",
       "            var marker_e6f36b05a431a4e1e66668740b5d7f51 = L.marker(\n",
       "                [49.397205, 4.727118],\n",
       "                {\n",
       "}\n",
       "            ).addTo(map_9852e89f35d882c90514aa8d685cd5bf);\n",
       "        \n",
       "    \n",
       "            var icon_66bdaaecb2c2a20e2b3abc403ac5d053 = L.AwesomeMarkers.icon(\n",
       "                {\n",
       "  &quot;markerColor&quot;: &quot;green&quot;,\n",
       "  &quot;iconColor&quot;: &quot;white&quot;,\n",
       "  &quot;icon&quot;: &quot;info-sign&quot;,\n",
       "  &quot;prefix&quot;: &quot;glyphicon&quot;,\n",
       "  &quot;extraClasses&quot;: &quot;fa-rotate-0&quot;,\n",
       "}\n",
       "            );\n",
       "            marker_e6f36b05a431a4e1e66668740b5d7f51.setIcon(icon_66bdaaecb2c2a20e2b3abc403ac5d053);\n",
       "        \n",
       "    \n",
       "        var popup_38989f9fa00aa75934faba38d9b21b09 = L.popup({\n",
       "  &quot;maxWidth&quot;: &quot;100%&quot;,\n",
       "});\n",
       "\n",
       "        \n",
       "            \n",
       "                var html_0bab4e30ef2fcc751c5fd113f0f96be8 = $(`&lt;div id=&quot;html_0bab4e30ef2fcc751c5fd113f0f96be8&quot; style=&quot;width: 100.0%; height: 100.0%;&quot;&gt;Wikidata: &lt;a target=&#x27;_blank&#x27; href=&#x27;http://www.wikidata.org/entity/Q59616773&#x27;&gt;German section of the Chestres  military cemetery&lt;/div&gt;`)[0];\n",
       "                popup_38989f9fa00aa75934faba38d9b21b09.setContent(html_0bab4e30ef2fcc751c5fd113f0f96be8);\n",
       "            \n",
       "        \n",
       "\n",
       "        marker_e6f36b05a431a4e1e66668740b5d7f51.bindPopup(popup_38989f9fa00aa75934faba38d9b21b09)\n",
       "        ;\n",
       "\n",
       "        \n",
       "    \n",
       "    \n",
       "            var marker_979bccb57c59db49eb6b42f434f544ff = L.marker(\n",
       "                [49.42315, 5.70492],\n",
       "                {\n",
       "}\n",
       "            ).addTo(map_9852e89f35d882c90514aa8d685cd5bf);\n",
       "        \n",
       "    \n",
       "            var icon_bffadfac241d89eaea4069a1a88f8da7 = L.AwesomeMarkers.icon(\n",
       "                {\n",
       "  &quot;markerColor&quot;: &quot;green&quot;,\n",
       "  &quot;iconColor&quot;: &quot;white&quot;,\n",
       "  &quot;icon&quot;: &quot;info-sign&quot;,\n",
       "  &quot;prefix&quot;: &quot;glyphicon&quot;,\n",
       "  &quot;extraClasses&quot;: &quot;fa-rotate-0&quot;,\n",
       "}\n",
       "            );\n",
       "            marker_979bccb57c59db49eb6b42f434f544ff.setIcon(icon_bffadfac241d89eaea4069a1a88f8da7);\n",
       "        \n",
       "    \n",
       "        var popup_9aa705beb685c0b7a643a2feb3e44140 = L.popup({\n",
       "  &quot;maxWidth&quot;: &quot;100%&quot;,\n",
       "});\n",
       "\n",
       "        \n",
       "            \n",
       "                var html_f0434e7ded5d8240f13fb19ef75240d6 = $(`&lt;div id=&quot;html_f0434e7ded5d8240f13fb19ef75240d6&quot; style=&quot;width: 100.0%; height: 100.0%;&quot;&gt;Wikidata: &lt;a target=&#x27;_blank&#x27; href=&#x27;http://www.wikidata.org/entity/Q59618084&#x27;&gt;Pierrepont German military cemetery&lt;/div&gt;`)[0];\n",
       "                popup_9aa705beb685c0b7a643a2feb3e44140.setContent(html_f0434e7ded5d8240f13fb19ef75240d6);\n",
       "            \n",
       "        \n",
       "\n",
       "        marker_979bccb57c59db49eb6b42f434f544ff.bindPopup(popup_9aa705beb685c0b7a643a2feb3e44140)\n",
       "        ;\n",
       "\n",
       "        \n",
       "    \n",
       "    \n",
       "            var marker_e3a049f7ad1c5f99fa6fcbd21c5f9e86 = L.marker(\n",
       "                [48.691666666, 6.711138888],\n",
       "                {\n",
       "}\n",
       "            ).addTo(map_9852e89f35d882c90514aa8d685cd5bf);\n",
       "        \n",
       "    \n",
       "            var icon_111386c6052623889c5b2593018c1c19 = L.AwesomeMarkers.icon(\n",
       "                {\n",
       "  &quot;markerColor&quot;: &quot;green&quot;,\n",
       "  &quot;iconColor&quot;: &quot;white&quot;,\n",
       "  &quot;icon&quot;: &quot;info-sign&quot;,\n",
       "  &quot;prefix&quot;: &quot;glyphicon&quot;,\n",
       "  &quot;extraClasses&quot;: &quot;fa-rotate-0&quot;,\n",
       "}\n",
       "            );\n",
       "            marker_e3a049f7ad1c5f99fa6fcbd21c5f9e86.setIcon(icon_111386c6052623889c5b2593018c1c19);\n",
       "        \n",
       "    \n",
       "        var popup_ad791e09ab41736e15760bcdc8ad8d2e = L.popup({\n",
       "  &quot;maxWidth&quot;: &quot;100%&quot;,\n",
       "});\n",
       "\n",
       "        \n",
       "            \n",
       "                var html_6c89631b19d89f42b6cb8f3492616adb = $(`&lt;div id=&quot;html_6c89631b19d89f42b6cb8f3492616adb&quot; style=&quot;width: 100.0%; height: 100.0%;&quot;&gt;Wikidata: &lt;a target=&#x27;_blank&#x27; href=&#x27;http://www.wikidata.org/entity/Q60042743&#x27;&gt;Lagarde German military cemetery&lt;/div&gt;`)[0];\n",
       "                popup_ad791e09ab41736e15760bcdc8ad8d2e.setContent(html_6c89631b19d89f42b6cb8f3492616adb);\n",
       "            \n",
       "        \n",
       "\n",
       "        marker_e3a049f7ad1c5f99fa6fcbd21c5f9e86.bindPopup(popup_ad791e09ab41736e15760bcdc8ad8d2e)\n",
       "        ;\n",
       "\n",
       "        \n",
       "    \n",
       "    \n",
       "            var marker_0ee6501e410b49cf4ba2a7ac8f4d6147 = L.marker(\n",
       "                [49.568583333, 2.885083333],\n",
       "                {\n",
       "}\n",
       "            ).addTo(map_9852e89f35d882c90514aa8d685cd5bf);\n",
       "        \n",
       "    \n",
       "            var icon_7a446c48f8054a3f92b51baa50e8bf38 = L.AwesomeMarkers.icon(\n",
       "                {\n",
       "  &quot;markerColor&quot;: &quot;green&quot;,\n",
       "  &quot;iconColor&quot;: &quot;white&quot;,\n",
       "  &quot;icon&quot;: &quot;info-sign&quot;,\n",
       "  &quot;prefix&quot;: &quot;glyphicon&quot;,\n",
       "  &quot;extraClasses&quot;: &quot;fa-rotate-0&quot;,\n",
       "}\n",
       "            );\n",
       "            marker_0ee6501e410b49cf4ba2a7ac8f4d6147.setIcon(icon_7a446c48f8054a3f92b51baa50e8bf38);\n",
       "        \n",
       "    \n",
       "        var popup_51258a40c1dad1862a1197119d2af9e3 = L.popup({\n",
       "  &quot;maxWidth&quot;: &quot;100%&quot;,\n",
       "});\n",
       "\n",
       "        \n",
       "            \n",
       "                var html_9ab820c94479fb5b41c050b1c217f2d3 = $(`&lt;div id=&quot;html_9ab820c94479fb5b41c050b1c217f2d3&quot; style=&quot;width: 100.0%; height: 100.0%;&quot;&gt;Wikidata: &lt;a target=&#x27;_blank&#x27; href=&#x27;http://www.wikidata.org/entity/Q60162677&#x27;&gt;Thiescourt German military cemetery&lt;/div&gt;`)[0];\n",
       "                popup_51258a40c1dad1862a1197119d2af9e3.setContent(html_9ab820c94479fb5b41c050b1c217f2d3);\n",
       "            \n",
       "        \n",
       "\n",
       "        marker_0ee6501e410b49cf4ba2a7ac8f4d6147.bindPopup(popup_51258a40c1dad1862a1197119d2af9e3)\n",
       "        ;\n",
       "\n",
       "        \n",
       "    \n",
       "    \n",
       "            var marker_7e49a0be83fa203c402835898002256a = L.marker(\n",
       "                [49.848333333, 3.262611111],\n",
       "                {\n",
       "}\n",
       "            ).addTo(map_9852e89f35d882c90514aa8d685cd5bf);\n",
       "        \n",
       "    \n",
       "            var icon_d8354eeee589353f85c2589d2426ce9a = L.AwesomeMarkers.icon(\n",
       "                {\n",
       "  &quot;markerColor&quot;: &quot;green&quot;,\n",
       "  &quot;iconColor&quot;: &quot;white&quot;,\n",
       "  &quot;icon&quot;: &quot;info-sign&quot;,\n",
       "  &quot;prefix&quot;: &quot;glyphicon&quot;,\n",
       "  &quot;extraClasses&quot;: &quot;fa-rotate-0&quot;,\n",
       "}\n",
       "            );\n",
       "            marker_7e49a0be83fa203c402835898002256a.setIcon(icon_d8354eeee589353f85c2589d2426ce9a);\n",
       "        \n",
       "    \n",
       "        var popup_85da7a126de088ffb3692c5aaa63146a = L.popup({\n",
       "  &quot;maxWidth&quot;: &quot;100%&quot;,\n",
       "});\n",
       "\n",
       "        \n",
       "            \n",
       "                var html_d5f250997d5e6eecac252cd85bfe96c1 = $(`&lt;div id=&quot;html_d5f250997d5e6eecac252cd85bfe96c1&quot; style=&quot;width: 100.0%; height: 100.0%;&quot;&gt;Wikidata: &lt;a target=&#x27;_blank&#x27; href=&#x27;http://www.wikidata.org/entity/Q60221092&#x27;&gt;Saint-Quentin Franco-German Monument&lt;/div&gt;`)[0];\n",
       "                popup_85da7a126de088ffb3692c5aaa63146a.setContent(html_d5f250997d5e6eecac252cd85bfe96c1);\n",
       "            \n",
       "        \n",
       "\n",
       "        marker_7e49a0be83fa203c402835898002256a.bindPopup(popup_85da7a126de088ffb3692c5aaa63146a)\n",
       "        ;\n",
       "\n",
       "        \n",
       "    \n",
       "    \n",
       "            var marker_ad5e406361516b39cd0f702bae6a2d15 = L.marker(\n",
       "                [49.9978, 2.91095],\n",
       "                {\n",
       "}\n",
       "            ).addTo(map_9852e89f35d882c90514aa8d685cd5bf);\n",
       "        \n",
       "    \n",
       "            var icon_dc7c1d346646023289f61fa166751f14 = L.AwesomeMarkers.icon(\n",
       "                {\n",
       "  &quot;markerColor&quot;: &quot;green&quot;,\n",
       "  &quot;iconColor&quot;: &quot;white&quot;,\n",
       "  &quot;icon&quot;: &quot;info-sign&quot;,\n",
       "  &quot;prefix&quot;: &quot;glyphicon&quot;,\n",
       "  &quot;extraClasses&quot;: &quot;fa-rotate-0&quot;,\n",
       "}\n",
       "            );\n",
       "            marker_ad5e406361516b39cd0f702bae6a2d15.setIcon(icon_dc7c1d346646023289f61fa166751f14);\n",
       "        \n",
       "    \n",
       "        var popup_9655fd5c02415aac826650bd5bf703d0 = L.popup({\n",
       "  &quot;maxWidth&quot;: &quot;100%&quot;,\n",
       "});\n",
       "\n",
       "        \n",
       "            \n",
       "                var html_7f1dfe15696edeff45c1095c312b704d = $(`&lt;div id=&quot;html_7f1dfe15696edeff45c1095c312b704d&quot; style=&quot;width: 100.0%; height: 100.0%;&quot;&gt;Wikidata: &lt;a target=&#x27;_blank&#x27; href=&#x27;http://www.wikidata.org/entity/Q60346358&#x27;&gt;Rancourt Memorial Chapel&lt;/div&gt;`)[0];\n",
       "                popup_9655fd5c02415aac826650bd5bf703d0.setContent(html_7f1dfe15696edeff45c1095c312b704d);\n",
       "            \n",
       "        \n",
       "\n",
       "        marker_ad5e406361516b39cd0f702bae6a2d15.bindPopup(popup_9655fd5c02415aac826650bd5bf703d0)\n",
       "        ;\n",
       "\n",
       "        \n",
       "    \n",
       "    \n",
       "            var marker_65c868c32eed3fa139ebcf1e54588aa9 = L.marker(\n",
       "                [49.19371, 4.36805],\n",
       "                {\n",
       "}\n",
       "            ).addTo(map_9852e89f35d882c90514aa8d685cd5bf);\n",
       "        \n",
       "    \n",
       "            var icon_f77df0edd2bc79b3c91c657395a9efe0 = L.AwesomeMarkers.icon(\n",
       "                {\n",
       "  &quot;markerColor&quot;: &quot;green&quot;,\n",
       "  &quot;iconColor&quot;: &quot;white&quot;,\n",
       "  &quot;icon&quot;: &quot;info-sign&quot;,\n",
       "  &quot;prefix&quot;: &quot;glyphicon&quot;,\n",
       "  &quot;extraClasses&quot;: &quot;fa-rotate-0&quot;,\n",
       "}\n",
       "            );\n",
       "            marker_65c868c32eed3fa139ebcf1e54588aa9.setIcon(icon_f77df0edd2bc79b3c91c657395a9efe0);\n",
       "        \n",
       "    \n",
       "        var popup_52d1ce0ac6707f8120e056e72dea6369 = L.popup({\n",
       "  &quot;maxWidth&quot;: &quot;100%&quot;,\n",
       "});\n",
       "\n",
       "        \n",
       "            \n",
       "                var html_e0a8ca5caddebed98df129ea88a4e7b9 = $(`&lt;div id=&quot;html_e0a8ca5caddebed98df129ea88a4e7b9&quot; style=&quot;width: 100.0%; height: 100.0%;&quot;&gt;Wikidata: &lt;a target=&#x27;_blank&#x27; href=&#x27;http://www.wikidata.org/entity/Q61744168&#x27;&gt;Bois du Puits cemetery&lt;/div&gt;`)[0];\n",
       "                popup_52d1ce0ac6707f8120e056e72dea6369.setContent(html_e0a8ca5caddebed98df129ea88a4e7b9);\n",
       "            \n",
       "        \n",
       "\n",
       "        marker_65c868c32eed3fa139ebcf1e54588aa9.bindPopup(popup_52d1ce0ac6707f8120e056e72dea6369)\n",
       "        ;\n",
       "\n",
       "        \n",
       "    \n",
       "    \n",
       "            var marker_8ed1c5ad1ee38ab7bf72c91c8fcc09c8 = L.marker(\n",
       "                [48.956983333, 5.853066666],\n",
       "                {\n",
       "}\n",
       "            ).addTo(map_9852e89f35d882c90514aa8d685cd5bf);\n",
       "        \n",
       "    \n",
       "            var icon_fcde76d03c79baa894eb5dedeb939288 = L.AwesomeMarkers.icon(\n",
       "                {\n",
       "  &quot;markerColor&quot;: &quot;green&quot;,\n",
       "  &quot;iconColor&quot;: &quot;white&quot;,\n",
       "  &quot;icon&quot;: &quot;info-sign&quot;,\n",
       "  &quot;prefix&quot;: &quot;glyphicon&quot;,\n",
       "  &quot;extraClasses&quot;: &quot;fa-rotate-0&quot;,\n",
       "}\n",
       "            );\n",
       "            marker_8ed1c5ad1ee38ab7bf72c91c8fcc09c8.setIcon(icon_fcde76d03c79baa894eb5dedeb939288);\n",
       "        \n",
       "    \n",
       "        var popup_f63dbbfdb2afa6b546b381bb8eceac16 = L.popup({\n",
       "  &quot;maxWidth&quot;: &quot;100%&quot;,\n",
       "});\n",
       "\n",
       "        \n",
       "            \n",
       "                var html_fe4cb2e65cb8a3b031bbe9de1a5bbf48 = $(`&lt;div id=&quot;html_fe4cb2e65cb8a3b031bbe9de1a5bbf48&quot; style=&quot;width: 100.0%; height: 100.0%;&quot;&gt;Wikidata: &lt;a target=&#x27;_blank&#x27; href=&#x27;http://www.wikidata.org/entity/Q647265&#x27;&gt;St. Mihiel American Cemetery and Memorial&lt;/div&gt;`)[0];\n",
       "                popup_f63dbbfdb2afa6b546b381bb8eceac16.setContent(html_fe4cb2e65cb8a3b031bbe9de1a5bbf48);\n",
       "            \n",
       "        \n",
       "\n",
       "        marker_8ed1c5ad1ee38ab7bf72c91c8fcc09c8.bindPopup(popup_f63dbbfdb2afa6b546b381bb8eceac16)\n",
       "        ;\n",
       "\n",
       "        \n",
       "    \n",
       "    \n",
       "            var marker_337cfc39175851546a644cd3139546fb = L.marker(\n",
       "                [36.78333, 3.06028],\n",
       "                {\n",
       "}\n",
       "            ).addTo(map_9852e89f35d882c90514aa8d685cd5bf);\n",
       "        \n",
       "    \n",
       "            var icon_27c8d0ed63deca5299f8e8b5abdd2519 = L.AwesomeMarkers.icon(\n",
       "                {\n",
       "  &quot;markerColor&quot;: &quot;green&quot;,\n",
       "  &quot;iconColor&quot;: &quot;white&quot;,\n",
       "  &quot;icon&quot;: &quot;info-sign&quot;,\n",
       "  &quot;prefix&quot;: &quot;glyphicon&quot;,\n",
       "  &quot;extraClasses&quot;: &quot;fa-rotate-0&quot;,\n",
       "}\n",
       "            );\n",
       "            marker_337cfc39175851546a644cd3139546fb.setIcon(icon_27c8d0ed63deca5299f8e8b5abdd2519);\n",
       "        \n",
       "    \n",
       "        var popup_8df123608b37fdcc21f3f40f31c6222b = L.popup({\n",
       "  &quot;maxWidth&quot;: &quot;100%&quot;,\n",
       "});\n",
       "\n",
       "        \n",
       "            \n",
       "                var html_f651d931766bf31b13cd342f7f386df5 = $(`&lt;div id=&quot;html_f651d931766bf31b13cd342f7f386df5&quot; style=&quot;width: 100.0%; height: 100.0%;&quot;&gt;Wikidata: &lt;a target=&#x27;_blank&#x27; href=&#x27;http://www.wikidata.org/entity/Q662102&#x27;&gt;Casbah of Algiers&lt;/div&gt;`)[0];\n",
       "                popup_8df123608b37fdcc21f3f40f31c6222b.setContent(html_f651d931766bf31b13cd342f7f386df5);\n",
       "            \n",
       "        \n",
       "\n",
       "        marker_337cfc39175851546a644cd3139546fb.bindPopup(popup_8df123608b37fdcc21f3f40f31c6222b)\n",
       "        ;\n",
       "\n",
       "        \n",
       "    \n",
       "    \n",
       "            var marker_50829d458010b57a83a956c9d50a9de6 = L.marker(\n",
       "                [43.838194, 4.356111],\n",
       "                {\n",
       "}\n",
       "            ).addTo(map_9852e89f35d882c90514aa8d685cd5bf);\n",
       "        \n",
       "    \n",
       "            var icon_916e8549aef659f5a4e5e4529855d81e = L.AwesomeMarkers.icon(\n",
       "                {\n",
       "  &quot;markerColor&quot;: &quot;green&quot;,\n",
       "  &quot;iconColor&quot;: &quot;white&quot;,\n",
       "  &quot;icon&quot;: &quot;info-sign&quot;,\n",
       "  &quot;prefix&quot;: &quot;glyphicon&quot;,\n",
       "  &quot;extraClasses&quot;: &quot;fa-rotate-0&quot;,\n",
       "}\n",
       "            );\n",
       "            marker_50829d458010b57a83a956c9d50a9de6.setIcon(icon_916e8549aef659f5a4e5e4529855d81e);\n",
       "        \n",
       "    \n",
       "        var popup_470e0edc7abfa620bd7e1540f6effc5d = L.popup({\n",
       "  &quot;maxWidth&quot;: &quot;100%&quot;,\n",
       "});\n",
       "\n",
       "        \n",
       "            \n",
       "                var html_06ee013bf84cf720854bd4ff792d99a6 = $(`&lt;div id=&quot;html_06ee013bf84cf720854bd4ff792d99a6&quot; style=&quot;width: 100.0%; height: 100.0%;&quot;&gt;Wikidata: &lt;a target=&#x27;_blank&#x27; href=&#x27;http://www.wikidata.org/entity/Q677659&#x27;&gt;Maison Carrée&lt;/div&gt;`)[0];\n",
       "                popup_470e0edc7abfa620bd7e1540f6effc5d.setContent(html_06ee013bf84cf720854bd4ff792d99a6);\n",
       "            \n",
       "        \n",
       "\n",
       "        marker_50829d458010b57a83a956c9d50a9de6.bindPopup(popup_470e0edc7abfa620bd7e1540f6effc5d)\n",
       "        ;\n",
       "\n",
       "        \n",
       "    \n",
       "    \n",
       "            var marker_67472bc228aae87567e6e11f749dae1b = L.marker(\n",
       "                [49.20826, 5.423671],\n",
       "                {\n",
       "}\n",
       "            ).addTo(map_9852e89f35d882c90514aa8d685cd5bf);\n",
       "        \n",
       "    \n",
       "            var icon_4964e6b748e720d2e3f4cf43b1e17793 = L.AwesomeMarkers.icon(\n",
       "                {\n",
       "  &quot;markerColor&quot;: &quot;green&quot;,\n",
       "  &quot;iconColor&quot;: &quot;white&quot;,\n",
       "  &quot;icon&quot;: &quot;info-sign&quot;,\n",
       "  &quot;prefix&quot;: &quot;glyphicon&quot;,\n",
       "  &quot;extraClasses&quot;: &quot;fa-rotate-0&quot;,\n",
       "}\n",
       "            );\n",
       "            marker_67472bc228aae87567e6e11f749dae1b.setIcon(icon_4964e6b748e720d2e3f4cf43b1e17793);\n",
       "        \n",
       "    \n",
       "        var popup_087218a3d05becd574e99f51d0c1c441 = L.popup({\n",
       "  &quot;maxWidth&quot;: &quot;100%&quot;,\n",
       "});\n",
       "\n",
       "        \n",
       "            \n",
       "                var html_4faf3a4d8792d91fd0898ba807930dc8 = $(`&lt;div id=&quot;html_4faf3a4d8792d91fd0898ba807930dc8&quot; style=&quot;width: 100.0%; height: 100.0%;&quot;&gt;Wikidata: &lt;a target=&#x27;_blank&#x27; href=&#x27;http://www.wikidata.org/entity/Q705054&#x27;&gt;Douaumont ossuary&lt;/div&gt;`)[0];\n",
       "                popup_087218a3d05becd574e99f51d0c1c441.setContent(html_4faf3a4d8792d91fd0898ba807930dc8);\n",
       "            \n",
       "        \n",
       "\n",
       "        marker_67472bc228aae87567e6e11f749dae1b.bindPopup(popup_087218a3d05becd574e99f51d0c1c441)\n",
       "        ;\n",
       "\n",
       "        \n",
       "    \n",
       "    \n",
       "            var marker_80721e71de88c3ec086e8397ed95c3e1 = L.marker(\n",
       "                [46.566111111, 0.863611111],\n",
       "                {\n",
       "}\n",
       "            ).addTo(map_9852e89f35d882c90514aa8d685cd5bf);\n",
       "        \n",
       "    \n",
       "            var icon_b4cf9f2e4852a206632e770526ee6cd1 = L.AwesomeMarkers.icon(\n",
       "                {\n",
       "  &quot;markerColor&quot;: &quot;green&quot;,\n",
       "  &quot;iconColor&quot;: &quot;white&quot;,\n",
       "  &quot;icon&quot;: &quot;info-sign&quot;,\n",
       "  &quot;prefix&quot;: &quot;glyphicon&quot;,\n",
       "  &quot;extraClasses&quot;: &quot;fa-rotate-0&quot;,\n",
       "}\n",
       "            );\n",
       "            marker_80721e71de88c3ec086e8397ed95c3e1.setIcon(icon_b4cf9f2e4852a206632e770526ee6cd1);\n",
       "        \n",
       "    \n",
       "        var popup_eccf9cbbc787c5f898f1181dbf8aacd8 = L.popup({\n",
       "  &quot;maxWidth&quot;: &quot;100%&quot;,\n",
       "});\n",
       "\n",
       "        \n",
       "            \n",
       "                var html_9437d94c7750b1b89e4a42e7e41657ec = $(`&lt;div id=&quot;html_9437d94c7750b1b89e4a42e7e41657ec&quot; style=&quot;width: 100.0%; height: 100.0%;&quot;&gt;Wikidata: &lt;a target=&#x27;_blank&#x27; href=&#x27;http://www.wikidata.org/entity/Q738657&#x27;&gt;Saint-Savin&lt;/div&gt;`)[0];\n",
       "                popup_eccf9cbbc787c5f898f1181dbf8aacd8.setContent(html_9437d94c7750b1b89e4a42e7e41657ec);\n",
       "            \n",
       "        \n",
       "\n",
       "        marker_80721e71de88c3ec086e8397ed95c3e1.bindPopup(popup_eccf9cbbc787c5f898f1181dbf8aacd8)\n",
       "        ;\n",
       "\n",
       "        \n",
       "    \n",
       "    \n",
       "            var marker_c1766b40fb19604a6df330f909fb5312 = L.marker(\n",
       "                [50.635266, 3.514842],\n",
       "                {\n",
       "}\n",
       "            ).addTo(map_9852e89f35d882c90514aa8d685cd5bf);\n",
       "        \n",
       "    \n",
       "            var icon_1f7d37881a672d7a64a6746f948656b3 = L.AwesomeMarkers.icon(\n",
       "                {\n",
       "  &quot;markerColor&quot;: &quot;green&quot;,\n",
       "  &quot;iconColor&quot;: &quot;white&quot;,\n",
       "  &quot;icon&quot;: &quot;info-sign&quot;,\n",
       "  &quot;prefix&quot;: &quot;glyphicon&quot;,\n",
       "  &quot;extraClasses&quot;: &quot;fa-rotate-0&quot;,\n",
       "}\n",
       "            );\n",
       "            marker_c1766b40fb19604a6df330f909fb5312.setIcon(icon_1f7d37881a672d7a64a6746f948656b3);\n",
       "        \n",
       "    \n",
       "        var popup_97405698386459837869fc9601601965 = L.popup({\n",
       "  &quot;maxWidth&quot;: &quot;100%&quot;,\n",
       "});\n",
       "\n",
       "        \n",
       "            \n",
       "                var html_b3ddc9bb3ab536477207f4b5e2e6a26e = $(`&lt;div id=&quot;html_b3ddc9bb3ab536477207f4b5e2e6a26e&quot; style=&quot;width: 100.0%; height: 100.0%;&quot;&gt;Wikidata: &lt;a target=&#x27;_blank&#x27; href=&#x27;http://www.wikidata.org/entity/Q750675&#x27;&gt;Belfries of Belgium and France&lt;/div&gt;`)[0];\n",
       "                popup_97405698386459837869fc9601601965.setContent(html_b3ddc9bb3ab536477207f4b5e2e6a26e);\n",
       "            \n",
       "        \n",
       "\n",
       "        marker_c1766b40fb19604a6df330f909fb5312.bindPopup(popup_97405698386459837869fc9601601965)\n",
       "        ;\n",
       "\n",
       "        \n",
       "    \n",
       "    \n",
       "            var marker_3193f91324d7bd50fe37d762e95b7e06 = L.marker(\n",
       "                [50.073838, 2.648229],\n",
       "                {\n",
       "}\n",
       "            ).addTo(map_9852e89f35d882c90514aa8d685cd5bf);\n",
       "        \n",
       "    \n",
       "            var icon_4a5b93202921849b4be544aefab2ce76 = L.AwesomeMarkers.icon(\n",
       "                {\n",
       "  &quot;markerColor&quot;: &quot;green&quot;,\n",
       "  &quot;iconColor&quot;: &quot;white&quot;,\n",
       "  &quot;icon&quot;: &quot;info-sign&quot;,\n",
       "  &quot;prefix&quot;: &quot;glyphicon&quot;,\n",
       "  &quot;extraClasses&quot;: &quot;fa-rotate-0&quot;,\n",
       "}\n",
       "            );\n",
       "            marker_3193f91324d7bd50fe37d762e95b7e06.setIcon(icon_4a5b93202921849b4be544aefab2ce76);\n",
       "        \n",
       "    \n",
       "        var popup_ee1464bd29c4c627cf759de3051f1f44 = L.popup({\n",
       "  &quot;maxWidth&quot;: &quot;100%&quot;,\n",
       "});\n",
       "\n",
       "        \n",
       "            \n",
       "                var html_142d81c3ccda0074503324fe8f626ef6 = $(`&lt;div id=&quot;html_142d81c3ccda0074503324fe8f626ef6&quot; style=&quot;width: 100.0%; height: 100.0%;&quot;&gt;Wikidata: &lt;a target=&#x27;_blank&#x27; href=&#x27;http://www.wikidata.org/entity/Q813418&#x27;&gt;Beaumont-Hamel Newfoundland Memorial&lt;/div&gt;`)[0];\n",
       "                popup_ee1464bd29c4c627cf759de3051f1f44.setContent(html_142d81c3ccda0074503324fe8f626ef6);\n",
       "            \n",
       "        \n",
       "\n",
       "        marker_3193f91324d7bd50fe37d762e95b7e06.bindPopup(popup_ee1464bd29c4c627cf759de3051f1f44)\n",
       "        ;\n",
       "\n",
       "        \n",
       "    \n",
       "    \n",
       "            var marker_6209c7c60be364ea70bded0473b625ad = L.marker(\n",
       "                [50.2825, 2.75888889],\n",
       "                {\n",
       "}\n",
       "            ).addTo(map_9852e89f35d882c90514aa8d685cd5bf);\n",
       "        \n",
       "    \n",
       "            var icon_7d6d1a5d80d525e851f35aa51d3408b4 = L.AwesomeMarkers.icon(\n",
       "                {\n",
       "  &quot;markerColor&quot;: &quot;green&quot;,\n",
       "  &quot;iconColor&quot;: &quot;white&quot;,\n",
       "  &quot;icon&quot;: &quot;info-sign&quot;,\n",
       "  &quot;prefix&quot;: &quot;glyphicon&quot;,\n",
       "  &quot;extraClasses&quot;: &quot;fa-rotate-0&quot;,\n",
       "}\n",
       "            );\n",
       "            marker_6209c7c60be364ea70bded0473b625ad.setIcon(icon_7d6d1a5d80d525e851f35aa51d3408b4);\n",
       "        \n",
       "    \n",
       "        var popup_7e5f93697baa1429a50be9c58051824e = L.popup({\n",
       "  &quot;maxWidth&quot;: &quot;100%&quot;,\n",
       "});\n",
       "\n",
       "        \n",
       "            \n",
       "                var html_969193a8806f26dd324cd4cc9ba9482c = $(`&lt;div id=&quot;html_969193a8806f26dd324cd4cc9ba9482c&quot; style=&quot;width: 100.0%; height: 100.0%;&quot;&gt;Wikidata: &lt;a target=&#x27;_blank&#x27; href=&#x27;http://www.wikidata.org/entity/Q833781&#x27;&gt;Fortifications of Vauban&lt;/div&gt;`)[0];\n",
       "                popup_7e5f93697baa1429a50be9c58051824e.setContent(html_969193a8806f26dd324cd4cc9ba9482c);\n",
       "            \n",
       "        \n",
       "\n",
       "        marker_6209c7c60be364ea70bded0473b625ad.bindPopup(popup_7e5f93697baa1429a50be9c58051824e)\n",
       "        ;\n",
       "\n",
       "        \n",
       "    \n",
       "    \n",
       "            var marker_43658381711d9f2967537526d297a2bf = L.marker(\n",
       "                [44.837619444, -0.576555555],\n",
       "                {\n",
       "}\n",
       "            ).addTo(map_9852e89f35d882c90514aa8d685cd5bf);\n",
       "        \n",
       "    \n",
       "            var icon_611daf520da41cd3f956961310409e2d = L.AwesomeMarkers.icon(\n",
       "                {\n",
       "  &quot;markerColor&quot;: &quot;green&quot;,\n",
       "  &quot;iconColor&quot;: &quot;white&quot;,\n",
       "  &quot;icon&quot;: &quot;info-sign&quot;,\n",
       "  &quot;prefix&quot;: &quot;glyphicon&quot;,\n",
       "  &quot;extraClasses&quot;: &quot;fa-rotate-0&quot;,\n",
       "}\n",
       "            );\n",
       "            marker_43658381711d9f2967537526d297a2bf.setIcon(icon_611daf520da41cd3f956961310409e2d);\n",
       "        \n",
       "    \n",
       "        var popup_32d850bf61156a8e7a9e5db822ce52ae = L.popup({\n",
       "  &quot;maxWidth&quot;: &quot;100%&quot;,\n",
       "});\n",
       "\n",
       "        \n",
       "            \n",
       "                var html_2ccb65d32e4fe5a7de6415abece67cb9 = $(`&lt;div id=&quot;html_2ccb65d32e4fe5a7de6415abece67cb9&quot; style=&quot;width: 100.0%; height: 100.0%;&quot;&gt;Wikidata: &lt;a target=&#x27;_blank&#x27; href=&#x27;http://www.wikidata.org/entity/Q954262&#x27;&gt;Tour Pey-Berland&lt;/div&gt;`)[0];\n",
       "                popup_32d850bf61156a8e7a9e5db822ce52ae.setContent(html_2ccb65d32e4fe5a7de6415abece67cb9);\n",
       "            \n",
       "        \n",
       "\n",
       "        marker_43658381711d9f2967537526d297a2bf.bindPopup(popup_32d850bf61156a8e7a9e5db822ce52ae)\n",
       "        ;\n",
       "\n",
       "        \n",
       "    \n",
       "    \n",
       "            var marker_356815ae7f3bf9250cec35a03bfcdb69 = L.marker(\n",
       "                [43.677638888, 4.630694444],\n",
       "                {\n",
       "}\n",
       "            ).addTo(map_9852e89f35d882c90514aa8d685cd5bf);\n",
       "        \n",
       "    \n",
       "            var icon_ce78deb68a2bbc1dad823364f467026d = L.AwesomeMarkers.icon(\n",
       "                {\n",
       "  &quot;markerColor&quot;: &quot;green&quot;,\n",
       "  &quot;iconColor&quot;: &quot;white&quot;,\n",
       "  &quot;icon&quot;: &quot;info-sign&quot;,\n",
       "  &quot;prefix&quot;: &quot;glyphicon&quot;,\n",
       "  &quot;extraClasses&quot;: &quot;fa-rotate-0&quot;,\n",
       "}\n",
       "            );\n",
       "            marker_356815ae7f3bf9250cec35a03bfcdb69.setIcon(icon_ce78deb68a2bbc1dad823364f467026d);\n",
       "        \n",
       "    \n",
       "        var popup_8347f94b8ed35c1b9326246a81081ac0 = L.popup({\n",
       "  &quot;maxWidth&quot;: &quot;100%&quot;,\n",
       "});\n",
       "\n",
       "        \n",
       "            \n",
       "                var html_f4a7d84c868c3597ebc12a2c39d22f44 = $(`&lt;div id=&quot;html_f4a7d84c868c3597ebc12a2c39d22f44&quot; style=&quot;width: 100.0%; height: 100.0%;&quot;&gt;Wikidata: &lt;a target=&#x27;_blank&#x27; href=&#x27;http://www.wikidata.org/entity/Q1279597&#x27;&gt;Arles, Roman and Romanesque Monuments&lt;/div&gt;`)[0];\n",
       "                popup_8347f94b8ed35c1b9326246a81081ac0.setContent(html_f4a7d84c868c3597ebc12a2c39d22f44);\n",
       "            \n",
       "        \n",
       "\n",
       "        marker_356815ae7f3bf9250cec35a03bfcdb69.bindPopup(popup_8347f94b8ed35c1b9326246a81081ac0)\n",
       "        ;\n",
       "\n",
       "        \n",
       "    \n",
       "    \n",
       "            var marker_10843e2472d62ab82daab1802a25b506 = L.marker(\n",
       "                [-20.411944444, 164.566388888],\n",
       "                {\n",
       "}\n",
       "            ).addTo(map_9852e89f35d882c90514aa8d685cd5bf);\n",
       "        \n",
       "    \n",
       "            var icon_57a6a4a1d491014170441624c209cf00 = L.AwesomeMarkers.icon(\n",
       "                {\n",
       "  &quot;markerColor&quot;: &quot;green&quot;,\n",
       "  &quot;iconColor&quot;: &quot;white&quot;,\n",
       "  &quot;icon&quot;: &quot;info-sign&quot;,\n",
       "  &quot;prefix&quot;: &quot;glyphicon&quot;,\n",
       "  &quot;extraClasses&quot;: &quot;fa-rotate-0&quot;,\n",
       "}\n",
       "            );\n",
       "            marker_10843e2472d62ab82daab1802a25b506.setIcon(icon_57a6a4a1d491014170441624c209cf00);\n",
       "        \n",
       "    \n",
       "        var popup_5eef105f732cccd88a28faca91b6d206 = L.popup({\n",
       "  &quot;maxWidth&quot;: &quot;100%&quot;,\n",
       "});\n",
       "\n",
       "        \n",
       "            \n",
       "                var html_8a2f8d59508babe54d22235a873dbdac = $(`&lt;div id=&quot;html_8a2f8d59508babe54d22235a873dbdac&quot; style=&quot;width: 100.0%; height: 100.0%;&quot;&gt;Wikidata: &lt;a target=&#x27;_blank&#x27; href=&#x27;http://www.wikidata.org/entity/Q1330981&#x27;&gt;New Caledonia Barrier Reef&lt;/div&gt;`)[0];\n",
       "                popup_5eef105f732cccd88a28faca91b6d206.setContent(html_8a2f8d59508babe54d22235a873dbdac);\n",
       "            \n",
       "        \n",
       "\n",
       "        marker_10843e2472d62ab82daab1802a25b506.bindPopup(popup_5eef105f732cccd88a28faca91b6d206)\n",
       "        ;\n",
       "\n",
       "        \n",
       "    \n",
       "    \n",
       "            var marker_b8e3ad9f1064636d56972d162843f37f = L.marker(\n",
       "                [50.607772, 2.851058],\n",
       "                {\n",
       "}\n",
       "            ).addTo(map_9852e89f35d882c90514aa8d685cd5bf);\n",
       "        \n",
       "    \n",
       "            var icon_bee99c67d17bbbbf4fb5f70190b6c4c8 = L.AwesomeMarkers.icon(\n",
       "                {\n",
       "  &quot;markerColor&quot;: &quot;green&quot;,\n",
       "  &quot;iconColor&quot;: &quot;white&quot;,\n",
       "  &quot;icon&quot;: &quot;info-sign&quot;,\n",
       "  &quot;prefix&quot;: &quot;glyphicon&quot;,\n",
       "  &quot;extraClasses&quot;: &quot;fa-rotate-0&quot;,\n",
       "}\n",
       "            );\n",
       "            marker_b8e3ad9f1064636d56972d162843f37f.setIcon(icon_bee99c67d17bbbbf4fb5f70190b6c4c8);\n",
       "        \n",
       "    \n",
       "        var popup_3e34934f7c4324854dde932e9214d1fe = L.popup({\n",
       "  &quot;maxWidth&quot;: &quot;100%&quot;,\n",
       "});\n",
       "\n",
       "        \n",
       "            \n",
       "                var html_bb42b7444ce946784f92755b221aa8f0 = $(`&lt;div id=&quot;html_bb42b7444ce946784f92755b221aa8f0&quot; style=&quot;width: 100.0%; height: 100.0%;&quot;&gt;Wikidata: &lt;a target=&#x27;_blank&#x27; href=&#x27;http://www.wikidata.org/entity/Q1469828&#x27;&gt;Fromelles (Pheasant Wood) Military Cemetery&lt;/div&gt;`)[0];\n",
       "                popup_3e34934f7c4324854dde932e9214d1fe.setContent(html_bb42b7444ce946784f92755b221aa8f0);\n",
       "            \n",
       "        \n",
       "\n",
       "        marker_b8e3ad9f1064636d56972d162843f37f.bindPopup(popup_3e34934f7c4324854dde932e9214d1fe)\n",
       "        ;\n",
       "\n",
       "        \n",
       "    \n",
       "    \n",
       "            var marker_d25c840a8ff792d35f155be359612754 = L.marker(\n",
       "                [46.56477, 0.86597],\n",
       "                {\n",
       "}\n",
       "            ).addTo(map_9852e89f35d882c90514aa8d685cd5bf);\n",
       "        \n",
       "    \n",
       "            var icon_90cf3f38ce5d92edf2d1655129a12a7e = L.AwesomeMarkers.icon(\n",
       "                {\n",
       "  &quot;markerColor&quot;: &quot;green&quot;,\n",
       "  &quot;iconColor&quot;: &quot;white&quot;,\n",
       "  &quot;icon&quot;: &quot;info-sign&quot;,\n",
       "  &quot;prefix&quot;: &quot;glyphicon&quot;,\n",
       "  &quot;extraClasses&quot;: &quot;fa-rotate-0&quot;,\n",
       "}\n",
       "            );\n",
       "            marker_d25c840a8ff792d35f155be359612754.setIcon(icon_90cf3f38ce5d92edf2d1655129a12a7e);\n",
       "        \n",
       "    \n",
       "        var popup_bf64c5828711648b8fc4c188e28277f2 = L.popup({\n",
       "  &quot;maxWidth&quot;: &quot;100%&quot;,\n",
       "});\n",
       "\n",
       "        \n",
       "            \n",
       "                var html_1c929781becc9670ebffceba8d03bc08 = $(`&lt;div id=&quot;html_1c929781becc9670ebffceba8d03bc08&quot; style=&quot;width: 100.0%; height: 100.0%;&quot;&gt;Wikidata: &lt;a target=&#x27;_blank&#x27; href=&#x27;http://www.wikidata.org/entity/Q1774129&#x27;&gt;Abbey Church of Saint-Savin-sur-Gartempe&lt;/div&gt;`)[0];\n",
       "                popup_bf64c5828711648b8fc4c188e28277f2.setContent(html_1c929781becc9670ebffceba8d03bc08);\n",
       "            \n",
       "        \n",
       "\n",
       "        marker_d25c840a8ff792d35f155be359612754.bindPopup(popup_bf64c5828711648b8fc4c188e28277f2)\n",
       "        ;\n",
       "\n",
       "        \n",
       "    \n",
       "    \n",
       "            var marker_cecf5d301156f18d55c94ac1bfcdda4e = L.marker(\n",
       "                [50.179304, 3.262198],\n",
       "                {\n",
       "}\n",
       "            ).addTo(map_9852e89f35d882c90514aa8d685cd5bf);\n",
       "        \n",
       "    \n",
       "            var icon_aa9289d01392f2529b74b7395c3600a1 = L.AwesomeMarkers.icon(\n",
       "                {\n",
       "  &quot;markerColor&quot;: &quot;green&quot;,\n",
       "  &quot;iconColor&quot;: &quot;white&quot;,\n",
       "  &quot;icon&quot;: &quot;info-sign&quot;,\n",
       "  &quot;prefix&quot;: &quot;glyphicon&quot;,\n",
       "  &quot;extraClasses&quot;: &quot;fa-rotate-0&quot;,\n",
       "}\n",
       "            );\n",
       "            marker_cecf5d301156f18d55c94ac1bfcdda4e.setIcon(icon_aa9289d01392f2529b74b7395c3600a1);\n",
       "        \n",
       "    \n",
       "        var popup_f63aeae117420354481ac15c4242cbe7 = L.popup({\n",
       "  &quot;maxWidth&quot;: &quot;100%&quot;,\n",
       "});\n",
       "\n",
       "        \n",
       "            \n",
       "                var html_b4b0e4917f773696c6e274522cbd2332 = $(`&lt;div id=&quot;html_b4b0e4917f773696c6e274522cbd2332&quot; style=&quot;width: 100.0%; height: 100.0%;&quot;&gt;Wikidata: &lt;a target=&#x27;_blank&#x27; href=&#x27;http://www.wikidata.org/entity/Q2289403&#x27;&gt;Cambrai East Military Cemetery&lt;/div&gt;`)[0];\n",
       "                popup_f63aeae117420354481ac15c4242cbe7.setContent(html_b4b0e4917f773696c6e274522cbd2332);\n",
       "            \n",
       "        \n",
       "\n",
       "        marker_cecf5d301156f18d55c94ac1bfcdda4e.bindPopup(popup_f63aeae117420354481ac15c4242cbe7)\n",
       "        ;\n",
       "\n",
       "        \n",
       "    \n",
       "    \n",
       "            var marker_85e616c58898e6277013afa7aa028d99 = L.marker(\n",
       "                [50.291804, 4.018529],\n",
       "                {\n",
       "}\n",
       "            ).addTo(map_9852e89f35d882c90514aa8d685cd5bf);\n",
       "        \n",
       "    \n",
       "            var icon_ca26e2c4c6c16cc5cdb2b4e7d9ed9002 = L.AwesomeMarkers.icon(\n",
       "                {\n",
       "  &quot;markerColor&quot;: &quot;green&quot;,\n",
       "  &quot;iconColor&quot;: &quot;white&quot;,\n",
       "  &quot;icon&quot;: &quot;info-sign&quot;,\n",
       "  &quot;prefix&quot;: &quot;glyphicon&quot;,\n",
       "  &quot;extraClasses&quot;: &quot;fa-rotate-0&quot;,\n",
       "}\n",
       "            );\n",
       "            marker_85e616c58898e6277013afa7aa028d99.setIcon(icon_ca26e2c4c6c16cc5cdb2b4e7d9ed9002);\n",
       "        \n",
       "    \n",
       "        var popup_6a6dafcc663e2423c668b46bd1f8eec4 = L.popup({\n",
       "  &quot;maxWidth&quot;: &quot;100%&quot;,\n",
       "});\n",
       "\n",
       "        \n",
       "            \n",
       "                var html_3166b1ab65991dd0dd86856254d339d1 = $(`&lt;div id=&quot;html_3166b1ab65991dd0dd86856254d339d1&quot; style=&quot;width: 100.0%; height: 100.0%;&quot;&gt;Wikidata: &lt;a target=&#x27;_blank&#x27; href=&#x27;http://www.wikidata.org/entity/Q2292418&#x27;&gt;Assevent French-German War Cemetery&lt;/div&gt;`)[0];\n",
       "                popup_6a6dafcc663e2423c668b46bd1f8eec4.setContent(html_3166b1ab65991dd0dd86856254d339d1);\n",
       "            \n",
       "        \n",
       "\n",
       "        marker_85e616c58898e6277013afa7aa028d99.bindPopup(popup_6a6dafcc663e2423c668b46bd1f8eec4)\n",
       "        ;\n",
       "\n",
       "        \n",
       "    \n",
       "    \n",
       "            var marker_2c33df0944f5ac83bd0c91f5dba8191a = L.marker(\n",
       "                [50.37583, 2.76472],\n",
       "                {\n",
       "}\n",
       "            ).addTo(map_9852e89f35d882c90514aa8d685cd5bf);\n",
       "        \n",
       "    \n",
       "            var icon_d7e1c65fd24aeea49a67559acc6c2999 = L.AwesomeMarkers.icon(\n",
       "                {\n",
       "  &quot;markerColor&quot;: &quot;green&quot;,\n",
       "  &quot;iconColor&quot;: &quot;white&quot;,\n",
       "  &quot;icon&quot;: &quot;info-sign&quot;,\n",
       "  &quot;prefix&quot;: &quot;glyphicon&quot;,\n",
       "  &quot;extraClasses&quot;: &quot;fa-rotate-0&quot;,\n",
       "}\n",
       "            );\n",
       "            marker_2c33df0944f5ac83bd0c91f5dba8191a.setIcon(icon_d7e1c65fd24aeea49a67559acc6c2999);\n",
       "        \n",
       "    \n",
       "        var popup_f43efe09d660fbadfe27136d3b5516ed = L.popup({\n",
       "  &quot;maxWidth&quot;: &quot;100%&quot;,\n",
       "});\n",
       "\n",
       "        \n",
       "            \n",
       "                var html_62942b8d137776da3ec71e0d44aaf92e = $(`&lt;div id=&quot;html_62942b8d137776da3ec71e0d44aaf92e&quot; style=&quot;width: 100.0%; height: 100.0%;&quot;&gt;Wikidata: &lt;a target=&#x27;_blank&#x27; href=&#x27;http://www.wikidata.org/entity/Q2331354&#x27;&gt;Givenchy Road Canadian Cemetery&lt;/div&gt;`)[0];\n",
       "                popup_f43efe09d660fbadfe27136d3b5516ed.setContent(html_62942b8d137776da3ec71e0d44aaf92e);\n",
       "            \n",
       "        \n",
       "\n",
       "        marker_2c33df0944f5ac83bd0c91f5dba8191a.bindPopup(popup_f43efe09d660fbadfe27136d3b5516ed)\n",
       "        ;\n",
       "\n",
       "        \n",
       "    \n",
       "    \n",
       "            var marker_25b3c5ecc526b9d490891b4a50b0a539 = L.marker(\n",
       "                [48.808056, 2.108333],\n",
       "                {\n",
       "}\n",
       "            ).addTo(map_9852e89f35d882c90514aa8d685cd5bf);\n",
       "        \n",
       "    \n",
       "            var icon_59c94b3a05b73072fe2d1fa0df0f65ce = L.AwesomeMarkers.icon(\n",
       "                {\n",
       "  &quot;markerColor&quot;: &quot;green&quot;,\n",
       "  &quot;iconColor&quot;: &quot;white&quot;,\n",
       "  &quot;icon&quot;: &quot;info-sign&quot;,\n",
       "  &quot;prefix&quot;: &quot;glyphicon&quot;,\n",
       "  &quot;extraClasses&quot;: &quot;fa-rotate-0&quot;,\n",
       "}\n",
       "            );\n",
       "            marker_25b3c5ecc526b9d490891b4a50b0a539.setIcon(icon_59c94b3a05b73072fe2d1fa0df0f65ce);\n",
       "        \n",
       "    \n",
       "        var popup_efb542ff60a269ac1894af6c05bebbd7 = L.popup({\n",
       "  &quot;maxWidth&quot;: &quot;100%&quot;,\n",
       "});\n",
       "\n",
       "        \n",
       "            \n",
       "                var html_a04c38a64558c8506e9fd65bf6b0b708 = $(`&lt;div id=&quot;html_a04c38a64558c8506e9fd65bf6b0b708&quot; style=&quot;width: 100.0%; height: 100.0%;&quot;&gt;Wikidata: &lt;a target=&#x27;_blank&#x27; href=&#x27;http://www.wikidata.org/entity/Q2340684&#x27;&gt;Park of Versailles&lt;/div&gt;`)[0];\n",
       "                popup_efb542ff60a269ac1894af6c05bebbd7.setContent(html_a04c38a64558c8506e9fd65bf6b0b708);\n",
       "            \n",
       "        \n",
       "\n",
       "        marker_25b3c5ecc526b9d490891b4a50b0a539.bindPopup(popup_efb542ff60a269ac1894af6c05bebbd7)\n",
       "        ;\n",
       "\n",
       "        \n",
       "    \n",
       "    \n",
       "            var marker_3efc491dc542ecc335b771770588e193 = L.marker(\n",
       "                [50.2867, 2.76057],\n",
       "                {\n",
       "}\n",
       "            ).addTo(map_9852e89f35d882c90514aa8d685cd5bf);\n",
       "        \n",
       "    \n",
       "            var icon_561045cf302ca242587477e7fc22eed8 = L.AwesomeMarkers.icon(\n",
       "                {\n",
       "  &quot;markerColor&quot;: &quot;green&quot;,\n",
       "  &quot;iconColor&quot;: &quot;white&quot;,\n",
       "  &quot;icon&quot;: &quot;info-sign&quot;,\n",
       "  &quot;prefix&quot;: &quot;glyphicon&quot;,\n",
       "  &quot;extraClasses&quot;: &quot;fa-rotate-0&quot;,\n",
       "}\n",
       "            );\n",
       "            marker_3efc491dc542ecc335b771770588e193.setIcon(icon_561045cf302ca242587477e7fc22eed8);\n",
       "        \n",
       "    \n",
       "        var popup_007e47cb064c9b92499d919b2dce60af = L.popup({\n",
       "  &quot;maxWidth&quot;: &quot;100%&quot;,\n",
       "});\n",
       "\n",
       "        \n",
       "            \n",
       "                var html_e85e77fda7c40744f0a52abe8de1cffa = $(`&lt;div id=&quot;html_e85e77fda7c40744f0a52abe8de1cffa&quot; style=&quot;width: 100.0%; height: 100.0%;&quot;&gt;Wikidata: &lt;a target=&#x27;_blank&#x27; href=&#x27;http://www.wikidata.org/entity/Q2353463&#x27;&gt;Faubourg d&#x27;Amiens Cemetery&lt;/div&gt;`)[0];\n",
       "                popup_007e47cb064c9b92499d919b2dce60af.setContent(html_e85e77fda7c40744f0a52abe8de1cffa);\n",
       "            \n",
       "        \n",
       "\n",
       "        marker_3efc491dc542ecc335b771770588e193.bindPopup(popup_007e47cb064c9b92499d919b2dce60af)\n",
       "        ;\n",
       "\n",
       "        \n",
       "    \n",
       "    \n",
       "            var marker_239acf6c4fc850f8b0e6df9935c283cc = L.marker(\n",
       "                [50.024482, 2.812678],\n",
       "                {\n",
       "}\n",
       "            ).addTo(map_9852e89f35d882c90514aa8d685cd5bf);\n",
       "        \n",
       "    \n",
       "            var icon_aed75708f65697b73b4df54ffb7c2d84 = L.AwesomeMarkers.icon(\n",
       "                {\n",
       "  &quot;markerColor&quot;: &quot;green&quot;,\n",
       "  &quot;iconColor&quot;: &quot;white&quot;,\n",
       "  &quot;icon&quot;: &quot;info-sign&quot;,\n",
       "  &quot;prefix&quot;: &quot;glyphicon&quot;,\n",
       "  &quot;extraClasses&quot;: &quot;fa-rotate-0&quot;,\n",
       "}\n",
       "            );\n",
       "            marker_239acf6c4fc850f8b0e6df9935c283cc.setIcon(icon_aed75708f65697b73b4df54ffb7c2d84);\n",
       "        \n",
       "    \n",
       "        var popup_9d6d37001154da23508b42e550a6c19c = L.popup({\n",
       "  &quot;maxWidth&quot;: &quot;100%&quot;,\n",
       "});\n",
       "\n",
       "        \n",
       "            \n",
       "                var html_8d3f29555427d0223e0f7e5372869e37 = $(`&lt;div id=&quot;html_8d3f29555427d0223e0f7e5372869e37&quot; style=&quot;width: 100.0%; height: 100.0%;&quot;&gt;Wikidata: &lt;a target=&#x27;_blank&#x27; href=&#x27;http://www.wikidata.org/entity/Q2374137&#x27;&gt;Delville Wood South African National Memorial&lt;/div&gt;`)[0];\n",
       "                popup_9d6d37001154da23508b42e550a6c19c.setContent(html_8d3f29555427d0223e0f7e5372869e37);\n",
       "            \n",
       "        \n",
       "\n",
       "        marker_239acf6c4fc850f8b0e6df9935c283cc.bindPopup(popup_9d6d37001154da23508b42e550a6c19c)\n",
       "        ;\n",
       "\n",
       "        \n",
       "    \n",
       "    \n",
       "            var marker_9706ca7e8aa2b7ba2cb62812186beabc = L.marker(\n",
       "                [50.460853, 2.77177],\n",
       "                {\n",
       "}\n",
       "            ).addTo(map_9852e89f35d882c90514aa8d685cd5bf);\n",
       "        \n",
       "    \n",
       "            var icon_78003f5a5e94abe87e67df4fe8b56c47 = L.AwesomeMarkers.icon(\n",
       "                {\n",
       "  &quot;markerColor&quot;: &quot;green&quot;,\n",
       "  &quot;iconColor&quot;: &quot;white&quot;,\n",
       "  &quot;icon&quot;: &quot;info-sign&quot;,\n",
       "  &quot;prefix&quot;: &quot;glyphicon&quot;,\n",
       "  &quot;extraClasses&quot;: &quot;fa-rotate-0&quot;,\n",
       "}\n",
       "            );\n",
       "            marker_9706ca7e8aa2b7ba2cb62812186beabc.setIcon(icon_78003f5a5e94abe87e67df4fe8b56c47);\n",
       "        \n",
       "    \n",
       "        var popup_d7350ac56ccdb9640657ec9a611421fd = L.popup({\n",
       "  &quot;maxWidth&quot;: &quot;100%&quot;,\n",
       "});\n",
       "\n",
       "        \n",
       "            \n",
       "                var html_30995ace6897ef59b882bf95b08604e6 = $(`&lt;div id=&quot;html_30995ace6897ef59b882bf95b08604e6&quot; style=&quot;width: 100.0%; height: 100.0%;&quot;&gt;Wikidata: &lt;a target=&#x27;_blank&#x27; href=&#x27;http://www.wikidata.org/entity/Q2478266&#x27;&gt;Loos Memorial&lt;/div&gt;`)[0];\n",
       "                popup_d7350ac56ccdb9640657ec9a611421fd.setContent(html_30995ace6897ef59b882bf95b08604e6);\n",
       "            \n",
       "        \n",
       "\n",
       "        marker_9706ca7e8aa2b7ba2cb62812186beabc.bindPopup(popup_d7350ac56ccdb9640657ec9a611421fd)\n",
       "        ;\n",
       "\n",
       "        \n",
       "    \n",
       "    \n",
       "            var marker_e99478bd90ba36b24d7eb08af1c1c30e = L.marker(\n",
       "                [50.350612, 2.74881],\n",
       "                {\n",
       "}\n",
       "            ).addTo(map_9852e89f35d882c90514aa8d685cd5bf);\n",
       "        \n",
       "    \n",
       "            var icon_e6a0119965ffa4b48064f87a04ba8c32 = L.AwesomeMarkers.icon(\n",
       "                {\n",
       "  &quot;markerColor&quot;: &quot;green&quot;,\n",
       "  &quot;iconColor&quot;: &quot;white&quot;,\n",
       "  &quot;icon&quot;: &quot;info-sign&quot;,\n",
       "  &quot;prefix&quot;: &quot;glyphicon&quot;,\n",
       "  &quot;extraClasses&quot;: &quot;fa-rotate-0&quot;,\n",
       "}\n",
       "            );\n",
       "            marker_e99478bd90ba36b24d7eb08af1c1c30e.setIcon(icon_e6a0119965ffa4b48064f87a04ba8c32);\n",
       "        \n",
       "    \n",
       "        var popup_77e8299b274793547fcc727b7c326af5 = L.popup({\n",
       "  &quot;maxWidth&quot;: &quot;100%&quot;,\n",
       "});\n",
       "\n",
       "        \n",
       "            \n",
       "                var html_e101f29b5d628cc77ca2bf7202b72265 = $(`&lt;div id=&quot;html_e101f29b5d628cc77ca2bf7202b72265&quot; style=&quot;width: 100.0%; height: 100.0%;&quot;&gt;Wikidata: &lt;a target=&#x27;_blank&#x27; href=&#x27;http://www.wikidata.org/entity/Q2482169&#x27;&gt;La Targette British Cemetery&lt;/div&gt;`)[0];\n",
       "                popup_77e8299b274793547fcc727b7c326af5.setContent(html_e101f29b5d628cc77ca2bf7202b72265);\n",
       "            \n",
       "        \n",
       "\n",
       "        marker_e99478bd90ba36b24d7eb08af1c1c30e.bindPopup(popup_77e8299b274793547fcc727b7c326af5)\n",
       "        ;\n",
       "\n",
       "        \n",
       "    \n",
       "    \n",
       "            var marker_45b65468dc61bbdeed71eeb396ce0f7a = L.marker(\n",
       "                [50.089299, 2.50374],\n",
       "                {\n",
       "}\n",
       "            ).addTo(map_9852e89f35d882c90514aa8d685cd5bf);\n",
       "        \n",
       "    \n",
       "            var icon_c6195c0f859f2106a128171397fd043e = L.AwesomeMarkers.icon(\n",
       "                {\n",
       "  &quot;markerColor&quot;: &quot;green&quot;,\n",
       "  &quot;iconColor&quot;: &quot;white&quot;,\n",
       "  &quot;icon&quot;: &quot;info-sign&quot;,\n",
       "  &quot;prefix&quot;: &quot;glyphicon&quot;,\n",
       "  &quot;extraClasses&quot;: &quot;fa-rotate-0&quot;,\n",
       "}\n",
       "            );\n",
       "            marker_45b65468dc61bbdeed71eeb396ce0f7a.setIcon(icon_c6195c0f859f2106a128171397fd043e);\n",
       "        \n",
       "    \n",
       "        var popup_2e3b317f51528befb767f5ac537d6f2e = L.popup({\n",
       "  &quot;maxWidth&quot;: &quot;100%&quot;,\n",
       "});\n",
       "\n",
       "        \n",
       "            \n",
       "                var html_7afb1fc611c815931f2e30681dea8983 = $(`&lt;div id=&quot;html_7afb1fc611c815931f2e30681dea8983&quot; style=&quot;width: 100.0%; height: 100.0%;&quot;&gt;Wikidata: &lt;a target=&#x27;_blank&#x27; href=&#x27;http://www.wikidata.org/entity/Q2518785&#x27;&gt;Louvencourt Military Cemetery&lt;/div&gt;`)[0];\n",
       "                popup_2e3b317f51528befb767f5ac537d6f2e.setContent(html_7afb1fc611c815931f2e30681dea8983);\n",
       "            \n",
       "        \n",
       "\n",
       "        marker_45b65468dc61bbdeed71eeb396ce0f7a.bindPopup(popup_2e3b317f51528befb767f5ac537d6f2e)\n",
       "        ;\n",
       "\n",
       "        \n",
       "    \n",
       "    \n",
       "            var marker_cc4b135400ac925203c34c47e549febd = L.marker(\n",
       "                [49.887008, 2.51291],\n",
       "                {\n",
       "}\n",
       "            ).addTo(map_9852e89f35d882c90514aa8d685cd5bf);\n",
       "        \n",
       "    \n",
       "            var icon_c1d64eb85362a7e72c4ae1ed73017c09 = L.AwesomeMarkers.icon(\n",
       "                {\n",
       "  &quot;markerColor&quot;: &quot;green&quot;,\n",
       "  &quot;iconColor&quot;: &quot;white&quot;,\n",
       "  &quot;icon&quot;: &quot;info-sign&quot;,\n",
       "  &quot;prefix&quot;: &quot;glyphicon&quot;,\n",
       "  &quot;extraClasses&quot;: &quot;fa-rotate-0&quot;,\n",
       "}\n",
       "            );\n",
       "            marker_cc4b135400ac925203c34c47e549febd.setIcon(icon_c1d64eb85362a7e72c4ae1ed73017c09);\n",
       "        \n",
       "    \n",
       "        var popup_85bec9f0c960831cad1f7df184f4254a = L.popup({\n",
       "  &quot;maxWidth&quot;: &quot;100%&quot;,\n",
       "});\n",
       "\n",
       "        \n",
       "            \n",
       "                var html_b4a1495316a60d890088de4249fdd79b = $(`&lt;div id=&quot;html_b4a1495316a60d890088de4249fdd79b&quot; style=&quot;width: 100.0%; height: 100.0%;&quot;&gt;Wikidata: &lt;a target=&#x27;_blank&#x27; href=&#x27;http://www.wikidata.org/entity/Q2544355&#x27;&gt;Villers–Bretonneux Australian National Memorial&lt;/div&gt;`)[0];\n",
       "                popup_85bec9f0c960831cad1f7df184f4254a.setContent(html_b4a1495316a60d890088de4249fdd79b);\n",
       "            \n",
       "        \n",
       "\n",
       "        marker_cc4b135400ac925203c34c47e549febd.bindPopup(popup_85bec9f0c960831cad1f7df184f4254a)\n",
       "        ;\n",
       "\n",
       "        \n",
       "    \n",
       "    \n",
       "            var marker_5f750ff23a492e443181a5f04fe2a9c0 = L.marker(\n",
       "                [50.379444444, 2.773611111],\n",
       "                {\n",
       "}\n",
       "            ).addTo(map_9852e89f35d882c90514aa8d685cd5bf);\n",
       "        \n",
       "    \n",
       "            var icon_d7deabb5edcb15260310eb47b1f0f4df = L.AwesomeMarkers.icon(\n",
       "                {\n",
       "  &quot;markerColor&quot;: &quot;green&quot;,\n",
       "  &quot;iconColor&quot;: &quot;white&quot;,\n",
       "  &quot;icon&quot;: &quot;info-sign&quot;,\n",
       "  &quot;prefix&quot;: &quot;glyphicon&quot;,\n",
       "  &quot;extraClasses&quot;: &quot;fa-rotate-0&quot;,\n",
       "}\n",
       "            );\n",
       "            marker_5f750ff23a492e443181a5f04fe2a9c0.setIcon(icon_d7deabb5edcb15260310eb47b1f0f4df);\n",
       "        \n",
       "    \n",
       "        var popup_49f6e8e98ff16288d2e5412b759d1912 = L.popup({\n",
       "  &quot;maxWidth&quot;: &quot;100%&quot;,\n",
       "});\n",
       "\n",
       "        \n",
       "            \n",
       "                var html_7133a5bcd9ed91a08a9fd1677364274e = $(`&lt;div id=&quot;html_7133a5bcd9ed91a08a9fd1677364274e&quot; style=&quot;width: 100.0%; height: 100.0%;&quot;&gt;Wikidata: &lt;a target=&#x27;_blank&#x27; href=&#x27;http://www.wikidata.org/entity/Q2561040&#x27;&gt;Canadian National Vimy Memorial&lt;/div&gt;`)[0];\n",
       "                popup_49f6e8e98ff16288d2e5412b759d1912.setContent(html_7133a5bcd9ed91a08a9fd1677364274e);\n",
       "            \n",
       "        \n",
       "\n",
       "        marker_5f750ff23a492e443181a5f04fe2a9c0.bindPopup(popup_49f6e8e98ff16288d2e5412b759d1912)\n",
       "        ;\n",
       "\n",
       "        \n",
       "    \n",
       "    \n",
       "            var marker_f0fcdb8e07a8bd5ab7abb4b1722ef488 = L.marker(\n",
       "                [50.186076, 1.722666],\n",
       "                {\n",
       "}\n",
       "            ).addTo(map_9852e89f35d882c90514aa8d685cd5bf);\n",
       "        \n",
       "    \n",
       "            var icon_aa662b56ac482f87f1bf8a0c8de31041 = L.AwesomeMarkers.icon(\n",
       "                {\n",
       "  &quot;markerColor&quot;: &quot;green&quot;,\n",
       "  &quot;iconColor&quot;: &quot;white&quot;,\n",
       "  &quot;icon&quot;: &quot;info-sign&quot;,\n",
       "  &quot;prefix&quot;: &quot;glyphicon&quot;,\n",
       "  &quot;extraClasses&quot;: &quot;fa-rotate-0&quot;,\n",
       "}\n",
       "            );\n",
       "            marker_f0fcdb8e07a8bd5ab7abb4b1722ef488.setIcon(icon_aa662b56ac482f87f1bf8a0c8de31041);\n",
       "        \n",
       "    \n",
       "        var popup_dc7abe87881093d31d44cdeca094c62e = L.popup({\n",
       "  &quot;maxWidth&quot;: &quot;100%&quot;,\n",
       "});\n",
       "\n",
       "        \n",
       "            \n",
       "                var html_88004a1e2de1bfcfdedbc611e0e74aa7 = $(`&lt;div id=&quot;html_88004a1e2de1bfcfdedbc611e0e74aa7&quot; style=&quot;width: 100.0%; height: 100.0%;&quot;&gt;Wikidata: &lt;a target=&#x27;_blank&#x27; href=&#x27;http://www.wikidata.org/entity/Q2566225&#x27;&gt;Noyelles-sur-Mer Chinese Memorial&lt;/div&gt;`)[0];\n",
       "                popup_dc7abe87881093d31d44cdeca094c62e.setContent(html_88004a1e2de1bfcfdedbc611e0e74aa7);\n",
       "            \n",
       "        \n",
       "\n",
       "        marker_f0fcdb8e07a8bd5ab7abb4b1722ef488.bindPopup(popup_dc7abe87881093d31d44cdeca094c62e)\n",
       "        ;\n",
       "\n",
       "        \n",
       "    \n",
       "    \n",
       "            var marker_63bddbb6855774ace60dd54fd5f9133a = L.marker(\n",
       "                [50.0239, 2.81277],\n",
       "                {\n",
       "}\n",
       "            ).addTo(map_9852e89f35d882c90514aa8d685cd5bf);\n",
       "        \n",
       "    \n",
       "            var icon_f7c92bcd7a93d12830b1941f47686f58 = L.AwesomeMarkers.icon(\n",
       "                {\n",
       "  &quot;markerColor&quot;: &quot;green&quot;,\n",
       "  &quot;iconColor&quot;: &quot;white&quot;,\n",
       "  &quot;icon&quot;: &quot;info-sign&quot;,\n",
       "  &quot;prefix&quot;: &quot;glyphicon&quot;,\n",
       "  &quot;extraClasses&quot;: &quot;fa-rotate-0&quot;,\n",
       "}\n",
       "            );\n",
       "            marker_63bddbb6855774ace60dd54fd5f9133a.setIcon(icon_f7c92bcd7a93d12830b1941f47686f58);\n",
       "        \n",
       "    \n",
       "        var popup_bbe963ee32b1cfea16a1ac16a4fdbab5 = L.popup({\n",
       "  &quot;maxWidth&quot;: &quot;100%&quot;,\n",
       "});\n",
       "\n",
       "        \n",
       "            \n",
       "                var html_a1ad0d190edd72f6e0dc8750a6433bb5 = $(`&lt;div id=&quot;html_a1ad0d190edd72f6e0dc8750a6433bb5&quot; style=&quot;width: 100.0%; height: 100.0%;&quot;&gt;Wikidata: &lt;a target=&#x27;_blank&#x27; href=&#x27;http://www.wikidata.org/entity/Q2618490&#x27;&gt;Delville Wood Cemetery&lt;/div&gt;`)[0];\n",
       "                popup_bbe963ee32b1cfea16a1ac16a4fdbab5.setContent(html_a1ad0d190edd72f6e0dc8750a6433bb5);\n",
       "            \n",
       "        \n",
       "\n",
       "        marker_63bddbb6855774ace60dd54fd5f9133a.bindPopup(popup_bbe963ee32b1cfea16a1ac16a4fdbab5)\n",
       "        ;\n",
       "\n",
       "        \n",
       "    \n",
       "    \n",
       "            var marker_c045fd205c6f1d20726512cf4df41c0e = L.marker(\n",
       "                [49.99815, 2.90985],\n",
       "                {\n",
       "}\n",
       "            ).addTo(map_9852e89f35d882c90514aa8d685cd5bf);\n",
       "        \n",
       "    \n",
       "            var icon_b16fb7fa213564cb6c8e339d486590ec = L.AwesomeMarkers.icon(\n",
       "                {\n",
       "  &quot;markerColor&quot;: &quot;green&quot;,\n",
       "  &quot;iconColor&quot;: &quot;white&quot;,\n",
       "  &quot;icon&quot;: &quot;info-sign&quot;,\n",
       "  &quot;prefix&quot;: &quot;glyphicon&quot;,\n",
       "  &quot;extraClasses&quot;: &quot;fa-rotate-0&quot;,\n",
       "}\n",
       "            );\n",
       "            marker_c045fd205c6f1d20726512cf4df41c0e.setIcon(icon_b16fb7fa213564cb6c8e339d486590ec);\n",
       "        \n",
       "    \n",
       "        var popup_30630bd37b49ebf3f8ff2d1a0d487147 = L.popup({\n",
       "  &quot;maxWidth&quot;: &quot;100%&quot;,\n",
       "});\n",
       "\n",
       "        \n",
       "            \n",
       "                var html_27c1e42b04ee60041f94af24f2d10ad9 = $(`&lt;div id=&quot;html_27c1e42b04ee60041f94af24f2d10ad9&quot; style=&quot;width: 100.0%; height: 100.0%;&quot;&gt;Wikidata: &lt;a target=&#x27;_blank&#x27; href=&#x27;http://www.wikidata.org/entity/Q2658699&#x27;&gt;Rancourt Military Cemetery&lt;/div&gt;`)[0];\n",
       "                popup_30630bd37b49ebf3f8ff2d1a0d487147.setContent(html_27c1e42b04ee60041f94af24f2d10ad9);\n",
       "            \n",
       "        \n",
       "\n",
       "        marker_c045fd205c6f1d20726512cf4df41c0e.bindPopup(popup_30630bd37b49ebf3f8ff2d1a0d487147)\n",
       "        ;\n",
       "\n",
       "        \n",
       "    \n",
       "    \n",
       "            var marker_96dae574ec17ae2bde2b91dbd6a30c02 = L.marker(\n",
       "                [50.286989, 2.760418],\n",
       "                {\n",
       "}\n",
       "            ).addTo(map_9852e89f35d882c90514aa8d685cd5bf);\n",
       "        \n",
       "    \n",
       "            var icon_513fb5d9f726ead8696eb35279e458fe = L.AwesomeMarkers.icon(\n",
       "                {\n",
       "  &quot;markerColor&quot;: &quot;green&quot;,\n",
       "  &quot;iconColor&quot;: &quot;white&quot;,\n",
       "  &quot;icon&quot;: &quot;info-sign&quot;,\n",
       "  &quot;prefix&quot;: &quot;glyphicon&quot;,\n",
       "  &quot;extraClasses&quot;: &quot;fa-rotate-0&quot;,\n",
       "}\n",
       "            );\n",
       "            marker_96dae574ec17ae2bde2b91dbd6a30c02.setIcon(icon_513fb5d9f726ead8696eb35279e458fe);\n",
       "        \n",
       "    \n",
       "        var popup_ebb6a9af8b2a260b85a0b2b86a07b246 = L.popup({\n",
       "  &quot;maxWidth&quot;: &quot;100%&quot;,\n",
       "});\n",
       "\n",
       "        \n",
       "            \n",
       "                var html_03192aa5bd6046959d727b462fda8d77 = $(`&lt;div id=&quot;html_03192aa5bd6046959d727b462fda8d77&quot; style=&quot;width: 100.0%; height: 100.0%;&quot;&gt;Wikidata: &lt;a target=&#x27;_blank&#x27; href=&#x27;http://www.wikidata.org/entity/Q2674251&#x27;&gt;Arras Flying Services Memorial&lt;/div&gt;`)[0];\n",
       "                popup_ebb6a9af8b2a260b85a0b2b86a07b246.setContent(html_03192aa5bd6046959d727b462fda8d77);\n",
       "            \n",
       "        \n",
       "\n",
       "        marker_96dae574ec17ae2bde2b91dbd6a30c02.bindPopup(popup_ebb6a9af8b2a260b85a0b2b86a07b246)\n",
       "        ;\n",
       "\n",
       "        \n",
       "    \n",
       "    \n",
       "            var marker_58edc8d416c7187d555f908c0711e6fb = L.marker(\n",
       "                [43.9283, 2.1425],\n",
       "                {\n",
       "}\n",
       "            ).addTo(map_9852e89f35d882c90514aa8d685cd5bf);\n",
       "        \n",
       "    \n",
       "            var icon_ec7bdc565cc98854c84112c76ffe0275 = L.AwesomeMarkers.icon(\n",
       "                {\n",
       "  &quot;markerColor&quot;: &quot;green&quot;,\n",
       "  &quot;iconColor&quot;: &quot;white&quot;,\n",
       "  &quot;icon&quot;: &quot;info-sign&quot;,\n",
       "  &quot;prefix&quot;: &quot;glyphicon&quot;,\n",
       "  &quot;extraClasses&quot;: &quot;fa-rotate-0&quot;,\n",
       "}\n",
       "            );\n",
       "            marker_58edc8d416c7187d555f908c0711e6fb.setIcon(icon_ec7bdc565cc98854c84112c76ffe0275);\n",
       "        \n",
       "    \n",
       "        var popup_47340d9008c1c6d6c08f86d636980871 = L.popup({\n",
       "  &quot;maxWidth&quot;: &quot;100%&quot;,\n",
       "});\n",
       "\n",
       "        \n",
       "            \n",
       "                var html_5084414bb7932995e1d57791984749e5 = $(`&lt;div id=&quot;html_5084414bb7932995e1d57791984749e5&quot; style=&quot;width: 100.0%; height: 100.0%;&quot;&gt;Wikidata: &lt;a target=&#x27;_blank&#x27; href=&#x27;http://www.wikidata.org/entity/Q1778266&#x27;&gt;Episcopal City of Albi&lt;/div&gt;`)[0];\n",
       "                popup_47340d9008c1c6d6c08f86d636980871.setContent(html_5084414bb7932995e1d57791984749e5);\n",
       "            \n",
       "        \n",
       "\n",
       "        marker_58edc8d416c7187d555f908c0711e6fb.bindPopup(popup_47340d9008c1c6d6c08f86d636980871)\n",
       "        ;\n",
       "\n",
       "        \n",
       "    \n",
       "    \n",
       "            var marker_85d953dbf24da3ee3d5e3182eb65d8c1 = L.marker(\n",
       "                [50.342222222, 2.754166666],\n",
       "                {\n",
       "}\n",
       "            ).addTo(map_9852e89f35d882c90514aa8d685cd5bf);\n",
       "        \n",
       "    \n",
       "            var icon_9110536c58720e513277df2dfee3ecb5 = L.AwesomeMarkers.icon(\n",
       "                {\n",
       "  &quot;markerColor&quot;: &quot;green&quot;,\n",
       "  &quot;iconColor&quot;: &quot;white&quot;,\n",
       "  &quot;icon&quot;: &quot;info-sign&quot;,\n",
       "  &quot;prefix&quot;: &quot;glyphicon&quot;,\n",
       "  &quot;extraClasses&quot;: &quot;fa-rotate-0&quot;,\n",
       "}\n",
       "            );\n",
       "            marker_85d953dbf24da3ee3d5e3182eb65d8c1.setIcon(icon_9110536c58720e513277df2dfee3ecb5);\n",
       "        \n",
       "    \n",
       "        var popup_265e5b50f32aa50a0ecb56f20bd37588 = L.popup({\n",
       "  &quot;maxWidth&quot;: &quot;100%&quot;,\n",
       "});\n",
       "\n",
       "        \n",
       "            \n",
       "                var html_38b20aade80f9c4c326346f3118dd64a = $(`&lt;div id=&quot;html_38b20aade80f9c4c326346f3118dd64a&quot; style=&quot;width: 100.0%; height: 100.0%;&quot;&gt;Wikidata: &lt;a target=&#x27;_blank&#x27; href=&#x27;http://www.wikidata.org/entity/Q1850310&#x27;&gt;Neuville-St Vaast German war cemetery&lt;/div&gt;`)[0];\n",
       "                popup_265e5b50f32aa50a0ecb56f20bd37588.setContent(html_38b20aade80f9c4c326346f3118dd64a);\n",
       "            \n",
       "        \n",
       "\n",
       "        marker_85d953dbf24da3ee3d5e3182eb65d8c1.bindPopup(popup_265e5b50f32aa50a0ecb56f20bd37588)\n",
       "        ;\n",
       "\n",
       "        \n",
       "    \n",
       "    \n",
       "            var marker_683c50f5eebe872ff149d31ae6cd68a4 = L.marker(\n",
       "                [50.136666666, 3.015277777],\n",
       "                {\n",
       "}\n",
       "            ).addTo(map_9852e89f35d882c90514aa8d685cd5bf);\n",
       "        \n",
       "    \n",
       "            var icon_1ef11e464837eaec6daa88c366cc358c = L.AwesomeMarkers.icon(\n",
       "                {\n",
       "  &quot;markerColor&quot;: &quot;green&quot;,\n",
       "  &quot;iconColor&quot;: &quot;white&quot;,\n",
       "  &quot;icon&quot;: &quot;info-sign&quot;,\n",
       "  &quot;prefix&quot;: &quot;glyphicon&quot;,\n",
       "  &quot;extraClasses&quot;: &quot;fa-rotate-0&quot;,\n",
       "}\n",
       "            );\n",
       "            marker_683c50f5eebe872ff149d31ae6cd68a4.setIcon(icon_1ef11e464837eaec6daa88c366cc358c);\n",
       "        \n",
       "    \n",
       "        var popup_4e32049b95698a98ad27458ef23959d8 = L.popup({\n",
       "  &quot;maxWidth&quot;: &quot;100%&quot;,\n",
       "});\n",
       "\n",
       "        \n",
       "            \n",
       "                var html_32b7d261da4ef8a053bae74563373f67 = $(`&lt;div id=&quot;html_32b7d261da4ef8a053bae74563373f67&quot; style=&quot;width: 100.0%; height: 100.0%;&quot;&gt;Wikidata: &lt;a target=&#x27;_blank&#x27; href=&#x27;http://www.wikidata.org/entity/Q1854219&#x27;&gt;Cambrai Memorial to the Missing&lt;/div&gt;`)[0];\n",
       "                popup_4e32049b95698a98ad27458ef23959d8.setContent(html_32b7d261da4ef8a053bae74563373f67);\n",
       "            \n",
       "        \n",
       "\n",
       "        marker_683c50f5eebe872ff149d31ae6cd68a4.bindPopup(popup_4e32049b95698a98ad27458ef23959d8)\n",
       "        ;\n",
       "\n",
       "        \n",
       "    \n",
       "    \n",
       "            var marker_53d26993686353caea40e39c891913dc = L.marker(\n",
       "                [50.050555555, 2.685833333],\n",
       "                {\n",
       "}\n",
       "            ).addTo(map_9852e89f35d882c90514aa8d685cd5bf);\n",
       "        \n",
       "    \n",
       "            var icon_0ce8e5488c52da689fa334cecee28020 = L.AwesomeMarkers.icon(\n",
       "                {\n",
       "  &quot;markerColor&quot;: &quot;green&quot;,\n",
       "  &quot;iconColor&quot;: &quot;white&quot;,\n",
       "  &quot;icon&quot;: &quot;info-sign&quot;,\n",
       "  &quot;prefix&quot;: &quot;glyphicon&quot;,\n",
       "  &quot;extraClasses&quot;: &quot;fa-rotate-0&quot;,\n",
       "}\n",
       "            );\n",
       "            marker_53d26993686353caea40e39c891913dc.setIcon(icon_0ce8e5488c52da689fa334cecee28020);\n",
       "        \n",
       "    \n",
       "        var popup_a83f07923a733f784b7da274136122f1 = L.popup({\n",
       "  &quot;maxWidth&quot;: &quot;100%&quot;,\n",
       "});\n",
       "\n",
       "        \n",
       "            \n",
       "                var html_0ef674ba97d2331a0706c2a16ed8a624 = $(`&lt;div id=&quot;html_0ef674ba97d2331a0706c2a16ed8a624&quot; style=&quot;width: 100.0%; height: 100.0%;&quot;&gt;Wikidata: &lt;a target=&#x27;_blank&#x27; href=&#x27;http://www.wikidata.org/entity/Q1861419&#x27;&gt;Thiepval Memorial&lt;/div&gt;`)[0];\n",
       "                popup_a83f07923a733f784b7da274136122f1.setContent(html_0ef674ba97d2331a0706c2a16ed8a624);\n",
       "            \n",
       "        \n",
       "\n",
       "        marker_53d26993686353caea40e39c891913dc.bindPopup(popup_a83f07923a733f784b7da274136122f1)\n",
       "        ;\n",
       "\n",
       "        \n",
       "    \n",
       "    \n",
       "            var marker_eced8a3a97c4f069bcfd3381bc9304c3 = L.marker(\n",
       "                [50.377291, 2.764133],\n",
       "                {\n",
       "}\n",
       "            ).addTo(map_9852e89f35d882c90514aa8d685cd5bf);\n",
       "        \n",
       "    \n",
       "            var icon_707ffc49ff8cc86fa0c387b61de1e432 = L.AwesomeMarkers.icon(\n",
       "                {\n",
       "  &quot;markerColor&quot;: &quot;green&quot;,\n",
       "  &quot;iconColor&quot;: &quot;white&quot;,\n",
       "  &quot;icon&quot;: &quot;info-sign&quot;,\n",
       "  &quot;prefix&quot;: &quot;glyphicon&quot;,\n",
       "  &quot;extraClasses&quot;: &quot;fa-rotate-0&quot;,\n",
       "}\n",
       "            );\n",
       "            marker_eced8a3a97c4f069bcfd3381bc9304c3.setIcon(icon_707ffc49ff8cc86fa0c387b61de1e432);\n",
       "        \n",
       "    \n",
       "        var popup_70219065fb526acb16424974cd1d53b6 = L.popup({\n",
       "  &quot;maxWidth&quot;: &quot;100%&quot;,\n",
       "});\n",
       "\n",
       "        \n",
       "            \n",
       "                var html_52b61d3206c5d5b21763c573344cb4cb = $(`&lt;div id=&quot;html_52b61d3206c5d5b21763c573344cb4cb&quot; style=&quot;width: 100.0%; height: 100.0%;&quot;&gt;Wikidata: &lt;a target=&#x27;_blank&#x27; href=&#x27;http://www.wikidata.org/entity/Q1874283&#x27;&gt;Canadian Cemetery No. 2&lt;/div&gt;`)[0];\n",
       "                popup_70219065fb526acb16424974cd1d53b6.setContent(html_52b61d3206c5d5b21763c573344cb4cb);\n",
       "            \n",
       "        \n",
       "\n",
       "        marker_eced8a3a97c4f069bcfd3381bc9304c3.bindPopup(popup_70219065fb526acb16424974cd1d53b6)\n",
       "        ;\n",
       "\n",
       "        \n",
       "    \n",
       "    \n",
       "            var marker_e40d4ea6c38a126accd16dfc53be8c1e = L.marker(\n",
       "                [50.255843, 3.632891],\n",
       "                {\n",
       "}\n",
       "            ).addTo(map_9852e89f35d882c90514aa8d685cd5bf);\n",
       "        \n",
       "    \n",
       "            var icon_5a8e61f10a4702514fa11c029c0b583c = L.AwesomeMarkers.icon(\n",
       "                {\n",
       "  &quot;markerColor&quot;: &quot;green&quot;,\n",
       "  &quot;iconColor&quot;: &quot;white&quot;,\n",
       "  &quot;icon&quot;: &quot;info-sign&quot;,\n",
       "  &quot;prefix&quot;: &quot;glyphicon&quot;,\n",
       "  &quot;extraClasses&quot;: &quot;fa-rotate-0&quot;,\n",
       "}\n",
       "            );\n",
       "            marker_e40d4ea6c38a126accd16dfc53be8c1e.setIcon(icon_5a8e61f10a4702514fa11c029c0b583c);\n",
       "        \n",
       "    \n",
       "        var popup_14c479860837a118b3893622047350b5 = L.popup({\n",
       "  &quot;maxWidth&quot;: &quot;100%&quot;,\n",
       "});\n",
       "\n",
       "        \n",
       "            \n",
       "                var html_0998246710cae4411710454856a536bf = $(`&lt;div id=&quot;html_0998246710cae4411710454856a536bf&quot; style=&quot;width: 100.0%; height: 100.0%;&quot;&gt;Wikidata: &lt;a target=&#x27;_blank&#x27; href=&#x27;http://www.wikidata.org/entity/Q1878989&#x27;&gt;Le Quesnoy Communal Cemetery Extension&lt;/div&gt;`)[0];\n",
       "                popup_14c479860837a118b3893622047350b5.setContent(html_0998246710cae4411710454856a536bf);\n",
       "            \n",
       "        \n",
       "\n",
       "        marker_e40d4ea6c38a126accd16dfc53be8c1e.bindPopup(popup_14c479860837a118b3893622047350b5)\n",
       "        ;\n",
       "\n",
       "        \n",
       "    \n",
       "    \n",
       "            var marker_270743e0cab55f9fc7c910af78e1d4cf = L.marker(\n",
       "                [50.61957, 2.83367],\n",
       "                {\n",
       "}\n",
       "            ).addTo(map_9852e89f35d882c90514aa8d685cd5bf);\n",
       "        \n",
       "    \n",
       "            var icon_a9928c97724138be160b77be06306dfa = L.AwesomeMarkers.icon(\n",
       "                {\n",
       "  &quot;markerColor&quot;: &quot;green&quot;,\n",
       "  &quot;iconColor&quot;: &quot;white&quot;,\n",
       "  &quot;icon&quot;: &quot;info-sign&quot;,\n",
       "  &quot;prefix&quot;: &quot;glyphicon&quot;,\n",
       "  &quot;extraClasses&quot;: &quot;fa-rotate-0&quot;,\n",
       "}\n",
       "            );\n",
       "            marker_270743e0cab55f9fc7c910af78e1d4cf.setIcon(icon_a9928c97724138be160b77be06306dfa);\n",
       "        \n",
       "    \n",
       "        var popup_b60e8c22854e0c980801d01862e7804f = L.popup({\n",
       "  &quot;maxWidth&quot;: &quot;100%&quot;,\n",
       "});\n",
       "\n",
       "        \n",
       "            \n",
       "                var html_ea9c052a9842f23c8c5e395ee3d94883 = $(`&lt;div id=&quot;html_ea9c052a9842f23c8c5e395ee3d94883&quot; style=&quot;width: 100.0%; height: 100.0%;&quot;&gt;Wikidata: &lt;a target=&#x27;_blank&#x27; href=&#x27;http://www.wikidata.org/entity/Q2040499&#x27;&gt;V.C. Corner Australian Cemetery and Memorial&lt;/div&gt;`)[0];\n",
       "                popup_b60e8c22854e0c980801d01862e7804f.setContent(html_ea9c052a9842f23c8c5e395ee3d94883);\n",
       "            \n",
       "        \n",
       "\n",
       "        marker_270743e0cab55f9fc7c910af78e1d4cf.bindPopup(popup_b60e8c22854e0c980801d01862e7804f)\n",
       "        ;\n",
       "\n",
       "        \n",
       "    \n",
       "    \n",
       "            var marker_0bb3cad665608e813ac7909c588e1ebe = L.marker(\n",
       "                [49.886238, 2.5082],\n",
       "                {\n",
       "}\n",
       "            ).addTo(map_9852e89f35d882c90514aa8d685cd5bf);\n",
       "        \n",
       "    \n",
       "            var icon_c9c444020c3ecda465704c5cf494cc84 = L.AwesomeMarkers.icon(\n",
       "                {\n",
       "  &quot;markerColor&quot;: &quot;green&quot;,\n",
       "  &quot;iconColor&quot;: &quot;white&quot;,\n",
       "  &quot;icon&quot;: &quot;info-sign&quot;,\n",
       "  &quot;prefix&quot;: &quot;glyphicon&quot;,\n",
       "  &quot;extraClasses&quot;: &quot;fa-rotate-0&quot;,\n",
       "}\n",
       "            );\n",
       "            marker_0bb3cad665608e813ac7909c588e1ebe.setIcon(icon_c9c444020c3ecda465704c5cf494cc84);\n",
       "        \n",
       "    \n",
       "        var popup_4a9f495d53bf945239ff73ed4942698e = L.popup({\n",
       "  &quot;maxWidth&quot;: &quot;100%&quot;,\n",
       "});\n",
       "\n",
       "        \n",
       "            \n",
       "                var html_bb08806af1759ff2eec1ebdc95f4c905 = $(`&lt;div id=&quot;html_bb08806af1759ff2eec1ebdc95f4c905&quot; style=&quot;width: 100.0%; height: 100.0%;&quot;&gt;Wikidata: &lt;a target=&#x27;_blank&#x27; href=&#x27;http://www.wikidata.org/entity/Q2065958&#x27;&gt;Villers-Bretonneux Military Cemetery&lt;/div&gt;`)[0];\n",
       "                popup_4a9f495d53bf945239ff73ed4942698e.setContent(html_bb08806af1759ff2eec1ebdc95f4c905);\n",
       "            \n",
       "        \n",
       "\n",
       "        marker_0bb3cad665608e813ac7909c588e1ebe.bindPopup(popup_4a9f495d53bf945239ff73ed4942698e)\n",
       "        ;\n",
       "\n",
       "        \n",
       "    \n",
       "    \n",
       "            var marker_8a4439cdac065af20152bc7d60fcbceb = L.marker(\n",
       "                [50.186239, 1.722842],\n",
       "                {\n",
       "}\n",
       "            ).addTo(map_9852e89f35d882c90514aa8d685cd5bf);\n",
       "        \n",
       "    \n",
       "            var icon_2db95957a11e7a34281e6ca4f0cee550 = L.AwesomeMarkers.icon(\n",
       "                {\n",
       "  &quot;markerColor&quot;: &quot;green&quot;,\n",
       "  &quot;iconColor&quot;: &quot;white&quot;,\n",
       "  &quot;icon&quot;: &quot;info-sign&quot;,\n",
       "  &quot;prefix&quot;: &quot;glyphicon&quot;,\n",
       "  &quot;extraClasses&quot;: &quot;fa-rotate-0&quot;,\n",
       "}\n",
       "            );\n",
       "            marker_8a4439cdac065af20152bc7d60fcbceb.setIcon(icon_2db95957a11e7a34281e6ca4f0cee550);\n",
       "        \n",
       "    \n",
       "        var popup_fc4ba2489a58d908081174735e7d4d04 = L.popup({\n",
       "  &quot;maxWidth&quot;: &quot;100%&quot;,\n",
       "});\n",
       "\n",
       "        \n",
       "            \n",
       "                var html_8c4e349f749c7241446632e51c1b2c3e = $(`&lt;div id=&quot;html_8c4e349f749c7241446632e51c1b2c3e&quot; style=&quot;width: 100.0%; height: 100.0%;&quot;&gt;Wikidata: &lt;a target=&#x27;_blank&#x27; href=&#x27;http://www.wikidata.org/entity/Q2135937&#x27;&gt;Noyelles-sur-Mer Chinese Cemetery&lt;/div&gt;`)[0];\n",
       "                popup_fc4ba2489a58d908081174735e7d4d04.setContent(html_8c4e349f749c7241446632e51c1b2c3e);\n",
       "            \n",
       "        \n",
       "\n",
       "        marker_8a4439cdac065af20152bc7d60fcbceb.bindPopup(popup_fc4ba2489a58d908081174735e7d4d04)\n",
       "        ;\n",
       "\n",
       "        \n",
       "    \n",
       "    \n",
       "            var marker_cf6629ce487f8de2f122b1fda03ace4f = L.marker(\n",
       "                [50.061188, 2.683248],\n",
       "                {\n",
       "}\n",
       "            ).addTo(map_9852e89f35d882c90514aa8d685cd5bf);\n",
       "        \n",
       "    \n",
       "            var icon_083b27bcd42370045df94323abe66132 = L.AwesomeMarkers.icon(\n",
       "                {\n",
       "  &quot;markerColor&quot;: &quot;green&quot;,\n",
       "  &quot;iconColor&quot;: &quot;white&quot;,\n",
       "  &quot;icon&quot;: &quot;info-sign&quot;,\n",
       "  &quot;prefix&quot;: &quot;glyphicon&quot;,\n",
       "  &quot;extraClasses&quot;: &quot;fa-rotate-0&quot;,\n",
       "}\n",
       "            );\n",
       "            marker_cf6629ce487f8de2f122b1fda03ace4f.setIcon(icon_083b27bcd42370045df94323abe66132);\n",
       "        \n",
       "    \n",
       "        var popup_7ef32a543bebefa8647a3ad3a2a8a9d3 = L.popup({\n",
       "  &quot;maxWidth&quot;: &quot;100%&quot;,\n",
       "});\n",
       "\n",
       "        \n",
       "            \n",
       "                var html_f98efd96015305b81d7d9f626982b661 = $(`&lt;div id=&quot;html_f98efd96015305b81d7d9f626982b661&quot; style=&quot;width: 100.0%; height: 100.0%;&quot;&gt;Wikidata: &lt;a target=&#x27;_blank&#x27; href=&#x27;http://www.wikidata.org/entity/Q2167127&#x27;&gt;Mill Road Cemetery&lt;/div&gt;`)[0];\n",
       "                popup_7ef32a543bebefa8647a3ad3a2a8a9d3.setContent(html_f98efd96015305b81d7d9f626982b661);\n",
       "            \n",
       "        \n",
       "\n",
       "        marker_cf6629ce487f8de2f122b1fda03ace4f.bindPopup(popup_7ef32a543bebefa8647a3ad3a2a8a9d3)\n",
       "        ;\n",
       "\n",
       "        \n",
       "    \n",
       "    \n",
       "            var marker_d62f28db7bdf55922c108453e2e3ea0d = L.marker(\n",
       "                [50.460067, 2.771216],\n",
       "                {\n",
       "}\n",
       "            ).addTo(map_9852e89f35d882c90514aa8d685cd5bf);\n",
       "        \n",
       "    \n",
       "            var icon_2a8a9bd646580bfe6856867457cb0448 = L.AwesomeMarkers.icon(\n",
       "                {\n",
       "  &quot;markerColor&quot;: &quot;green&quot;,\n",
       "  &quot;iconColor&quot;: &quot;white&quot;,\n",
       "  &quot;icon&quot;: &quot;info-sign&quot;,\n",
       "  &quot;prefix&quot;: &quot;glyphicon&quot;,\n",
       "  &quot;extraClasses&quot;: &quot;fa-rotate-0&quot;,\n",
       "}\n",
       "            );\n",
       "            marker_d62f28db7bdf55922c108453e2e3ea0d.setIcon(icon_2a8a9bd646580bfe6856867457cb0448);\n",
       "        \n",
       "    \n",
       "        var popup_d52d47f2a2f4a3f94ca9879876946c0b = L.popup({\n",
       "  &quot;maxWidth&quot;: &quot;100%&quot;,\n",
       "});\n",
       "\n",
       "        \n",
       "            \n",
       "                var html_ea9fe0f76423cc6f810e3bee0ec11641 = $(`&lt;div id=&quot;html_ea9fe0f76423cc6f810e3bee0ec11641&quot; style=&quot;width: 100.0%; height: 100.0%;&quot;&gt;Wikidata: &lt;a target=&#x27;_blank&#x27; href=&#x27;http://www.wikidata.org/entity/Q2170407&#x27;&gt;Dud Corner Cemetery&lt;/div&gt;`)[0];\n",
       "                popup_d52d47f2a2f4a3f94ca9879876946c0b.setContent(html_ea9fe0f76423cc6f810e3bee0ec11641);\n",
       "            \n",
       "        \n",
       "\n",
       "        marker_d62f28db7bdf55922c108453e2e3ea0d.bindPopup(popup_d52d47f2a2f4a3f94ca9879876946c0b)\n",
       "        ;\n",
       "\n",
       "        \n",
       "    \n",
       "    \n",
       "            var marker_3b3eb42730933130cd7ac8dc5e7fc482 = L.marker(\n",
       "                [49.334167, 5.093333],\n",
       "                {\n",
       "}\n",
       "            ).addTo(map_9852e89f35d882c90514aa8d685cd5bf);\n",
       "        \n",
       "    \n",
       "            var icon_73c9f39ef125803005077ab069594034 = L.AwesomeMarkers.icon(\n",
       "                {\n",
       "  &quot;markerColor&quot;: &quot;green&quot;,\n",
       "  &quot;iconColor&quot;: &quot;white&quot;,\n",
       "  &quot;icon&quot;: &quot;info-sign&quot;,\n",
       "  &quot;prefix&quot;: &quot;glyphicon&quot;,\n",
       "  &quot;extraClasses&quot;: &quot;fa-rotate-0&quot;,\n",
       "}\n",
       "            );\n",
       "            marker_3b3eb42730933130cd7ac8dc5e7fc482.setIcon(icon_73c9f39ef125803005077ab069594034);\n",
       "        \n",
       "    \n",
       "        var popup_906cbe4a6114e32d957ab974f56b2382 = L.popup({\n",
       "  &quot;maxWidth&quot;: &quot;100%&quot;,\n",
       "});\n",
       "\n",
       "        \n",
       "            \n",
       "                var html_2d3e157bb3d5cbbf148e34daa5dd8509 = $(`&lt;div id=&quot;html_2d3e157bb3d5cbbf148e34daa5dd8509&quot; style=&quot;width: 100.0%; height: 100.0%;&quot;&gt;Wikidata: &lt;a target=&#x27;_blank&#x27; href=&#x27;http://www.wikidata.org/entity/Q2215301&#x27;&gt;Meuse-Argonne American Cemetery&lt;/div&gt;`)[0];\n",
       "                popup_906cbe4a6114e32d957ab974f56b2382.setContent(html_2d3e157bb3d5cbbf148e34daa5dd8509);\n",
       "            \n",
       "        \n",
       "\n",
       "        marker_3b3eb42730933130cd7ac8dc5e7fc482.bindPopup(popup_906cbe4a6114e32d957ab974f56b2382)\n",
       "        ;\n",
       "\n",
       "        \n",
       "    \n",
       "    \n",
       "            var marker_2a90c48db96746b98bd76b7d59e6c6fe = L.marker(\n",
       "                [48.85, 2.35889],\n",
       "                {\n",
       "}\n",
       "            ).addTo(map_9852e89f35d882c90514aa8d685cd5bf);\n",
       "        \n",
       "    \n",
       "            var icon_e4e117bb64b8f5530259ae9cb5d78d2f = L.AwesomeMarkers.icon(\n",
       "                {\n",
       "  &quot;markerColor&quot;: &quot;green&quot;,\n",
       "  &quot;iconColor&quot;: &quot;white&quot;,\n",
       "  &quot;icon&quot;: &quot;info-sign&quot;,\n",
       "  &quot;prefix&quot;: &quot;glyphicon&quot;,\n",
       "  &quot;extraClasses&quot;: &quot;fa-rotate-0&quot;,\n",
       "}\n",
       "            );\n",
       "            marker_2a90c48db96746b98bd76b7d59e6c6fe.setIcon(icon_e4e117bb64b8f5530259ae9cb5d78d2f);\n",
       "        \n",
       "    \n",
       "        var popup_dbb65a92a255a696f91d0f7c29e339a5 = L.popup({\n",
       "  &quot;maxWidth&quot;: &quot;100%&quot;,\n",
       "});\n",
       "\n",
       "        \n",
       "            \n",
       "                var html_5c548268e6fd7c88dde5e9dbddb7059d = $(`&lt;div id=&quot;html_5c548268e6fd7c88dde5e9dbddb7059d&quot; style=&quot;width: 100.0%; height: 100.0%;&quot;&gt;Wikidata: &lt;a target=&#x27;_blank&#x27; href=&#x27;http://www.wikidata.org/entity/Q2233532&#x27;&gt;banks of the Seine&lt;/div&gt;`)[0];\n",
       "                popup_dbb65a92a255a696f91d0f7c29e339a5.setContent(html_5c548268e6fd7c88dde5e9dbddb7059d);\n",
       "            \n",
       "        \n",
       "\n",
       "        marker_2a90c48db96746b98bd76b7d59e6c6fe.bindPopup(popup_dbb65a92a255a696f91d0f7c29e339a5)\n",
       "        ;\n",
       "\n",
       "        \n",
       "    \n",
       "    \n",
       "            var marker_2467cabcbbdf9a63895e2df72ad2b60a = L.marker(\n",
       "                [44.838888888, -0.572222222],\n",
       "                {\n",
       "}\n",
       "            ).addTo(map_9852e89f35d882c90514aa8d685cd5bf);\n",
       "        \n",
       "    \n",
       "            var icon_db0664628c8e6c99d35e5aa1da473c79 = L.AwesomeMarkers.icon(\n",
       "                {\n",
       "  &quot;markerColor&quot;: &quot;green&quot;,\n",
       "  &quot;iconColor&quot;: &quot;white&quot;,\n",
       "  &quot;icon&quot;: &quot;info-sign&quot;,\n",
       "  &quot;prefix&quot;: &quot;glyphicon&quot;,\n",
       "  &quot;extraClasses&quot;: &quot;fa-rotate-0&quot;,\n",
       "}\n",
       "            );\n",
       "            marker_2467cabcbbdf9a63895e2df72ad2b60a.setIcon(icon_db0664628c8e6c99d35e5aa1da473c79);\n",
       "        \n",
       "    \n",
       "        var popup_8f6c05f88aa217f57c3787c879e567e8 = L.popup({\n",
       "  &quot;maxWidth&quot;: &quot;100%&quot;,\n",
       "});\n",
       "\n",
       "        \n",
       "            \n",
       "                var html_f3d824272e0654983167a14eb19857d3 = $(`&lt;div id=&quot;html_f3d824272e0654983167a14eb19857d3&quot; style=&quot;width: 100.0%; height: 100.0%;&quot;&gt;Wikidata: &lt;a target=&#x27;_blank&#x27; href=&#x27;http://www.wikidata.org/entity/Q2249113&#x27;&gt;port of the Moon&lt;/div&gt;`)[0];\n",
       "                popup_8f6c05f88aa217f57c3787c879e567e8.setContent(html_f3d824272e0654983167a14eb19857d3);\n",
       "            \n",
       "        \n",
       "\n",
       "        marker_2467cabcbbdf9a63895e2df72ad2b60a.bindPopup(popup_8f6c05f88aa217f57c3787c879e567e8)\n",
       "        ;\n",
       "\n",
       "        \n",
       "    \n",
       "    \n",
       "            var marker_4cc9eb28efacd46d518fb055236928b9 = L.marker(\n",
       "                [-21.0994, 55.48],\n",
       "                {\n",
       "}\n",
       "            ).addTo(map_9852e89f35d882c90514aa8d685cd5bf);\n",
       "        \n",
       "    \n",
       "            var icon_96baa3e28234c8e16e319bb02585415f = L.AwesomeMarkers.icon(\n",
       "                {\n",
       "  &quot;markerColor&quot;: &quot;green&quot;,\n",
       "  &quot;iconColor&quot;: &quot;white&quot;,\n",
       "  &quot;icon&quot;: &quot;info-sign&quot;,\n",
       "  &quot;prefix&quot;: &quot;glyphicon&quot;,\n",
       "  &quot;extraClasses&quot;: &quot;fa-rotate-0&quot;,\n",
       "}\n",
       "            );\n",
       "            marker_4cc9eb28efacd46d518fb055236928b9.setIcon(icon_96baa3e28234c8e16e319bb02585415f);\n",
       "        \n",
       "    \n",
       "        var popup_e2a869ad193d229f935e4ac0c8859c04 = L.popup({\n",
       "  &quot;maxWidth&quot;: &quot;100%&quot;,\n",
       "});\n",
       "\n",
       "        \n",
       "            \n",
       "                var html_5132fe139003dd2b85757e731e9597da = $(`&lt;div id=&quot;html_5132fe139003dd2b85757e731e9597da&quot; style=&quot;width: 100.0%; height: 100.0%;&quot;&gt;Wikidata: &lt;a target=&#x27;_blank&#x27; href=&#x27;http://www.wikidata.org/entity/Q2710055&#x27;&gt;Pitons, cirques and remparts of Reunion Island&lt;/div&gt;`)[0];\n",
       "                popup_e2a869ad193d229f935e4ac0c8859c04.setContent(html_5132fe139003dd2b85757e731e9597da);\n",
       "            \n",
       "        \n",
       "\n",
       "        marker_4cc9eb28efacd46d518fb055236928b9.bindPopup(popup_e2a869ad193d229f935e4ac0c8859c04)\n",
       "        ;\n",
       "\n",
       "        \n",
       "    \n",
       "    \n",
       "            var marker_f5f533d851dbd595fb2cfe0e9b1facf0 = L.marker(\n",
       "                [50.286982, 2.760652],\n",
       "                {\n",
       "}\n",
       "            ).addTo(map_9852e89f35d882c90514aa8d685cd5bf);\n",
       "        \n",
       "    \n",
       "            var icon_10ebd8df80368d32293fd906d868fcb5 = L.AwesomeMarkers.icon(\n",
       "                {\n",
       "  &quot;markerColor&quot;: &quot;green&quot;,\n",
       "  &quot;iconColor&quot;: &quot;white&quot;,\n",
       "  &quot;icon&quot;: &quot;info-sign&quot;,\n",
       "  &quot;prefix&quot;: &quot;glyphicon&quot;,\n",
       "  &quot;extraClasses&quot;: &quot;fa-rotate-0&quot;,\n",
       "}\n",
       "            );\n",
       "            marker_f5f533d851dbd595fb2cfe0e9b1facf0.setIcon(icon_10ebd8df80368d32293fd906d868fcb5);\n",
       "        \n",
       "    \n",
       "        var popup_72976dc4485db30a0318de2628c7daec = L.popup({\n",
       "  &quot;maxWidth&quot;: &quot;100%&quot;,\n",
       "});\n",
       "\n",
       "        \n",
       "            \n",
       "                var html_7a141c343b2589574e021fc5c5c3df6b = $(`&lt;div id=&quot;html_7a141c343b2589574e021fc5c5c3df6b&quot; style=&quot;width: 100.0%; height: 100.0%;&quot;&gt;Wikidata: &lt;a target=&#x27;_blank&#x27; href=&#x27;http://www.wikidata.org/entity/Q2782982&#x27;&gt;Arras Memorial&lt;/div&gt;`)[0];\n",
       "                popup_72976dc4485db30a0318de2628c7daec.setContent(html_7a141c343b2589574e021fc5c5c3df6b);\n",
       "            \n",
       "        \n",
       "\n",
       "        marker_f5f533d851dbd595fb2cfe0e9b1facf0.bindPopup(popup_72976dc4485db30a0318de2628c7daec)\n",
       "        ;\n",
       "\n",
       "        \n",
       "    \n",
       "&lt;/script&gt;\n",
       "&lt;/html&gt;\" style=\"position:absolute;width:100%;height:100%;left:0;top:0;border:none !important;\" allowfullscreen webkitallowfullscreen mozallowfullscreen></iframe></div></div>"
      ],
      "text/plain": [
       "<folium.folium.Map at 0x235b09a3770>"
      ]
     },
     "execution_count": 26,
     "metadata": {},
     "output_type": "execute_result"
    }
   ],
   "source": [
    "i = 0\n",
    "for coordinates in geo_df_list:\n",
    "    map.add_child(\n",
    "        folium.Marker(\n",
    "            location=coordinates,\n",
    "            icon=folium.Icon(color=\"green\"),\n",
    "            popup=\"Wikidata: <a target='_blank' href='\"\n",
    "            + str(geodataframe.ID[i])\n",
    "            + \"'>\"\n",
    "            + str(geodataframe.label[i]),\n",
    "        )\n",
    "    )\n",
    "    i = i + 1\n",
    "\n",
    "map"
   ]
  },
  {
   "cell_type": "code",
   "execution_count": null,
   "id": "44de8dde-35bd-41da-8b9a-208b4e99d303",
   "metadata": {},
   "outputs": [],
   "source": []
  }
 ],
 "metadata": {
  "kernelspec": {
   "display_name": "Python 3",
   "language": "python",
   "name": "python3"
  },
  "language_info": {
   "codemirror_mode": {
    "name": "ipython",
    "version": 3
   },
   "file_extension": ".py",
   "mimetype": "text/x-python",
   "name": "python",
   "nbconvert_exporter": "python",
   "pygments_lexer": "ipython3",
   "version": "3.12.2"
  },
  "toc-autonumbering": true,
  "toc-showmarkdowntxt": true
 },
 "nbformat": 4,
 "nbformat_minor": 5
}
