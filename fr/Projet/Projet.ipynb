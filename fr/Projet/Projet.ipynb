{
 "cells": [
  {
   "cell_type": "code",
   "execution_count": null,
   "id": "b8b0a36b-e7ac-42fc-8a93-92d81c0e1b84",
   "metadata": {},
   "outputs": [],
   "source": [
    "# SELECT DISTINCT ?image ?date ?car ?carLabel ?brandLabel \n",
    "# WHERE {\n",
    "#   ?car wdt:P31 wd:Q850270;     \n",
    "#        wdt:P18 ?image;      \n",
    "#        wdt:P571 ?date;\n",
    "#        wdt:P176 ?brand;     \n",
    "#        rdfs:label ?carLabel.\n",
    "  \n",
    "#   ?brand rdfs:label ?brandLabel.\n",
    "  \n",
    "#   FILTER(LANG(?carLabel) = \"fr\" && LANG(?brandLabel) = \"fr\")\n",
    "# }"
   ]
  }
 ],
 "metadata": {
  "kernelspec": {
   "display_name": "Python 3 (ipykernel)",
   "language": "python",
   "name": "python3"
  },
  "language_info": {
   "codemirror_mode": {
    "name": "ipython",
    "version": 3
   },
   "file_extension": ".py",
   "mimetype": "text/x-python",
   "name": "python",
   "nbconvert_exporter": "python",
   "pygments_lexer": "ipython3",
   "version": "3.12.2"
  }
 },
 "nbformat": 4,
 "nbformat_minor": 5
}
